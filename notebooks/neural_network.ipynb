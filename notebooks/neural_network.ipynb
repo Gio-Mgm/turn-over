{
 "metadata": {
  "language_info": {
   "codemirror_mode": {
    "name": "ipython",
    "version": 3
   },
   "file_extension": ".py",
   "mimetype": "text/x-python",
   "name": "python",
   "nbconvert_exporter": "python",
   "pygments_lexer": "ipython3",
   "version": "3.8.5"
  },
  "orig_nbformat": 2,
  "kernelspec": {
   "name": "python385jvsc74a57bd08224d4ec9857f5f2d3915b47613da9acc0e9c91d6b4c8d2fd51c493a871d537c",
   "display_name": "Python 3.8.5 64-bit ('base': conda)"
  },
  "metadata": {
   "interpreter": {
    "hash": "8224d4ec9857f5f2d3915b47613da9acc0e9c91d6b4c8d2fd51c493a871d537c"
   }
  }
 },
 "nbformat": 4,
 "nbformat_minor": 2,
 "cells": [
  {
   "cell_type": "code",
   "execution_count": 56,
   "metadata": {},
   "outputs": [],
   "source": [
    "import sys\n",
    "sys.path.append(\"../src\")\n",
    "import pandas as pd\n",
    "import numpy as np\n",
    "from tensorflow.keras import Sequential, layers, callbacks\n",
    "from functions import get_df_uniques"
   ]
  },
  {
   "cell_type": "code",
   "execution_count": 57,
   "metadata": {},
   "outputs": [],
   "source": [
    "df = pd.read_csv(\"../data/01_raw/attrition_train.csv\")"
   ]
  },
  {
   "cell_type": "code",
   "execution_count": 58,
   "metadata": {},
   "outputs": [],
   "source": [
    "df[\"Attrition\"] = df[\"Attrition\"].apply(lambda x: 0 if x == \"No\" else 1)"
   ]
  },
  {
   "cell_type": "code",
   "execution_count": 59,
   "metadata": {},
   "outputs": [
    {
     "output_type": "stream",
     "name": "stdout",
     "text": [
      "<class 'pandas.core.frame.DataFrame'>\nRangeIndex: 1100 entries, 0 to 1099\nData columns (total 35 columns):\n #   Column                    Non-Null Count  Dtype \n---  ------                    --------------  ----- \n 0   Age                       1100 non-null   int64 \n 1   Attrition                 1100 non-null   int64 \n 2   BusinessTravel            1100 non-null   object\n 3   DailyRate                 1100 non-null   int64 \n 4   Department                1100 non-null   object\n 5   DistanceFromHome          1100 non-null   int64 \n 6   Education                 1100 non-null   int64 \n 7   EducationField            1100 non-null   object\n 8   EmployeeCount             1100 non-null   int64 \n 9   EmployeeNumber            1100 non-null   int64 \n 10  EnvironmentSatisfaction   1100 non-null   int64 \n 11  Gender                    1100 non-null   object\n 12  HourlyRate                1100 non-null   int64 \n 13  JobInvolvement            1100 non-null   int64 \n 14  JobLevel                  1100 non-null   int64 \n 15  JobRole                   1100 non-null   object\n 16  JobSatisfaction           1100 non-null   int64 \n 17  MaritalStatus             1100 non-null   object\n 18  MonthlyIncome             1100 non-null   int64 \n 19  MonthlyRate               1100 non-null   int64 \n 20  NumCompaniesWorked        1100 non-null   int64 \n 21  Over18                    1100 non-null   object\n 22  OverTime                  1100 non-null   object\n 23  PercentSalaryHike         1100 non-null   int64 \n 24  PerformanceRating         1100 non-null   int64 \n 25  RelationshipSatisfaction  1100 non-null   int64 \n 26  StandardHours             1100 non-null   int64 \n 27  StockOptionLevel          1100 non-null   int64 \n 28  TotalWorkingYears         1100 non-null   int64 \n 29  TrainingTimesLastYear     1100 non-null   int64 \n 30  WorkLifeBalance           1100 non-null   int64 \n 31  YearsAtCompany            1100 non-null   int64 \n 32  YearsInCurrentRole        1100 non-null   int64 \n 33  YearsSinceLastPromotion   1100 non-null   int64 \n 34  YearsWithCurrManager      1100 non-null   int64 \ndtypes: int64(27), object(8)\nmemory usage: 300.9+ KB\n"
     ]
    }
   ],
   "source": [
    "df.info()"
   ]
  },
  {
   "cell_type": "code",
   "execution_count": 60,
   "metadata": {},
   "outputs": [
    {
     "output_type": "execute_result",
     "data": {
      "text/plain": [
       "array([38, 52, 28, 43, 27, 37, 29, 36, 55, 40, 57, 31, 33, 21, 54, 41, 25,\n",
       "       47, 32, 58, 20, 50, 39, 30, 42, 35, 26, 49, 56, 34, 51, 24, 46, 48,\n",
       "       45, 59, 22, 23, 19, 44, 18, 53, 60])"
      ]
     },
     "metadata": {},
     "execution_count": 60
    }
   ],
   "source": [
    "df[\"Age\"].unique()"
   ]
  },
  {
   "cell_type": "code",
   "execution_count": 61,
   "metadata": {},
   "outputs": [
    {
     "output_type": "execute_result",
     "data": {
      "text/plain": [
       "                    Features  Unique Number  \\\n",
       "0                        Age             43   \n",
       "1                  Attrition              2   \n",
       "2             BusinessTravel              3   \n",
       "3                  DailyRate            762   \n",
       "4                 Department              3   \n",
       "5           DistanceFromHome             29   \n",
       "6                  Education              5   \n",
       "7             EducationField              6   \n",
       "8              EmployeeCount              1   \n",
       "9             EmployeeNumber           1100   \n",
       "10   EnvironmentSatisfaction              4   \n",
       "11                    Gender              2   \n",
       "12                HourlyRate             71   \n",
       "13            JobInvolvement              4   \n",
       "14                  JobLevel              5   \n",
       "15                   JobRole              9   \n",
       "16           JobSatisfaction              4   \n",
       "17             MaritalStatus              3   \n",
       "18             MonthlyIncome           1028   \n",
       "19               MonthlyRate           1076   \n",
       "20        NumCompaniesWorked             10   \n",
       "21                    Over18              1   \n",
       "22                  OverTime              2   \n",
       "23         PercentSalaryHike             15   \n",
       "24         PerformanceRating              2   \n",
       "25  RelationshipSatisfaction              4   \n",
       "26             StandardHours              1   \n",
       "27          StockOptionLevel              4   \n",
       "28         TotalWorkingYears             39   \n",
       "29     TrainingTimesLastYear              7   \n",
       "30           WorkLifeBalance              4   \n",
       "31            YearsAtCompany             35   \n",
       "32        YearsInCurrentRole             18   \n",
       "33   YearsSinceLastPromotion             16   \n",
       "34      YearsWithCurrManager             18   \n",
       "\n",
       "                                               Values  \n",
       "0   [38, 52, 28, 43, 27, 37, 29, 36, 55, 40, 57, 3...  \n",
       "1                                              [0, 1]  \n",
       "2      [Travel_Frequently, Non-Travel, Travel_Rarely]  \n",
       "3   [240, 322, 1476, 920, 443, 309, 459, 566, 1229...  \n",
       "4    [Research & Development, Sales, Human Resources]  \n",
       "5   [2, 28, 1, 3, 10, 24, 18, 4, 20, 6, 26, 12, 23...  \n",
       "6                                     [4, 2, 3, 1, 5]  \n",
       "7   [Life Sciences, Medical, Human Resources, Othe...  \n",
       "8                                                 [1]  \n",
       "9   [803, 1401, 1315, 1255, 850, 1105, 1868, 407, ...  \n",
       "10                                       [1, 4, 3, 2]  \n",
       "11                                     [Female, Male]  \n",
       "12  [75, 59, 55, 96, 50, 88, 73, 81, 30, 86, 93, 7...  \n",
       "13                                       [4, 1, 3, 2]  \n",
       "14                                    [2, 4, 5, 1, 3]  \n",
       "15  [Manufacturing Director, Laboratory Technician...  \n",
       "16                                       [1, 3, 4, 2]  \n",
       "17                        [Single, Married, Divorced]  \n",
       "18  [5980, 13247, 6674, 19740, 1706, 6694, 2439, 3...  \n",
       "19  [26085, 9731, 16392, 18625, 16571, 24223, 1475...  \n",
       "20                     [6, 2, 0, 3, 1, 4, 5, 7, 9, 8]  \n",
       "21                                                [Y]  \n",
       "22                                          [Yes, No]  \n",
       "23  [12, 11, 14, 24, 18, 16, 20, 23, 19, 13, 21, 2...  \n",
       "24                                             [3, 4]  \n",
       "25                                       [4, 2, 1, 3]  \n",
       "26                                               [80]  \n",
       "27                                       [0, 1, 3, 2]  \n",
       "28  [17, 24, 10, 25, 0, 8, 1, 4, 5, 13, 15, 18, 16...  \n",
       "29                              [2, 3, 6, 5, 0, 4, 1]  \n",
       "30                                       [3, 2, 1, 4]  \n",
       "31  [15, 5, 9, 8, 0, 1, 3, 4, 12, 2, 13, 16, 14, 2...  \n",
       "32  [7, 3, 8, 0, 2, 9, 11, 10, 12, 4, 6, 1, 14, 15...  \n",
       "33  [4, 0, 7, 1, 2, 11, 3, 6, 5, 8, 15, 12, 14, 9,...  \n",
       "34  [12, 2, 5, 7, 0, 3, 8, 4, 14, 1, 9, 6, 17, 16,...  "
      ],
      "text/html": "<div>\n<style scoped>\n    .dataframe tbody tr th:only-of-type {\n        vertical-align: middle;\n    }\n\n    .dataframe tbody tr th {\n        vertical-align: top;\n    }\n\n    .dataframe thead th {\n        text-align: right;\n    }\n</style>\n<table border=\"1\" class=\"dataframe\">\n  <thead>\n    <tr style=\"text-align: right;\">\n      <th></th>\n      <th>Features</th>\n      <th>Unique Number</th>\n      <th>Values</th>\n    </tr>\n  </thead>\n  <tbody>\n    <tr>\n      <th>0</th>\n      <td>Age</td>\n      <td>43</td>\n      <td>[38, 52, 28, 43, 27, 37, 29, 36, 55, 40, 57, 3...</td>\n    </tr>\n    <tr>\n      <th>1</th>\n      <td>Attrition</td>\n      <td>2</td>\n      <td>[0, 1]</td>\n    </tr>\n    <tr>\n      <th>2</th>\n      <td>BusinessTravel</td>\n      <td>3</td>\n      <td>[Travel_Frequently, Non-Travel, Travel_Rarely]</td>\n    </tr>\n    <tr>\n      <th>3</th>\n      <td>DailyRate</td>\n      <td>762</td>\n      <td>[240, 322, 1476, 920, 443, 309, 459, 566, 1229...</td>\n    </tr>\n    <tr>\n      <th>4</th>\n      <td>Department</td>\n      <td>3</td>\n      <td>[Research &amp; Development, Sales, Human Resources]</td>\n    </tr>\n    <tr>\n      <th>5</th>\n      <td>DistanceFromHome</td>\n      <td>29</td>\n      <td>[2, 28, 1, 3, 10, 24, 18, 4, 20, 6, 26, 12, 23...</td>\n    </tr>\n    <tr>\n      <th>6</th>\n      <td>Education</td>\n      <td>5</td>\n      <td>[4, 2, 3, 1, 5]</td>\n    </tr>\n    <tr>\n      <th>7</th>\n      <td>EducationField</td>\n      <td>6</td>\n      <td>[Life Sciences, Medical, Human Resources, Othe...</td>\n    </tr>\n    <tr>\n      <th>8</th>\n      <td>EmployeeCount</td>\n      <td>1</td>\n      <td>[1]</td>\n    </tr>\n    <tr>\n      <th>9</th>\n      <td>EmployeeNumber</td>\n      <td>1100</td>\n      <td>[803, 1401, 1315, 1255, 850, 1105, 1868, 407, ...</td>\n    </tr>\n    <tr>\n      <th>10</th>\n      <td>EnvironmentSatisfaction</td>\n      <td>4</td>\n      <td>[1, 4, 3, 2]</td>\n    </tr>\n    <tr>\n      <th>11</th>\n      <td>Gender</td>\n      <td>2</td>\n      <td>[Female, Male]</td>\n    </tr>\n    <tr>\n      <th>12</th>\n      <td>HourlyRate</td>\n      <td>71</td>\n      <td>[75, 59, 55, 96, 50, 88, 73, 81, 30, 86, 93, 7...</td>\n    </tr>\n    <tr>\n      <th>13</th>\n      <td>JobInvolvement</td>\n      <td>4</td>\n      <td>[4, 1, 3, 2]</td>\n    </tr>\n    <tr>\n      <th>14</th>\n      <td>JobLevel</td>\n      <td>5</td>\n      <td>[2, 4, 5, 1, 3]</td>\n    </tr>\n    <tr>\n      <th>15</th>\n      <td>JobRole</td>\n      <td>9</td>\n      <td>[Manufacturing Director, Laboratory Technician...</td>\n    </tr>\n    <tr>\n      <th>16</th>\n      <td>JobSatisfaction</td>\n      <td>4</td>\n      <td>[1, 3, 4, 2]</td>\n    </tr>\n    <tr>\n      <th>17</th>\n      <td>MaritalStatus</td>\n      <td>3</td>\n      <td>[Single, Married, Divorced]</td>\n    </tr>\n    <tr>\n      <th>18</th>\n      <td>MonthlyIncome</td>\n      <td>1028</td>\n      <td>[5980, 13247, 6674, 19740, 1706, 6694, 2439, 3...</td>\n    </tr>\n    <tr>\n      <th>19</th>\n      <td>MonthlyRate</td>\n      <td>1076</td>\n      <td>[26085, 9731, 16392, 18625, 16571, 24223, 1475...</td>\n    </tr>\n    <tr>\n      <th>20</th>\n      <td>NumCompaniesWorked</td>\n      <td>10</td>\n      <td>[6, 2, 0, 3, 1, 4, 5, 7, 9, 8]</td>\n    </tr>\n    <tr>\n      <th>21</th>\n      <td>Over18</td>\n      <td>1</td>\n      <td>[Y]</td>\n    </tr>\n    <tr>\n      <th>22</th>\n      <td>OverTime</td>\n      <td>2</td>\n      <td>[Yes, No]</td>\n    </tr>\n    <tr>\n      <th>23</th>\n      <td>PercentSalaryHike</td>\n      <td>15</td>\n      <td>[12, 11, 14, 24, 18, 16, 20, 23, 19, 13, 21, 2...</td>\n    </tr>\n    <tr>\n      <th>24</th>\n      <td>PerformanceRating</td>\n      <td>2</td>\n      <td>[3, 4]</td>\n    </tr>\n    <tr>\n      <th>25</th>\n      <td>RelationshipSatisfaction</td>\n      <td>4</td>\n      <td>[4, 2, 1, 3]</td>\n    </tr>\n    <tr>\n      <th>26</th>\n      <td>StandardHours</td>\n      <td>1</td>\n      <td>[80]</td>\n    </tr>\n    <tr>\n      <th>27</th>\n      <td>StockOptionLevel</td>\n      <td>4</td>\n      <td>[0, 1, 3, 2]</td>\n    </tr>\n    <tr>\n      <th>28</th>\n      <td>TotalWorkingYears</td>\n      <td>39</td>\n      <td>[17, 24, 10, 25, 0, 8, 1, 4, 5, 13, 15, 18, 16...</td>\n    </tr>\n    <tr>\n      <th>29</th>\n      <td>TrainingTimesLastYear</td>\n      <td>7</td>\n      <td>[2, 3, 6, 5, 0, 4, 1]</td>\n    </tr>\n    <tr>\n      <th>30</th>\n      <td>WorkLifeBalance</td>\n      <td>4</td>\n      <td>[3, 2, 1, 4]</td>\n    </tr>\n    <tr>\n      <th>31</th>\n      <td>YearsAtCompany</td>\n      <td>35</td>\n      <td>[15, 5, 9, 8, 0, 1, 3, 4, 12, 2, 13, 16, 14, 2...</td>\n    </tr>\n    <tr>\n      <th>32</th>\n      <td>YearsInCurrentRole</td>\n      <td>18</td>\n      <td>[7, 3, 8, 0, 2, 9, 11, 10, 12, 4, 6, 1, 14, 15...</td>\n    </tr>\n    <tr>\n      <th>33</th>\n      <td>YearsSinceLastPromotion</td>\n      <td>16</td>\n      <td>[4, 0, 7, 1, 2, 11, 3, 6, 5, 8, 15, 12, 14, 9,...</td>\n    </tr>\n    <tr>\n      <th>34</th>\n      <td>YearsWithCurrManager</td>\n      <td>18</td>\n      <td>[12, 2, 5, 7, 0, 3, 8, 4, 14, 1, 9, 6, 17, 16,...</td>\n    </tr>\n  </tbody>\n</table>\n</div>"
     },
     "metadata": {},
     "execution_count": 61
    }
   ],
   "source": [
    "get_df_uniques(df)"
   ]
  },
  {
   "cell_type": "code",
   "execution_count": 62,
   "metadata": {},
   "outputs": [],
   "source": [
    "y = df[\"Attrition\"]\n",
    "X = df.drop('Attrition', axis=1)"
   ]
  },
  {
   "cell_type": "code",
   "execution_count": 63,
   "metadata": {},
   "outputs": [
    {
     "output_type": "error",
     "ename": "ValueError",
     "evalue": "could not convert string to float: 'Travel_Frequently'",
     "traceback": [
      "\u001b[0;31m---------------------------------------------------------------------------\u001b[0m",
      "\u001b[0;31mValueError\u001b[0m                                Traceback (most recent call last)",
      "\u001b[0;32m<ipython-input-63-740fbfe2699d>\u001b[0m in \u001b[0;36m<module>\u001b[0;34m\u001b[0m\n\u001b[1;32m     10\u001b[0m \u001b[0mnum_cols\u001b[0m \u001b[0;34m=\u001b[0m \u001b[0mX\u001b[0m\u001b[0;34m.\u001b[0m\u001b[0mselect_dtypes\u001b[0m\u001b[0;34m(\u001b[0m\u001b[0mexclude\u001b[0m\u001b[0;34m=\u001b[0m\u001b[0;34m'O'\u001b[0m\u001b[0;34m)\u001b[0m\u001b[0;34m.\u001b[0m\u001b[0mcolumns\u001b[0m\u001b[0;34m\u001b[0m\u001b[0;34m\u001b[0m\u001b[0m\n\u001b[1;32m     11\u001b[0m \u001b[0;34m\u001b[0m\u001b[0m\n\u001b[0;32m---> 12\u001b[0;31m \u001b[0mX\u001b[0m\u001b[0;34m=\u001b[0m\u001b[0mnp\u001b[0m\u001b[0;34m.\u001b[0m\u001b[0masarray\u001b[0m\u001b[0;34m(\u001b[0m\u001b[0mX\u001b[0m\u001b[0;34m)\u001b[0m\u001b[0;34m.\u001b[0m\u001b[0mastype\u001b[0m\u001b[0;34m(\u001b[0m\u001b[0;34m'float32'\u001b[0m\u001b[0;34m)\u001b[0m\u001b[0;34m\u001b[0m\u001b[0;34m\u001b[0m\u001b[0m\n\u001b[0m\u001b[1;32m     13\u001b[0m \u001b[0;34m\u001b[0m\u001b[0m\n\u001b[1;32m     14\u001b[0m \u001b[0;31m# Data split\u001b[0m\u001b[0;34m\u001b[0m\u001b[0;34m\u001b[0m\u001b[0;34m\u001b[0m\u001b[0m\n",
      "\u001b[0;31mValueError\u001b[0m: could not convert string to float: 'Travel_Frequently'"
     ]
    }
   ],
   "source": [
    "import numpy as np\n",
    "from sklearn.impute import SimpleImputer\n",
    "from sklearn.model_selection import train_test_split\n",
    "from sklearn.pipeline import Pipeline\n",
    "from sklearn.compose import ColumnTransformer\n",
    "from sklearn.preprocessing import OneHotEncoder\n",
    "from sklearn.feature_selection import SelectKBest, chi2\n",
    "\n",
    "cat_cols = X.select_dtypes(include='O').columns\n",
    "num_cols = X.select_dtypes(exclude='O').columns\n",
    "\n",
    "X=np.asarray(X).astype('float32')\n",
    "\n",
    "# Data split\n",
    "X_train, X_test, y_train, y_test = train_test_split(X, y, test_size=.1, random_state=1)\n",
    "\n",
    "# Preprocessing for numerical data\n",
    "num_imp = SimpleImputer(missing_values=np.nan, strategy='mean')\n",
    "\n",
    "# Preprocessing for categorical data\n",
    "cat_imp = Pipeline(steps=[\n",
    "    ('imputer', SimpleImputer(strategy='constant', fill_value='Unknown')),\n",
    "    ('onehot', OneHotEncoder(handle_unknown='ignore'))\n",
    "])\n",
    "\n",
    "preprocessor = ColumnTransformer(\n",
    "    transformers=[\n",
    "        ('numerical', num_imp, num_cols),\n",
    "        ('category', cat_imp, cat_cols)\n",
    "    ])\n",
    "\n",
    "# Preprocessing for feature selection\n",
    "feat_sel = SelectKBest(chi2, k=20)\n",
    "\n",
    "# model\n",
    "model = Sequential([\n",
    "    layers.Dense(32, activation=\"relu\", input_shape=[20]),\n",
    "    layers.Dense(16, activation=\"relu\"),\n",
    "    layers.Dense(8, activation=\"relu\"),\n",
    "    layers.Dense(1, activation=\"sigmoid\")\n",
    "])\n",
    "\n",
    "model.compile(\n",
    "    optimizer=\"adam\",\n",
    "    loss=\"binary_crossentropy\",\n",
    "    metrics=[\"binary_accuracy\"]\n",
    ")\n",
    "\n",
    "early_stopping = callbacks.EarlyStopping(\n",
    "    patience=10,\n",
    "    min_delta=0.001,\n",
    "    restore_best_weights=True,\n",
    ")\n",
    "#Pipeline\n",
    "Sequential_pipeline = Pipeline(steps=[\n",
    "    ('preprocessor', preprocessor),\n",
    "    ('feat_sel', feat_sel),\n",
    "    ('model', model )\n",
    "])\n",
    "\n",
    "Seq = Sequential_pipeline.fit(\n",
    "    X_train, y_train,\n",
    "    model__validation_data=(X_test, y_test),\n",
    "    model__batch_size=512,\n",
    "    model__epochs=1000,\n",
    "    model__callbacks=[early_stopping],\n",
    "    model__verbose=0, # hide the output because we have so many epochs\n",
    ")\n",
    "Sequential_pred = Seq.predict(X_test)\n",
    "show_results(y_test, Sequential_pred)"
   ]
  },
  {
   "cell_type": "code",
   "execution_count": 39,
   "metadata": {},
   "outputs": [
    {
     "output_type": "stream",
     "name": "stdout",
     "text": [
      "<class 'pandas.core.frame.DataFrame'>\nRangeIndex: 1100 entries, 0 to 1099\nData columns (total 34 columns):\n #   Column                    Non-Null Count  Dtype  \n---  ------                    --------------  -----  \n 0   Age                       1100 non-null   float32\n 1   BusinessTravel            1100 non-null   object \n 2   DailyRate                 1100 non-null   float32\n 3   Department                1100 non-null   object \n 4   DistanceFromHome          1100 non-null   float32\n 5   Education                 1100 non-null   float32\n 6   EducationField            1100 non-null   object \n 7   EmployeeCount             1100 non-null   float32\n 8   EmployeeNumber            1100 non-null   float32\n 9   EnvironmentSatisfaction   1100 non-null   float32\n 10  Gender                    1100 non-null   object \n 11  HourlyRate                1100 non-null   float32\n 12  JobInvolvement            1100 non-null   float32\n 13  JobLevel                  1100 non-null   float32\n 14  JobRole                   1100 non-null   object \n 15  JobSatisfaction           1100 non-null   float32\n 16  MaritalStatus             1100 non-null   object \n 17  MonthlyIncome             1100 non-null   float32\n 18  MonthlyRate               1100 non-null   float32\n 19  NumCompaniesWorked        1100 non-null   float32\n 20  Over18                    1100 non-null   object \n 21  OverTime                  1100 non-null   object \n 22  PercentSalaryHike         1100 non-null   float32\n 23  PerformanceRating         1100 non-null   float32\n 24  RelationshipSatisfaction  1100 non-null   float32\n 25  StandardHours             1100 non-null   float32\n 26  StockOptionLevel          1100 non-null   float32\n 27  TotalWorkingYears         1100 non-null   float32\n 28  TrainingTimesLastYear     1100 non-null   float32\n 29  WorkLifeBalance           1100 non-null   float32\n 30  YearsAtCompany            1100 non-null   float32\n 31  YearsInCurrentRole        1100 non-null   float32\n 32  YearsSinceLastPromotion   1100 non-null   float32\n 33  YearsWithCurrManager      1100 non-null   float32\ndtypes: float32(26), object(8)\nmemory usage: 180.6+ KB\n"
     ]
    }
   ],
   "source": [
    "X.info()"
   ]
  },
  {
   "cell_type": "code",
   "execution_count": 10,
   "metadata": {},
   "outputs": [
    {
     "output_type": "error",
     "ename": "ValueError",
     "evalue": "Failed to convert a NumPy array to a Tensor (Unsupported object type int).",
     "traceback": [
      "\u001b[0;31m---------------------------------------------------------------------------\u001b[0m",
      "\u001b[0;31mTypeError\u001b[0m                                 Traceback (most recent call last)",
      "\u001b[0;32m~/anaconda3/lib/python3.8/site-packages/tensorflow/python/data/util/structure.py\u001b[0m in \u001b[0;36mnormalize_element\u001b[0;34m(element, element_signature)\u001b[0m\n\u001b[1;32m    105\u001b[0m         \u001b[0;32mif\u001b[0m \u001b[0mspec\u001b[0m \u001b[0;32mis\u001b[0m \u001b[0;32mNone\u001b[0m\u001b[0;34m:\u001b[0m\u001b[0;34m\u001b[0m\u001b[0;34m\u001b[0m\u001b[0m\n\u001b[0;32m--> 106\u001b[0;31m           \u001b[0mspec\u001b[0m \u001b[0;34m=\u001b[0m \u001b[0mtype_spec_from_value\u001b[0m\u001b[0;34m(\u001b[0m\u001b[0mt\u001b[0m\u001b[0;34m,\u001b[0m \u001b[0muse_fallback\u001b[0m\u001b[0;34m=\u001b[0m\u001b[0;32mFalse\u001b[0m\u001b[0;34m)\u001b[0m\u001b[0;34m\u001b[0m\u001b[0;34m\u001b[0m\u001b[0m\n\u001b[0m\u001b[1;32m    107\u001b[0m       \u001b[0;32mexcept\u001b[0m \u001b[0mTypeError\u001b[0m\u001b[0;34m:\u001b[0m\u001b[0;34m\u001b[0m\u001b[0;34m\u001b[0m\u001b[0m\n",
      "\u001b[0;32m~/anaconda3/lib/python3.8/site-packages/tensorflow/python/data/util/structure.py\u001b[0m in \u001b[0;36mtype_spec_from_value\u001b[0;34m(element, use_fallback)\u001b[0m\n\u001b[1;32m    478\u001b[0m \u001b[0;34m\u001b[0m\u001b[0m\n\u001b[0;32m--> 479\u001b[0;31m   raise TypeError(\"Could not build a TypeSpec for %r with type %s\" %\n\u001b[0m\u001b[1;32m    480\u001b[0m                   (element, type(element).__name__))\n",
      "\u001b[0;31mTypeError\u001b[0m: Could not build a TypeSpec for       Age     BusinessTravel  DailyRate              Department  \\\n395    27      Travel_Rarely        269  Research & Development   \n860    35      Travel_Rarely        185  Research & Development   \n477    38         Non-Travel       1327                   Sales   \n671    31      Travel_Rarely       1079                   Sales   \n1002   30      Travel_Rarely        634  Research & Development   \n...   ...                ...        ...                     ...   \n865    35         Non-Travel        208  Research & Development   \n195    34         Non-Travel        697  Research & Development   \n191    41  Travel_Frequently        840  Research & Development   \n628    25      Travel_Rarely        810                   Sales   \n536    19         Non-Travel        504  Research & Development   \n\n      DistanceFromHome  Education    EducationField  EmployeeCount  \\\n395                  5          1  Technical Degree              1   \n860                 23          4           Medical              1   \n477                  2          2     Life Sciences              1   \n671                 16          4         Marketing              1   \n1002                17          4           Medical              1   \n...                ...        ...               ...            ...   \n865                  8          4     Life Sciences              1   \n195                  3          4     Life Sciences              1   \n191                  9          3           Medical              1   \n628                  8          3     Life Sciences              1   \n536                 10          3           Medical              1   \n\n      EmployeeNumber  EnvironmentSatisfaction  ... RelationshipSatisfaction  \\\n395              844                        3  ...                        2   \n860             1826                        2  ...                        2   \n477              361                        4  ...                        4   \n671             1761                        1  ...                        1   \n1002            1321                        2  ...                        4   \n...              ...                      ...  ...                      ...   \n865             1630                        3  ...                        4   \n195             1115                        3  ...                        4   \n191              999                        1  ...                        2   \n628              707                        4  ...                        3   \n536             1248                        1  ...                        2   \n\n      StandardHours  StockOptionLevel  TotalWorkingYears  \\\n395              80                 1                  9   \n860              80                 1                  6   \n477              80                 1                 13   \n671              80                 3                 10   \n1002             80                 2                  9   \n...             ...               ...                ...   \n865              80                 1                 15   \n195              80                 3                  6   \n191              80                 1                 21   \n628              80                 1                  4   \n536              80                 0                  1   \n\n     TrainingTimesLastYear  WorkLifeBalance YearsAtCompany  \\\n395                      3                3              9   \n860                      2                4              5   \n477                      0                3              8   \n671                      2                3              1   \n1002                     2                3              9   \n...                    ...              ...            ...   \n865                      5                3             14   \n195                      2                3              0   \n191                      2                4             18   \n628                      4                3              3   \n536                      2                4              1   \n\n      YearsInCurrentRole  YearsSinceLastPromotion  YearsWithCurrManager  \n395                    8                        0                     8  \n860                    4                        0                     3  \n477                    7                        7                     5  \n671                    0                        0                     0  \n1002                   1                        0                     8  \n...                  ...                      ...                   ...  \n865                   11                        2                     9  \n195                    0                        0                     0  \n191                   16                        0                    11  \n628                    2                        1                     2  \n536                    1                        0                     0  \n\n[770 rows x 34 columns] with type DataFrame",
      "\nDuring handling of the above exception, another exception occurred:\n",
      "\u001b[0;31mValueError\u001b[0m                                Traceback (most recent call last)",
      "\u001b[0;32m<ipython-input-10-eda86592edcf>\u001b[0m in \u001b[0;36m<module>\u001b[0;34m\u001b[0m\n\u001b[0;32m----> 1\u001b[0;31m history = model.fit(\n\u001b[0m\u001b[1;32m      2\u001b[0m     \u001b[0mX_train\u001b[0m\u001b[0;34m,\u001b[0m \u001b[0my_train\u001b[0m\u001b[0;34m,\u001b[0m\u001b[0;34m\u001b[0m\u001b[0;34m\u001b[0m\u001b[0m\n\u001b[1;32m      3\u001b[0m     \u001b[0mvalidation_data\u001b[0m\u001b[0;34m=\u001b[0m\u001b[0;34m(\u001b[0m\u001b[0mX_valid\u001b[0m\u001b[0;34m,\u001b[0m \u001b[0my_valid\u001b[0m\u001b[0;34m)\u001b[0m\u001b[0;34m,\u001b[0m\u001b[0;34m\u001b[0m\u001b[0;34m\u001b[0m\u001b[0m\n\u001b[1;32m      4\u001b[0m     \u001b[0mbatch_size\u001b[0m\u001b[0;34m=\u001b[0m\u001b[0;36m512\u001b[0m\u001b[0;34m,\u001b[0m\u001b[0;34m\u001b[0m\u001b[0;34m\u001b[0m\u001b[0m\n\u001b[1;32m      5\u001b[0m     \u001b[0mepochs\u001b[0m\u001b[0;34m=\u001b[0m\u001b[0;36m1000\u001b[0m\u001b[0;34m,\u001b[0m\u001b[0;34m\u001b[0m\u001b[0;34m\u001b[0m\u001b[0m\n",
      "\u001b[0;32m~/anaconda3/lib/python3.8/site-packages/tensorflow/python/keras/engine/training.py\u001b[0m in \u001b[0;36mfit\u001b[0;34m(self, x, y, batch_size, epochs, verbose, callbacks, validation_split, validation_data, shuffle, class_weight, sample_weight, initial_epoch, steps_per_epoch, validation_steps, validation_batch_size, validation_freq, max_queue_size, workers, use_multiprocessing)\u001b[0m\n\u001b[1;32m   1048\u001b[0m          \u001b[0mtraining_utils\u001b[0m\u001b[0;34m.\u001b[0m\u001b[0mRespectCompiledTrainableState\u001b[0m\u001b[0;34m(\u001b[0m\u001b[0mself\u001b[0m\u001b[0;34m)\u001b[0m\u001b[0;34m:\u001b[0m\u001b[0;34m\u001b[0m\u001b[0;34m\u001b[0m\u001b[0m\n\u001b[1;32m   1049\u001b[0m       \u001b[0;31m# Creates a `tf.data.Dataset` and handles batch and epoch iteration.\u001b[0m\u001b[0;34m\u001b[0m\u001b[0;34m\u001b[0m\u001b[0;34m\u001b[0m\u001b[0m\n\u001b[0;32m-> 1050\u001b[0;31m       data_handler = data_adapter.DataHandler(\n\u001b[0m\u001b[1;32m   1051\u001b[0m           \u001b[0mx\u001b[0m\u001b[0;34m=\u001b[0m\u001b[0mx\u001b[0m\u001b[0;34m,\u001b[0m\u001b[0;34m\u001b[0m\u001b[0;34m\u001b[0m\u001b[0m\n\u001b[1;32m   1052\u001b[0m           \u001b[0my\u001b[0m\u001b[0;34m=\u001b[0m\u001b[0my\u001b[0m\u001b[0;34m,\u001b[0m\u001b[0;34m\u001b[0m\u001b[0;34m\u001b[0m\u001b[0m\n",
      "\u001b[0;32m~/anaconda3/lib/python3.8/site-packages/tensorflow/python/keras/engine/data_adapter.py\u001b[0m in \u001b[0;36m__init__\u001b[0;34m(self, x, y, sample_weight, batch_size, steps_per_epoch, initial_epoch, epochs, shuffle, class_weight, max_queue_size, workers, use_multiprocessing, model, steps_per_execution)\u001b[0m\n\u001b[1;32m   1098\u001b[0m \u001b[0;34m\u001b[0m\u001b[0m\n\u001b[1;32m   1099\u001b[0m     \u001b[0madapter_cls\u001b[0m \u001b[0;34m=\u001b[0m \u001b[0mselect_data_adapter\u001b[0m\u001b[0;34m(\u001b[0m\u001b[0mx\u001b[0m\u001b[0;34m,\u001b[0m \u001b[0my\u001b[0m\u001b[0;34m)\u001b[0m\u001b[0;34m\u001b[0m\u001b[0;34m\u001b[0m\u001b[0m\n\u001b[0;32m-> 1100\u001b[0;31m     self._adapter = adapter_cls(\n\u001b[0m\u001b[1;32m   1101\u001b[0m         \u001b[0mx\u001b[0m\u001b[0;34m,\u001b[0m\u001b[0;34m\u001b[0m\u001b[0;34m\u001b[0m\u001b[0m\n\u001b[1;32m   1102\u001b[0m         \u001b[0my\u001b[0m\u001b[0;34m,\u001b[0m\u001b[0;34m\u001b[0m\u001b[0;34m\u001b[0m\u001b[0m\n",
      "\u001b[0;32m~/anaconda3/lib/python3.8/site-packages/tensorflow/python/keras/engine/data_adapter.py\u001b[0m in \u001b[0;36m__init__\u001b[0;34m(self, x, y, sample_weights, sample_weight_modes, batch_size, epochs, steps, shuffle, **kwargs)\u001b[0m\n\u001b[1;32m    353\u001b[0m     \u001b[0mindices_dataset\u001b[0m \u001b[0;34m=\u001b[0m \u001b[0mindices_dataset\u001b[0m\u001b[0;34m.\u001b[0m\u001b[0mflat_map\u001b[0m\u001b[0;34m(\u001b[0m\u001b[0mslice_batch_indices\u001b[0m\u001b[0;34m)\u001b[0m\u001b[0;34m\u001b[0m\u001b[0;34m\u001b[0m\u001b[0m\n\u001b[1;32m    354\u001b[0m \u001b[0;34m\u001b[0m\u001b[0m\n\u001b[0;32m--> 355\u001b[0;31m     \u001b[0mdataset\u001b[0m \u001b[0;34m=\u001b[0m \u001b[0mself\u001b[0m\u001b[0;34m.\u001b[0m\u001b[0mslice_inputs\u001b[0m\u001b[0;34m(\u001b[0m\u001b[0mindices_dataset\u001b[0m\u001b[0;34m,\u001b[0m \u001b[0minputs\u001b[0m\u001b[0;34m)\u001b[0m\u001b[0;34m\u001b[0m\u001b[0;34m\u001b[0m\u001b[0m\n\u001b[0m\u001b[1;32m    356\u001b[0m \u001b[0;34m\u001b[0m\u001b[0m\n\u001b[1;32m    357\u001b[0m     \u001b[0;32mif\u001b[0m \u001b[0mshuffle\u001b[0m \u001b[0;34m==\u001b[0m \u001b[0;34m\"batch\"\u001b[0m\u001b[0;34m:\u001b[0m\u001b[0;34m\u001b[0m\u001b[0;34m\u001b[0m\u001b[0m\n",
      "\u001b[0;32m~/anaconda3/lib/python3.8/site-packages/tensorflow/python/keras/engine/data_adapter.py\u001b[0m in \u001b[0;36mslice_inputs\u001b[0;34m(self, indices_dataset, inputs)\u001b[0m\n\u001b[1;32m    379\u001b[0m     dataset = dataset_ops.DatasetV2.zip((\n\u001b[1;32m    380\u001b[0m         \u001b[0mindices_dataset\u001b[0m\u001b[0;34m,\u001b[0m\u001b[0;34m\u001b[0m\u001b[0;34m\u001b[0m\u001b[0m\n\u001b[0;32m--> 381\u001b[0;31m         \u001b[0mdataset_ops\u001b[0m\u001b[0;34m.\u001b[0m\u001b[0mDatasetV2\u001b[0m\u001b[0;34m.\u001b[0m\u001b[0mfrom_tensors\u001b[0m\u001b[0;34m(\u001b[0m\u001b[0minputs\u001b[0m\u001b[0;34m)\u001b[0m\u001b[0;34m.\u001b[0m\u001b[0mrepeat\u001b[0m\u001b[0;34m(\u001b[0m\u001b[0;34m)\u001b[0m\u001b[0;34m\u001b[0m\u001b[0;34m\u001b[0m\u001b[0m\n\u001b[0m\u001b[1;32m    382\u001b[0m     ))\n\u001b[1;32m    383\u001b[0m \u001b[0;34m\u001b[0m\u001b[0m\n",
      "\u001b[0;32m~/anaconda3/lib/python3.8/site-packages/tensorflow/python/data/ops/dataset_ops.py\u001b[0m in \u001b[0;36mfrom_tensors\u001b[0;34m(tensors)\u001b[0m\n\u001b[1;32m    611\u001b[0m       \u001b[0mDataset\u001b[0m\u001b[0;34m:\u001b[0m \u001b[0mA\u001b[0m\u001b[0;31m \u001b[0m\u001b[0;31m`\u001b[0m\u001b[0mDataset\u001b[0m\u001b[0;31m`\u001b[0m\u001b[0;34m.\u001b[0m\u001b[0;34m\u001b[0m\u001b[0;34m\u001b[0m\u001b[0m\n\u001b[1;32m    612\u001b[0m     \"\"\"\n\u001b[0;32m--> 613\u001b[0;31m     \u001b[0;32mreturn\u001b[0m \u001b[0mTensorDataset\u001b[0m\u001b[0;34m(\u001b[0m\u001b[0mtensors\u001b[0m\u001b[0;34m)\u001b[0m\u001b[0;34m\u001b[0m\u001b[0;34m\u001b[0m\u001b[0m\n\u001b[0m\u001b[1;32m    614\u001b[0m \u001b[0;34m\u001b[0m\u001b[0m\n\u001b[1;32m    615\u001b[0m   \u001b[0;34m@\u001b[0m\u001b[0mstaticmethod\u001b[0m\u001b[0;34m\u001b[0m\u001b[0;34m\u001b[0m\u001b[0m\n",
      "\u001b[0;32m~/anaconda3/lib/python3.8/site-packages/tensorflow/python/data/ops/dataset_ops.py\u001b[0m in \u001b[0;36m__init__\u001b[0;34m(self, element)\u001b[0m\n\u001b[1;32m   3134\u001b[0m   \u001b[0;32mdef\u001b[0m \u001b[0m__init__\u001b[0m\u001b[0;34m(\u001b[0m\u001b[0mself\u001b[0m\u001b[0;34m,\u001b[0m \u001b[0melement\u001b[0m\u001b[0;34m)\u001b[0m\u001b[0;34m:\u001b[0m\u001b[0;34m\u001b[0m\u001b[0;34m\u001b[0m\u001b[0m\n\u001b[1;32m   3135\u001b[0m     \u001b[0;34m\"\"\"See `Dataset.from_tensors()` for details.\"\"\"\u001b[0m\u001b[0;34m\u001b[0m\u001b[0;34m\u001b[0m\u001b[0m\n\u001b[0;32m-> 3136\u001b[0;31m     \u001b[0melement\u001b[0m \u001b[0;34m=\u001b[0m \u001b[0mstructure\u001b[0m\u001b[0;34m.\u001b[0m\u001b[0mnormalize_element\u001b[0m\u001b[0;34m(\u001b[0m\u001b[0melement\u001b[0m\u001b[0;34m)\u001b[0m\u001b[0;34m\u001b[0m\u001b[0;34m\u001b[0m\u001b[0m\n\u001b[0m\u001b[1;32m   3137\u001b[0m     \u001b[0mself\u001b[0m\u001b[0;34m.\u001b[0m\u001b[0m_structure\u001b[0m \u001b[0;34m=\u001b[0m \u001b[0mstructure\u001b[0m\u001b[0;34m.\u001b[0m\u001b[0mtype_spec_from_value\u001b[0m\u001b[0;34m(\u001b[0m\u001b[0melement\u001b[0m\u001b[0;34m)\u001b[0m\u001b[0;34m\u001b[0m\u001b[0;34m\u001b[0m\u001b[0m\n\u001b[1;32m   3138\u001b[0m     \u001b[0mself\u001b[0m\u001b[0;34m.\u001b[0m\u001b[0m_tensors\u001b[0m \u001b[0;34m=\u001b[0m \u001b[0mstructure\u001b[0m\u001b[0;34m.\u001b[0m\u001b[0mto_tensor_list\u001b[0m\u001b[0;34m(\u001b[0m\u001b[0mself\u001b[0m\u001b[0;34m.\u001b[0m\u001b[0m_structure\u001b[0m\u001b[0;34m,\u001b[0m \u001b[0melement\u001b[0m\u001b[0;34m)\u001b[0m\u001b[0;34m\u001b[0m\u001b[0;34m\u001b[0m\u001b[0m\n",
      "\u001b[0;32m~/anaconda3/lib/python3.8/site-packages/tensorflow/python/data/util/structure.py\u001b[0m in \u001b[0;36mnormalize_element\u001b[0;34m(element, element_signature)\u001b[0m\n\u001b[1;32m    109\u001b[0m         \u001b[0;31m# the value. As a fallback try converting the value to a tensor.\u001b[0m\u001b[0;34m\u001b[0m\u001b[0;34m\u001b[0m\u001b[0;34m\u001b[0m\u001b[0m\n\u001b[1;32m    110\u001b[0m         normalized_components.append(\n\u001b[0;32m--> 111\u001b[0;31m             ops.convert_to_tensor(t, name=\"component_%d\" % i))\n\u001b[0m\u001b[1;32m    112\u001b[0m       \u001b[0;32melse\u001b[0m\u001b[0;34m:\u001b[0m\u001b[0;34m\u001b[0m\u001b[0;34m\u001b[0m\u001b[0m\n\u001b[1;32m    113\u001b[0m         \u001b[0;32mif\u001b[0m \u001b[0misinstance\u001b[0m\u001b[0;34m(\u001b[0m\u001b[0mspec\u001b[0m\u001b[0;34m,\u001b[0m \u001b[0msparse_tensor\u001b[0m\u001b[0;34m.\u001b[0m\u001b[0mSparseTensorSpec\u001b[0m\u001b[0;34m)\u001b[0m\u001b[0;34m:\u001b[0m\u001b[0;34m\u001b[0m\u001b[0;34m\u001b[0m\u001b[0m\n",
      "\u001b[0;32m~/anaconda3/lib/python3.8/site-packages/tensorflow/python/profiler/trace.py\u001b[0m in \u001b[0;36mwrapped\u001b[0;34m(*args, **kwargs)\u001b[0m\n\u001b[1;32m    161\u001b[0m         \u001b[0;32mwith\u001b[0m \u001b[0mTrace\u001b[0m\u001b[0;34m(\u001b[0m\u001b[0mtrace_name\u001b[0m\u001b[0;34m,\u001b[0m \u001b[0;34m**\u001b[0m\u001b[0mtrace_kwargs\u001b[0m\u001b[0;34m)\u001b[0m\u001b[0;34m:\u001b[0m\u001b[0;34m\u001b[0m\u001b[0;34m\u001b[0m\u001b[0m\n\u001b[1;32m    162\u001b[0m           \u001b[0;32mreturn\u001b[0m \u001b[0mfunc\u001b[0m\u001b[0;34m(\u001b[0m\u001b[0;34m*\u001b[0m\u001b[0margs\u001b[0m\u001b[0;34m,\u001b[0m \u001b[0;34m**\u001b[0m\u001b[0mkwargs\u001b[0m\u001b[0;34m)\u001b[0m\u001b[0;34m\u001b[0m\u001b[0;34m\u001b[0m\u001b[0m\n\u001b[0;32m--> 163\u001b[0;31m       \u001b[0;32mreturn\u001b[0m \u001b[0mfunc\u001b[0m\u001b[0;34m(\u001b[0m\u001b[0;34m*\u001b[0m\u001b[0margs\u001b[0m\u001b[0;34m,\u001b[0m \u001b[0;34m**\u001b[0m\u001b[0mkwargs\u001b[0m\u001b[0;34m)\u001b[0m\u001b[0;34m\u001b[0m\u001b[0;34m\u001b[0m\u001b[0m\n\u001b[0m\u001b[1;32m    164\u001b[0m \u001b[0;34m\u001b[0m\u001b[0m\n\u001b[1;32m    165\u001b[0m     \u001b[0;32mreturn\u001b[0m \u001b[0mwrapped\u001b[0m\u001b[0;34m\u001b[0m\u001b[0;34m\u001b[0m\u001b[0m\n",
      "\u001b[0;32m~/anaconda3/lib/python3.8/site-packages/tensorflow/python/framework/ops.py\u001b[0m in \u001b[0;36mconvert_to_tensor\u001b[0;34m(value, dtype, name, as_ref, preferred_dtype, dtype_hint, ctx, accepted_result_types)\u001b[0m\n\u001b[1;32m   1538\u001b[0m \u001b[0;34m\u001b[0m\u001b[0m\n\u001b[1;32m   1539\u001b[0m     \u001b[0;32mif\u001b[0m \u001b[0mret\u001b[0m \u001b[0;32mis\u001b[0m \u001b[0;32mNone\u001b[0m\u001b[0;34m:\u001b[0m\u001b[0;34m\u001b[0m\u001b[0;34m\u001b[0m\u001b[0m\n\u001b[0;32m-> 1540\u001b[0;31m       \u001b[0mret\u001b[0m \u001b[0;34m=\u001b[0m \u001b[0mconversion_func\u001b[0m\u001b[0;34m(\u001b[0m\u001b[0mvalue\u001b[0m\u001b[0;34m,\u001b[0m \u001b[0mdtype\u001b[0m\u001b[0;34m=\u001b[0m\u001b[0mdtype\u001b[0m\u001b[0;34m,\u001b[0m \u001b[0mname\u001b[0m\u001b[0;34m=\u001b[0m\u001b[0mname\u001b[0m\u001b[0;34m,\u001b[0m \u001b[0mas_ref\u001b[0m\u001b[0;34m=\u001b[0m\u001b[0mas_ref\u001b[0m\u001b[0;34m)\u001b[0m\u001b[0;34m\u001b[0m\u001b[0;34m\u001b[0m\u001b[0m\n\u001b[0m\u001b[1;32m   1541\u001b[0m \u001b[0;34m\u001b[0m\u001b[0m\n\u001b[1;32m   1542\u001b[0m     \u001b[0;32mif\u001b[0m \u001b[0mret\u001b[0m \u001b[0;32mis\u001b[0m \u001b[0mNotImplemented\u001b[0m\u001b[0;34m:\u001b[0m\u001b[0;34m\u001b[0m\u001b[0;34m\u001b[0m\u001b[0m\n",
      "\u001b[0;32m~/anaconda3/lib/python3.8/site-packages/tensorflow/python/framework/constant_op.py\u001b[0m in \u001b[0;36m_constant_tensor_conversion_function\u001b[0;34m(v, dtype, name, as_ref)\u001b[0m\n\u001b[1;32m    337\u001b[0m                                          as_ref=False):\n\u001b[1;32m    338\u001b[0m   \u001b[0m_\u001b[0m \u001b[0;34m=\u001b[0m \u001b[0mas_ref\u001b[0m\u001b[0;34m\u001b[0m\u001b[0;34m\u001b[0m\u001b[0m\n\u001b[0;32m--> 339\u001b[0;31m   \u001b[0;32mreturn\u001b[0m \u001b[0mconstant\u001b[0m\u001b[0;34m(\u001b[0m\u001b[0mv\u001b[0m\u001b[0;34m,\u001b[0m \u001b[0mdtype\u001b[0m\u001b[0;34m=\u001b[0m\u001b[0mdtype\u001b[0m\u001b[0;34m,\u001b[0m \u001b[0mname\u001b[0m\u001b[0;34m=\u001b[0m\u001b[0mname\u001b[0m\u001b[0;34m)\u001b[0m\u001b[0;34m\u001b[0m\u001b[0;34m\u001b[0m\u001b[0m\n\u001b[0m\u001b[1;32m    340\u001b[0m \u001b[0;34m\u001b[0m\u001b[0m\n\u001b[1;32m    341\u001b[0m \u001b[0;34m\u001b[0m\u001b[0m\n",
      "\u001b[0;32m~/anaconda3/lib/python3.8/site-packages/tensorflow/python/framework/constant_op.py\u001b[0m in \u001b[0;36mconstant\u001b[0;34m(value, dtype, shape, name)\u001b[0m\n\u001b[1;32m    262\u001b[0m     \u001b[0mValueError\u001b[0m\u001b[0;34m:\u001b[0m \u001b[0;32mif\u001b[0m \u001b[0mcalled\u001b[0m \u001b[0mon\u001b[0m \u001b[0ma\u001b[0m \u001b[0msymbolic\u001b[0m \u001b[0mtensor\u001b[0m\u001b[0;34m.\u001b[0m\u001b[0;34m\u001b[0m\u001b[0;34m\u001b[0m\u001b[0m\n\u001b[1;32m    263\u001b[0m   \"\"\"\n\u001b[0;32m--> 264\u001b[0;31m   return _constant_impl(value, dtype, shape, name, verify_shape=False,\n\u001b[0m\u001b[1;32m    265\u001b[0m                         allow_broadcast=True)\n\u001b[1;32m    266\u001b[0m \u001b[0;34m\u001b[0m\u001b[0m\n",
      "\u001b[0;32m~/anaconda3/lib/python3.8/site-packages/tensorflow/python/framework/constant_op.py\u001b[0m in \u001b[0;36m_constant_impl\u001b[0;34m(value, dtype, shape, name, verify_shape, allow_broadcast)\u001b[0m\n\u001b[1;32m    274\u001b[0m       \u001b[0;32mwith\u001b[0m \u001b[0mtrace\u001b[0m\u001b[0;34m.\u001b[0m\u001b[0mTrace\u001b[0m\u001b[0;34m(\u001b[0m\u001b[0;34m\"tf.constant\"\u001b[0m\u001b[0;34m)\u001b[0m\u001b[0;34m:\u001b[0m\u001b[0;34m\u001b[0m\u001b[0;34m\u001b[0m\u001b[0m\n\u001b[1;32m    275\u001b[0m         \u001b[0;32mreturn\u001b[0m \u001b[0m_constant_eager_impl\u001b[0m\u001b[0;34m(\u001b[0m\u001b[0mctx\u001b[0m\u001b[0;34m,\u001b[0m \u001b[0mvalue\u001b[0m\u001b[0;34m,\u001b[0m \u001b[0mdtype\u001b[0m\u001b[0;34m,\u001b[0m \u001b[0mshape\u001b[0m\u001b[0;34m,\u001b[0m \u001b[0mverify_shape\u001b[0m\u001b[0;34m)\u001b[0m\u001b[0;34m\u001b[0m\u001b[0;34m\u001b[0m\u001b[0m\n\u001b[0;32m--> 276\u001b[0;31m     \u001b[0;32mreturn\u001b[0m \u001b[0m_constant_eager_impl\u001b[0m\u001b[0;34m(\u001b[0m\u001b[0mctx\u001b[0m\u001b[0;34m,\u001b[0m \u001b[0mvalue\u001b[0m\u001b[0;34m,\u001b[0m \u001b[0mdtype\u001b[0m\u001b[0;34m,\u001b[0m \u001b[0mshape\u001b[0m\u001b[0;34m,\u001b[0m \u001b[0mverify_shape\u001b[0m\u001b[0;34m)\u001b[0m\u001b[0;34m\u001b[0m\u001b[0;34m\u001b[0m\u001b[0m\n\u001b[0m\u001b[1;32m    277\u001b[0m \u001b[0;34m\u001b[0m\u001b[0m\n\u001b[1;32m    278\u001b[0m   \u001b[0mg\u001b[0m \u001b[0;34m=\u001b[0m \u001b[0mops\u001b[0m\u001b[0;34m.\u001b[0m\u001b[0mget_default_graph\u001b[0m\u001b[0;34m(\u001b[0m\u001b[0;34m)\u001b[0m\u001b[0;34m\u001b[0m\u001b[0;34m\u001b[0m\u001b[0m\n",
      "\u001b[0;32m~/anaconda3/lib/python3.8/site-packages/tensorflow/python/framework/constant_op.py\u001b[0m in \u001b[0;36m_constant_eager_impl\u001b[0;34m(ctx, value, dtype, shape, verify_shape)\u001b[0m\n\u001b[1;32m    299\u001b[0m \u001b[0;32mdef\u001b[0m \u001b[0m_constant_eager_impl\u001b[0m\u001b[0;34m(\u001b[0m\u001b[0mctx\u001b[0m\u001b[0;34m,\u001b[0m \u001b[0mvalue\u001b[0m\u001b[0;34m,\u001b[0m \u001b[0mdtype\u001b[0m\u001b[0;34m,\u001b[0m \u001b[0mshape\u001b[0m\u001b[0;34m,\u001b[0m \u001b[0mverify_shape\u001b[0m\u001b[0;34m)\u001b[0m\u001b[0;34m:\u001b[0m\u001b[0;34m\u001b[0m\u001b[0;34m\u001b[0m\u001b[0m\n\u001b[1;32m    300\u001b[0m   \u001b[0;34m\"\"\"Implementation of eager constant.\"\"\"\u001b[0m\u001b[0;34m\u001b[0m\u001b[0;34m\u001b[0m\u001b[0m\n\u001b[0;32m--> 301\u001b[0;31m   \u001b[0mt\u001b[0m \u001b[0;34m=\u001b[0m \u001b[0mconvert_to_eager_tensor\u001b[0m\u001b[0;34m(\u001b[0m\u001b[0mvalue\u001b[0m\u001b[0;34m,\u001b[0m \u001b[0mctx\u001b[0m\u001b[0;34m,\u001b[0m \u001b[0mdtype\u001b[0m\u001b[0;34m)\u001b[0m\u001b[0;34m\u001b[0m\u001b[0;34m\u001b[0m\u001b[0m\n\u001b[0m\u001b[1;32m    302\u001b[0m   \u001b[0;32mif\u001b[0m \u001b[0mshape\u001b[0m \u001b[0;32mis\u001b[0m \u001b[0;32mNone\u001b[0m\u001b[0;34m:\u001b[0m\u001b[0;34m\u001b[0m\u001b[0;34m\u001b[0m\u001b[0m\n\u001b[1;32m    303\u001b[0m     \u001b[0;32mreturn\u001b[0m \u001b[0mt\u001b[0m\u001b[0;34m\u001b[0m\u001b[0;34m\u001b[0m\u001b[0m\n",
      "\u001b[0;32m~/anaconda3/lib/python3.8/site-packages/tensorflow/python/framework/constant_op.py\u001b[0m in \u001b[0;36mconvert_to_eager_tensor\u001b[0;34m(value, ctx, dtype)\u001b[0m\n\u001b[1;32m     96\u001b[0m       \u001b[0mdtype\u001b[0m \u001b[0;34m=\u001b[0m \u001b[0mdtypes\u001b[0m\u001b[0;34m.\u001b[0m\u001b[0mas_dtype\u001b[0m\u001b[0;34m(\u001b[0m\u001b[0mdtype\u001b[0m\u001b[0;34m)\u001b[0m\u001b[0;34m.\u001b[0m\u001b[0mas_datatype_enum\u001b[0m\u001b[0;34m\u001b[0m\u001b[0;34m\u001b[0m\u001b[0m\n\u001b[1;32m     97\u001b[0m   \u001b[0mctx\u001b[0m\u001b[0;34m.\u001b[0m\u001b[0mensure_initialized\u001b[0m\u001b[0;34m(\u001b[0m\u001b[0;34m)\u001b[0m\u001b[0;34m\u001b[0m\u001b[0;34m\u001b[0m\u001b[0m\n\u001b[0;32m---> 98\u001b[0;31m   \u001b[0;32mreturn\u001b[0m \u001b[0mops\u001b[0m\u001b[0;34m.\u001b[0m\u001b[0mEagerTensor\u001b[0m\u001b[0;34m(\u001b[0m\u001b[0mvalue\u001b[0m\u001b[0;34m,\u001b[0m \u001b[0mctx\u001b[0m\u001b[0;34m.\u001b[0m\u001b[0mdevice_name\u001b[0m\u001b[0;34m,\u001b[0m \u001b[0mdtype\u001b[0m\u001b[0;34m)\u001b[0m\u001b[0;34m\u001b[0m\u001b[0;34m\u001b[0m\u001b[0m\n\u001b[0m\u001b[1;32m     99\u001b[0m \u001b[0;34m\u001b[0m\u001b[0m\n\u001b[1;32m    100\u001b[0m \u001b[0;34m\u001b[0m\u001b[0m\n",
      "\u001b[0;31mValueError\u001b[0m: Failed to convert a NumPy array to a Tensor (Unsupported object type int)."
     ]
    }
   ],
   "source": [
    "history = model.fit(\n",
    "    X_train, y_train,\n",
    "    \n",
    ")\n",
    "\n",
    "history_df = pd.DataFrame(history.history)\n",
    "# Start the plot at epoch 5\n",
    "history_df.loc[5:, ['loss', 'val_loss']].plot()\n",
    "history_df.loc[5:, ['binary_accuracy', 'val_binary_accuracy']].plot()\n",
    "\n",
    "print((\"Best Validation Loss: {:0.4f}\" +\\\n",
    "      \"\\nBest Validation Accuracy: {:0.4f}\")\\\n",
    "      .format(history_df['val_loss'].min(), \n",
    "              history_df['val_binary_accuracy'].max()))"
   ]
  }
 ]
}