{
 "metadata": {
  "language_info": {
   "codemirror_mode": {
    "name": "ipython",
    "version": 3
   },
   "file_extension": ".py",
   "mimetype": "text/x-python",
   "name": "python",
   "nbconvert_exporter": "python",
   "pygments_lexer": "ipython3",
   "version": "3.8.0"
  },
  "orig_nbformat": 2,
  "kernelspec": {
   "name": "python38064bitenvconda7c0abff687ad460abebf8da8fd0e288c",
   "display_name": "Python 3.8.0 64-bit ('env': conda)"
  },
  "metadata": {
   "interpreter": {
    "hash": "23bdb88078bef7378c2a196fac28118cd008524d1d1a9a68293a79d57a878d32"
   }
  }
 },
 "nbformat": 4,
 "nbformat_minor": 2,
 "cells": [
  {
   "cell_type": "code",
   "execution_count": 3,
   "metadata": {},
   "outputs": [],
   "source": [
    "import sys\n",
    "sys.path.append(\"../src\")\n",
    "import warnings\n",
    "warnings.filterwarnings('ignore')  # \"error\", \"ignore\", \"always\", \"default\", \"module\" or \"once\"\n",
    "\n",
    "import pandas as pd\n",
    "import numpy as np\n",
    "import matplotlib.pyplot as plt\n",
    "\n",
    "from functions import get_corr_pairs, show_results, get_df_uniques\n",
    "from sklearn.metrics import precision_score, roc_curve, auc, RocCurveDisplay \n",
    "from sklearn.impute import SimpleImputer\n",
    "from sklearn.linear_model import LogisticRegression, LogisticRegressionCV, RidgeClassifierCV\n",
    "from sklearn.tree import DecisionTreeClassifier\n",
    "from sklearn.model_selection import train_test_split, GridSearchCV\n",
    "from sklearn.ensemble import BaggingClassifier, RandomForestClassifier\n",
    "from sklearn.pipeline import Pipeline\n",
    "from sklearn.compose import ColumnTransformer\n",
    "from sklearn.preprocessing import OneHotEncoder\n",
    "from sklearn.metrics import recall_score, classification_report, make_scorer\n",
    "from sklearn.feature_selection import SelectKBest, chi2\n",
    "from lightgbm import LGBMClassifier\n",
    "from xgboost import XGBClassifier\n",
    "\n",
    "\n",
    "train = pd.read_csv(\"../data/01_raw/attrition_train.csv\")\n",
    "test = pd.read_csv(\"../data/01_raw/attrition_test.csv\")\n",
    "test.drop([\"index1\"], axis=1, inplace=True)"
   ]
  },
  {
   "source": [
    "## Aperçu de la data"
   ],
   "cell_type": "markdown",
   "metadata": {}
  },
  {
   "cell_type": "code",
   "execution_count": 4,
   "metadata": {},
   "outputs": [
    {
     "output_type": "execute_result",
     "data": {
      "text/plain": [
       "   Age Attrition     BusinessTravel  DailyRate              Department  \\\n",
       "0   38        No  Travel_Frequently        240  Research & Development   \n",
       "1   52        No  Travel_Frequently        322  Research & Development   \n",
       "2   28        No         Non-Travel       1476  Research & Development   \n",
       "3   43        No      Travel_Rarely        920  Research & Development   \n",
       "4   27        No         Non-Travel        443  Research & Development   \n",
       "\n",
       "   DistanceFromHome  Education EducationField  EmployeeCount  EmployeeNumber  \\\n",
       "0                 2          4  Life Sciences              1             803   \n",
       "1                28          2        Medical              1            1401   \n",
       "2                 1          3  Life Sciences              1            1315   \n",
       "3                 3          3  Life Sciences              1            1255   \n",
       "4                 3          3        Medical              1             850   \n",
       "\n",
       "   ...  RelationshipSatisfaction StandardHours  StockOptionLevel  \\\n",
       "0  ...                         4            80                 0   \n",
       "1  ...                         2            80                 1   \n",
       "2  ...                         1            80                 3   \n",
       "3  ...                         2            80                 1   \n",
       "4  ...                         3            80                 3   \n",
       "\n",
       "   TotalWorkingYears  TrainingTimesLastYear WorkLifeBalance  YearsAtCompany  \\\n",
       "0                 17                      2               3              15   \n",
       "1                 24                      3               2               5   \n",
       "2                 10                      6               3               9   \n",
       "3                 25                      2               3               8   \n",
       "4                  0                      6               2               0   \n",
       "\n",
       "  YearsInCurrentRole  YearsSinceLastPromotion  YearsWithCurrManager  \n",
       "0                  7                        4                    12  \n",
       "1                  3                        0                     2  \n",
       "2                  8                        7                     5  \n",
       "3                  7                        0                     7  \n",
       "4                  0                        0                     0  \n",
       "\n",
       "[5 rows x 35 columns]"
      ],
      "text/html": "<div>\n<style scoped>\n    .dataframe tbody tr th:only-of-type {\n        vertical-align: middle;\n    }\n\n    .dataframe tbody tr th {\n        vertical-align: top;\n    }\n\n    .dataframe thead th {\n        text-align: right;\n    }\n</style>\n<table border=\"1\" class=\"dataframe\">\n  <thead>\n    <tr style=\"text-align: right;\">\n      <th></th>\n      <th>Age</th>\n      <th>Attrition</th>\n      <th>BusinessTravel</th>\n      <th>DailyRate</th>\n      <th>Department</th>\n      <th>DistanceFromHome</th>\n      <th>Education</th>\n      <th>EducationField</th>\n      <th>EmployeeCount</th>\n      <th>EmployeeNumber</th>\n      <th>...</th>\n      <th>RelationshipSatisfaction</th>\n      <th>StandardHours</th>\n      <th>StockOptionLevel</th>\n      <th>TotalWorkingYears</th>\n      <th>TrainingTimesLastYear</th>\n      <th>WorkLifeBalance</th>\n      <th>YearsAtCompany</th>\n      <th>YearsInCurrentRole</th>\n      <th>YearsSinceLastPromotion</th>\n      <th>YearsWithCurrManager</th>\n    </tr>\n  </thead>\n  <tbody>\n    <tr>\n      <th>0</th>\n      <td>38</td>\n      <td>No</td>\n      <td>Travel_Frequently</td>\n      <td>240</td>\n      <td>Research &amp; Development</td>\n      <td>2</td>\n      <td>4</td>\n      <td>Life Sciences</td>\n      <td>1</td>\n      <td>803</td>\n      <td>...</td>\n      <td>4</td>\n      <td>80</td>\n      <td>0</td>\n      <td>17</td>\n      <td>2</td>\n      <td>3</td>\n      <td>15</td>\n      <td>7</td>\n      <td>4</td>\n      <td>12</td>\n    </tr>\n    <tr>\n      <th>1</th>\n      <td>52</td>\n      <td>No</td>\n      <td>Travel_Frequently</td>\n      <td>322</td>\n      <td>Research &amp; Development</td>\n      <td>28</td>\n      <td>2</td>\n      <td>Medical</td>\n      <td>1</td>\n      <td>1401</td>\n      <td>...</td>\n      <td>2</td>\n      <td>80</td>\n      <td>1</td>\n      <td>24</td>\n      <td>3</td>\n      <td>2</td>\n      <td>5</td>\n      <td>3</td>\n      <td>0</td>\n      <td>2</td>\n    </tr>\n    <tr>\n      <th>2</th>\n      <td>28</td>\n      <td>No</td>\n      <td>Non-Travel</td>\n      <td>1476</td>\n      <td>Research &amp; Development</td>\n      <td>1</td>\n      <td>3</td>\n      <td>Life Sciences</td>\n      <td>1</td>\n      <td>1315</td>\n      <td>...</td>\n      <td>1</td>\n      <td>80</td>\n      <td>3</td>\n      <td>10</td>\n      <td>6</td>\n      <td>3</td>\n      <td>9</td>\n      <td>8</td>\n      <td>7</td>\n      <td>5</td>\n    </tr>\n    <tr>\n      <th>3</th>\n      <td>43</td>\n      <td>No</td>\n      <td>Travel_Rarely</td>\n      <td>920</td>\n      <td>Research &amp; Development</td>\n      <td>3</td>\n      <td>3</td>\n      <td>Life Sciences</td>\n      <td>1</td>\n      <td>1255</td>\n      <td>...</td>\n      <td>2</td>\n      <td>80</td>\n      <td>1</td>\n      <td>25</td>\n      <td>2</td>\n      <td>3</td>\n      <td>8</td>\n      <td>7</td>\n      <td>0</td>\n      <td>7</td>\n    </tr>\n    <tr>\n      <th>4</th>\n      <td>27</td>\n      <td>No</td>\n      <td>Non-Travel</td>\n      <td>443</td>\n      <td>Research &amp; Development</td>\n      <td>3</td>\n      <td>3</td>\n      <td>Medical</td>\n      <td>1</td>\n      <td>850</td>\n      <td>...</td>\n      <td>3</td>\n      <td>80</td>\n      <td>3</td>\n      <td>0</td>\n      <td>6</td>\n      <td>2</td>\n      <td>0</td>\n      <td>0</td>\n      <td>0</td>\n      <td>0</td>\n    </tr>\n  </tbody>\n</table>\n<p>5 rows × 35 columns</p>\n</div>"
     },
     "metadata": {},
     "execution_count": 4
    }
   ],
   "source": [
    "train.head()"
   ]
  },
  {
   "cell_type": "code",
   "execution_count": 5,
   "metadata": {},
   "outputs": [
    {
     "output_type": "execute_result",
     "data": {
      "text/plain": [
       "               Age    DailyRate  DistanceFromHome    Education  EmployeeCount  \\\n",
       "count  1100.000000  1100.000000       1100.000000  1100.000000         1100.0   \n",
       "mean     36.854545   804.234545          9.301818     2.907273            1.0   \n",
       "std       9.039229   405.583238          8.093392     1.012453            0.0   \n",
       "min      18.000000   102.000000          1.000000     1.000000            1.0   \n",
       "25%      30.000000   460.500000          2.000000     2.000000            1.0   \n",
       "50%      36.000000   805.000000          7.000000     3.000000            1.0   \n",
       "75%      42.250000  1162.000000         14.000000     4.000000            1.0   \n",
       "max      60.000000  1498.000000         29.000000     5.000000            1.0   \n",
       "\n",
       "       EmployeeNumber  EnvironmentSatisfaction   HourlyRate  JobInvolvement  \\\n",
       "count     1100.000000              1100.000000  1100.000000     1100.000000   \n",
       "mean      1026.404545                 2.730909    66.011818        2.707273   \n",
       "std        598.712521                 1.083564    20.374359        0.731298   \n",
       "min          4.000000                 1.000000    30.000000        1.000000   \n",
       "25%        494.750000                 2.000000    48.000000        2.000000   \n",
       "50%       1031.000000                 3.000000    66.000000        3.000000   \n",
       "75%       1543.250000                 4.000000    84.000000        3.000000   \n",
       "max       2065.000000                 4.000000   100.000000        4.000000   \n",
       "\n",
       "          JobLevel  ...  RelationshipSatisfaction  StandardHours  \\\n",
       "count  1100.000000  ...               1100.000000         1100.0   \n",
       "mean      2.064545  ...                  2.697273           80.0   \n",
       "std       1.115862  ...                  1.084338            0.0   \n",
       "min       1.000000  ...                  1.000000           80.0   \n",
       "25%       1.000000  ...                  2.000000           80.0   \n",
       "50%       2.000000  ...                  3.000000           80.0   \n",
       "75%       3.000000  ...                  4.000000           80.0   \n",
       "max       5.000000  ...                  4.000000           80.0   \n",
       "\n",
       "       StockOptionLevel  TotalWorkingYears  TrainingTimesLastYear  \\\n",
       "count       1100.000000        1100.000000            1100.000000   \n",
       "mean           0.785455          11.206364               2.780909   \n",
       "std            0.848575           7.784761               1.309377   \n",
       "min            0.000000           0.000000               0.000000   \n",
       "25%            0.000000           6.000000               2.000000   \n",
       "50%            1.000000           9.000000               3.000000   \n",
       "75%            1.000000          15.000000               3.000000   \n",
       "max            3.000000          38.000000               6.000000   \n",
       "\n",
       "       WorkLifeBalance  YearsAtCompany  YearsInCurrentRole  \\\n",
       "count      1100.000000     1100.000000         1100.000000   \n",
       "mean          2.780909        7.070000            4.250000   \n",
       "std           0.706269        6.147387            3.595094   \n",
       "min           1.000000        0.000000            0.000000   \n",
       "25%           2.000000        3.000000            2.000000   \n",
       "50%           3.000000        5.000000            3.000000   \n",
       "75%           3.000000        9.000000            7.000000   \n",
       "max           4.000000       37.000000           18.000000   \n",
       "\n",
       "       YearsSinceLastPromotion  YearsWithCurrManager  \n",
       "count              1100.000000           1100.000000  \n",
       "mean                  2.186364              4.199091  \n",
       "std                   3.234650              3.584848  \n",
       "min                   0.000000              0.000000  \n",
       "25%                   0.000000              2.000000  \n",
       "50%                   1.000000              3.000000  \n",
       "75%                   3.000000              7.000000  \n",
       "max                  15.000000             17.000000  \n",
       "\n",
       "[8 rows x 26 columns]"
      ],
      "text/html": "<div>\n<style scoped>\n    .dataframe tbody tr th:only-of-type {\n        vertical-align: middle;\n    }\n\n    .dataframe tbody tr th {\n        vertical-align: top;\n    }\n\n    .dataframe thead th {\n        text-align: right;\n    }\n</style>\n<table border=\"1\" class=\"dataframe\">\n  <thead>\n    <tr style=\"text-align: right;\">\n      <th></th>\n      <th>Age</th>\n      <th>DailyRate</th>\n      <th>DistanceFromHome</th>\n      <th>Education</th>\n      <th>EmployeeCount</th>\n      <th>EmployeeNumber</th>\n      <th>EnvironmentSatisfaction</th>\n      <th>HourlyRate</th>\n      <th>JobInvolvement</th>\n      <th>JobLevel</th>\n      <th>...</th>\n      <th>RelationshipSatisfaction</th>\n      <th>StandardHours</th>\n      <th>StockOptionLevel</th>\n      <th>TotalWorkingYears</th>\n      <th>TrainingTimesLastYear</th>\n      <th>WorkLifeBalance</th>\n      <th>YearsAtCompany</th>\n      <th>YearsInCurrentRole</th>\n      <th>YearsSinceLastPromotion</th>\n      <th>YearsWithCurrManager</th>\n    </tr>\n  </thead>\n  <tbody>\n    <tr>\n      <th>count</th>\n      <td>1100.000000</td>\n      <td>1100.000000</td>\n      <td>1100.000000</td>\n      <td>1100.000000</td>\n      <td>1100.0</td>\n      <td>1100.000000</td>\n      <td>1100.000000</td>\n      <td>1100.000000</td>\n      <td>1100.000000</td>\n      <td>1100.000000</td>\n      <td>...</td>\n      <td>1100.000000</td>\n      <td>1100.0</td>\n      <td>1100.000000</td>\n      <td>1100.000000</td>\n      <td>1100.000000</td>\n      <td>1100.000000</td>\n      <td>1100.000000</td>\n      <td>1100.000000</td>\n      <td>1100.000000</td>\n      <td>1100.000000</td>\n    </tr>\n    <tr>\n      <th>mean</th>\n      <td>36.854545</td>\n      <td>804.234545</td>\n      <td>9.301818</td>\n      <td>2.907273</td>\n      <td>1.0</td>\n      <td>1026.404545</td>\n      <td>2.730909</td>\n      <td>66.011818</td>\n      <td>2.707273</td>\n      <td>2.064545</td>\n      <td>...</td>\n      <td>2.697273</td>\n      <td>80.0</td>\n      <td>0.785455</td>\n      <td>11.206364</td>\n      <td>2.780909</td>\n      <td>2.780909</td>\n      <td>7.070000</td>\n      <td>4.250000</td>\n      <td>2.186364</td>\n      <td>4.199091</td>\n    </tr>\n    <tr>\n      <th>std</th>\n      <td>9.039229</td>\n      <td>405.583238</td>\n      <td>8.093392</td>\n      <td>1.012453</td>\n      <td>0.0</td>\n      <td>598.712521</td>\n      <td>1.083564</td>\n      <td>20.374359</td>\n      <td>0.731298</td>\n      <td>1.115862</td>\n      <td>...</td>\n      <td>1.084338</td>\n      <td>0.0</td>\n      <td>0.848575</td>\n      <td>7.784761</td>\n      <td>1.309377</td>\n      <td>0.706269</td>\n      <td>6.147387</td>\n      <td>3.595094</td>\n      <td>3.234650</td>\n      <td>3.584848</td>\n    </tr>\n    <tr>\n      <th>min</th>\n      <td>18.000000</td>\n      <td>102.000000</td>\n      <td>1.000000</td>\n      <td>1.000000</td>\n      <td>1.0</td>\n      <td>4.000000</td>\n      <td>1.000000</td>\n      <td>30.000000</td>\n      <td>1.000000</td>\n      <td>1.000000</td>\n      <td>...</td>\n      <td>1.000000</td>\n      <td>80.0</td>\n      <td>0.000000</td>\n      <td>0.000000</td>\n      <td>0.000000</td>\n      <td>1.000000</td>\n      <td>0.000000</td>\n      <td>0.000000</td>\n      <td>0.000000</td>\n      <td>0.000000</td>\n    </tr>\n    <tr>\n      <th>25%</th>\n      <td>30.000000</td>\n      <td>460.500000</td>\n      <td>2.000000</td>\n      <td>2.000000</td>\n      <td>1.0</td>\n      <td>494.750000</td>\n      <td>2.000000</td>\n      <td>48.000000</td>\n      <td>2.000000</td>\n      <td>1.000000</td>\n      <td>...</td>\n      <td>2.000000</td>\n      <td>80.0</td>\n      <td>0.000000</td>\n      <td>6.000000</td>\n      <td>2.000000</td>\n      <td>2.000000</td>\n      <td>3.000000</td>\n      <td>2.000000</td>\n      <td>0.000000</td>\n      <td>2.000000</td>\n    </tr>\n    <tr>\n      <th>50%</th>\n      <td>36.000000</td>\n      <td>805.000000</td>\n      <td>7.000000</td>\n      <td>3.000000</td>\n      <td>1.0</td>\n      <td>1031.000000</td>\n      <td>3.000000</td>\n      <td>66.000000</td>\n      <td>3.000000</td>\n      <td>2.000000</td>\n      <td>...</td>\n      <td>3.000000</td>\n      <td>80.0</td>\n      <td>1.000000</td>\n      <td>9.000000</td>\n      <td>3.000000</td>\n      <td>3.000000</td>\n      <td>5.000000</td>\n      <td>3.000000</td>\n      <td>1.000000</td>\n      <td>3.000000</td>\n    </tr>\n    <tr>\n      <th>75%</th>\n      <td>42.250000</td>\n      <td>1162.000000</td>\n      <td>14.000000</td>\n      <td>4.000000</td>\n      <td>1.0</td>\n      <td>1543.250000</td>\n      <td>4.000000</td>\n      <td>84.000000</td>\n      <td>3.000000</td>\n      <td>3.000000</td>\n      <td>...</td>\n      <td>4.000000</td>\n      <td>80.0</td>\n      <td>1.000000</td>\n      <td>15.000000</td>\n      <td>3.000000</td>\n      <td>3.000000</td>\n      <td>9.000000</td>\n      <td>7.000000</td>\n      <td>3.000000</td>\n      <td>7.000000</td>\n    </tr>\n    <tr>\n      <th>max</th>\n      <td>60.000000</td>\n      <td>1498.000000</td>\n      <td>29.000000</td>\n      <td>5.000000</td>\n      <td>1.0</td>\n      <td>2065.000000</td>\n      <td>4.000000</td>\n      <td>100.000000</td>\n      <td>4.000000</td>\n      <td>5.000000</td>\n      <td>...</td>\n      <td>4.000000</td>\n      <td>80.0</td>\n      <td>3.000000</td>\n      <td>38.000000</td>\n      <td>6.000000</td>\n      <td>4.000000</td>\n      <td>37.000000</td>\n      <td>18.000000</td>\n      <td>15.000000</td>\n      <td>17.000000</td>\n    </tr>\n  </tbody>\n</table>\n<p>8 rows × 26 columns</p>\n</div>"
     },
     "metadata": {},
     "execution_count": 5
    }
   ],
   "source": [
    "train.describe()"
   ]
  },
  {
   "source": [
    "## Traitement des données manquantes"
   ],
   "cell_type": "markdown",
   "metadata": {}
  },
  {
   "cell_type": "code",
   "execution_count": 6,
   "metadata": {},
   "outputs": [
    {
     "output_type": "stream",
     "name": "stdout",
     "text": [
      "train shape : (1100, 35)\nmissing values : 0\ntest shape : (370, 34)\nmissing values : 0\n"
     ]
    }
   ],
   "source": [
    "print(f\"train shape : {train.shape}\")\n",
    "print(f\"missing values : {train.isna().sum().sum()}\")\n",
    "#list(train.columns)\n",
    "\n",
    "print(f\"test shape : {test.shape}\")\n",
    "print(f\"missing values : {test.isna().sum().sum()}\")\n",
    "#list(test.columns)"
   ]
  },
  {
   "cell_type": "code",
   "execution_count": 7,
   "metadata": {},
   "outputs": [
    {
     "output_type": "execute_result",
     "data": {
      "text/plain": [
       "No     922\n",
       "Yes    178\n",
       "Name: Attrition, dtype: int64"
      ]
     },
     "metadata": {},
     "execution_count": 7
    }
   ],
   "source": [
    "train['Attrition'].value_counts()"
   ]
  },
  {
   "source": [
    "## Choix des colonnes (recherche de données pertinentes)"
   ],
   "cell_type": "markdown",
   "metadata": {}
  },
  {
   "cell_type": "code",
   "execution_count": 8,
   "metadata": {},
   "outputs": [],
   "source": [
    "#train.dtypes"
   ]
  },
  {
   "cell_type": "code",
   "execution_count": 9,
   "metadata": {},
   "outputs": [
    {
     "output_type": "execute_result",
     "data": {
      "text/plain": [
       "                    Features  Unique Number  \\\n",
       "0                        Age             43   \n",
       "1                  Attrition              2   \n",
       "2             BusinessTravel              3   \n",
       "3                  DailyRate            762   \n",
       "4                 Department              3   \n",
       "5           DistanceFromHome             29   \n",
       "6                  Education              5   \n",
       "7             EducationField              6   \n",
       "8              EmployeeCount              1   \n",
       "9             EmployeeNumber           1100   \n",
       "10   EnvironmentSatisfaction              4   \n",
       "11                    Gender              2   \n",
       "12                HourlyRate             71   \n",
       "13            JobInvolvement              4   \n",
       "14                  JobLevel              5   \n",
       "15                   JobRole              9   \n",
       "16           JobSatisfaction              4   \n",
       "17             MaritalStatus              3   \n",
       "18             MonthlyIncome           1028   \n",
       "19               MonthlyRate           1076   \n",
       "20        NumCompaniesWorked             10   \n",
       "21                    Over18              1   \n",
       "22                  OverTime              2   \n",
       "23         PercentSalaryHike             15   \n",
       "24         PerformanceRating              2   \n",
       "25  RelationshipSatisfaction              4   \n",
       "26             StandardHours              1   \n",
       "27          StockOptionLevel              4   \n",
       "28         TotalWorkingYears             39   \n",
       "29     TrainingTimesLastYear              7   \n",
       "30           WorkLifeBalance              4   \n",
       "31            YearsAtCompany             35   \n",
       "32        YearsInCurrentRole             18   \n",
       "33   YearsSinceLastPromotion             16   \n",
       "34      YearsWithCurrManager             18   \n",
       "\n",
       "                                               Values  \n",
       "0   [38, 52, 28, 43, 27, 37, 29, 36, 55, 40, 57, 3...  \n",
       "1                                           [No, Yes]  \n",
       "2      [Travel_Frequently, Non-Travel, Travel_Rarely]  \n",
       "3   [240, 322, 1476, 920, 443, 309, 459, 566, 1229...  \n",
       "4    [Research & Development, Sales, Human Resources]  \n",
       "5   [2, 28, 1, 3, 10, 24, 18, 4, 20, 6, 26, 12, 23...  \n",
       "6                                     [4, 2, 3, 1, 5]  \n",
       "7   [Life Sciences, Medical, Human Resources, Othe...  \n",
       "8                                                 [1]  \n",
       "9   [803, 1401, 1315, 1255, 850, 1105, 1868, 407, ...  \n",
       "10                                       [1, 4, 3, 2]  \n",
       "11                                     [Female, Male]  \n",
       "12  [75, 59, 55, 96, 50, 88, 73, 81, 30, 86, 93, 7...  \n",
       "13                                       [4, 1, 3, 2]  \n",
       "14                                    [2, 4, 5, 1, 3]  \n",
       "15  [Manufacturing Director, Laboratory Technician...  \n",
       "16                                       [1, 3, 4, 2]  \n",
       "17                        [Single, Married, Divorced]  \n",
       "18  [5980, 13247, 6674, 19740, 1706, 6694, 2439, 3...  \n",
       "19  [26085, 9731, 16392, 18625, 16571, 24223, 1475...  \n",
       "20                     [6, 2, 0, 3, 1, 4, 5, 7, 9, 8]  \n",
       "21                                                [Y]  \n",
       "22                                          [Yes, No]  \n",
       "23  [12, 11, 14, 24, 18, 16, 20, 23, 19, 13, 21, 2...  \n",
       "24                                             [3, 4]  \n",
       "25                                       [4, 2, 1, 3]  \n",
       "26                                               [80]  \n",
       "27                                       [0, 1, 3, 2]  \n",
       "28  [17, 24, 10, 25, 0, 8, 1, 4, 5, 13, 15, 18, 16...  \n",
       "29                              [2, 3, 6, 5, 0, 4, 1]  \n",
       "30                                       [3, 2, 1, 4]  \n",
       "31  [15, 5, 9, 8, 0, 1, 3, 4, 12, 2, 13, 16, 14, 2...  \n",
       "32  [7, 3, 8, 0, 2, 9, 11, 10, 12, 4, 6, 1, 14, 15...  \n",
       "33  [4, 0, 7, 1, 2, 11, 3, 6, 5, 8, 15, 12, 14, 9,...  \n",
       "34  [12, 2, 5, 7, 0, 3, 8, 4, 14, 1, 9, 6, 17, 16,...  "
      ],
      "text/html": "<div>\n<style scoped>\n    .dataframe tbody tr th:only-of-type {\n        vertical-align: middle;\n    }\n\n    .dataframe tbody tr th {\n        vertical-align: top;\n    }\n\n    .dataframe thead th {\n        text-align: right;\n    }\n</style>\n<table border=\"1\" class=\"dataframe\">\n  <thead>\n    <tr style=\"text-align: right;\">\n      <th></th>\n      <th>Features</th>\n      <th>Unique Number</th>\n      <th>Values</th>\n    </tr>\n  </thead>\n  <tbody>\n    <tr>\n      <th>0</th>\n      <td>Age</td>\n      <td>43</td>\n      <td>[38, 52, 28, 43, 27, 37, 29, 36, 55, 40, 57, 3...</td>\n    </tr>\n    <tr>\n      <th>1</th>\n      <td>Attrition</td>\n      <td>2</td>\n      <td>[No, Yes]</td>\n    </tr>\n    <tr>\n      <th>2</th>\n      <td>BusinessTravel</td>\n      <td>3</td>\n      <td>[Travel_Frequently, Non-Travel, Travel_Rarely]</td>\n    </tr>\n    <tr>\n      <th>3</th>\n      <td>DailyRate</td>\n      <td>762</td>\n      <td>[240, 322, 1476, 920, 443, 309, 459, 566, 1229...</td>\n    </tr>\n    <tr>\n      <th>4</th>\n      <td>Department</td>\n      <td>3</td>\n      <td>[Research &amp; Development, Sales, Human Resources]</td>\n    </tr>\n    <tr>\n      <th>5</th>\n      <td>DistanceFromHome</td>\n      <td>29</td>\n      <td>[2, 28, 1, 3, 10, 24, 18, 4, 20, 6, 26, 12, 23...</td>\n    </tr>\n    <tr>\n      <th>6</th>\n      <td>Education</td>\n      <td>5</td>\n      <td>[4, 2, 3, 1, 5]</td>\n    </tr>\n    <tr>\n      <th>7</th>\n      <td>EducationField</td>\n      <td>6</td>\n      <td>[Life Sciences, Medical, Human Resources, Othe...</td>\n    </tr>\n    <tr>\n      <th>8</th>\n      <td>EmployeeCount</td>\n      <td>1</td>\n      <td>[1]</td>\n    </tr>\n    <tr>\n      <th>9</th>\n      <td>EmployeeNumber</td>\n      <td>1100</td>\n      <td>[803, 1401, 1315, 1255, 850, 1105, 1868, 407, ...</td>\n    </tr>\n    <tr>\n      <th>10</th>\n      <td>EnvironmentSatisfaction</td>\n      <td>4</td>\n      <td>[1, 4, 3, 2]</td>\n    </tr>\n    <tr>\n      <th>11</th>\n      <td>Gender</td>\n      <td>2</td>\n      <td>[Female, Male]</td>\n    </tr>\n    <tr>\n      <th>12</th>\n      <td>HourlyRate</td>\n      <td>71</td>\n      <td>[75, 59, 55, 96, 50, 88, 73, 81, 30, 86, 93, 7...</td>\n    </tr>\n    <tr>\n      <th>13</th>\n      <td>JobInvolvement</td>\n      <td>4</td>\n      <td>[4, 1, 3, 2]</td>\n    </tr>\n    <tr>\n      <th>14</th>\n      <td>JobLevel</td>\n      <td>5</td>\n      <td>[2, 4, 5, 1, 3]</td>\n    </tr>\n    <tr>\n      <th>15</th>\n      <td>JobRole</td>\n      <td>9</td>\n      <td>[Manufacturing Director, Laboratory Technician...</td>\n    </tr>\n    <tr>\n      <th>16</th>\n      <td>JobSatisfaction</td>\n      <td>4</td>\n      <td>[1, 3, 4, 2]</td>\n    </tr>\n    <tr>\n      <th>17</th>\n      <td>MaritalStatus</td>\n      <td>3</td>\n      <td>[Single, Married, Divorced]</td>\n    </tr>\n    <tr>\n      <th>18</th>\n      <td>MonthlyIncome</td>\n      <td>1028</td>\n      <td>[5980, 13247, 6674, 19740, 1706, 6694, 2439, 3...</td>\n    </tr>\n    <tr>\n      <th>19</th>\n      <td>MonthlyRate</td>\n      <td>1076</td>\n      <td>[26085, 9731, 16392, 18625, 16571, 24223, 1475...</td>\n    </tr>\n    <tr>\n      <th>20</th>\n      <td>NumCompaniesWorked</td>\n      <td>10</td>\n      <td>[6, 2, 0, 3, 1, 4, 5, 7, 9, 8]</td>\n    </tr>\n    <tr>\n      <th>21</th>\n      <td>Over18</td>\n      <td>1</td>\n      <td>[Y]</td>\n    </tr>\n    <tr>\n      <th>22</th>\n      <td>OverTime</td>\n      <td>2</td>\n      <td>[Yes, No]</td>\n    </tr>\n    <tr>\n      <th>23</th>\n      <td>PercentSalaryHike</td>\n      <td>15</td>\n      <td>[12, 11, 14, 24, 18, 16, 20, 23, 19, 13, 21, 2...</td>\n    </tr>\n    <tr>\n      <th>24</th>\n      <td>PerformanceRating</td>\n      <td>2</td>\n      <td>[3, 4]</td>\n    </tr>\n    <tr>\n      <th>25</th>\n      <td>RelationshipSatisfaction</td>\n      <td>4</td>\n      <td>[4, 2, 1, 3]</td>\n    </tr>\n    <tr>\n      <th>26</th>\n      <td>StandardHours</td>\n      <td>1</td>\n      <td>[80]</td>\n    </tr>\n    <tr>\n      <th>27</th>\n      <td>StockOptionLevel</td>\n      <td>4</td>\n      <td>[0, 1, 3, 2]</td>\n    </tr>\n    <tr>\n      <th>28</th>\n      <td>TotalWorkingYears</td>\n      <td>39</td>\n      <td>[17, 24, 10, 25, 0, 8, 1, 4, 5, 13, 15, 18, 16...</td>\n    </tr>\n    <tr>\n      <th>29</th>\n      <td>TrainingTimesLastYear</td>\n      <td>7</td>\n      <td>[2, 3, 6, 5, 0, 4, 1]</td>\n    </tr>\n    <tr>\n      <th>30</th>\n      <td>WorkLifeBalance</td>\n      <td>4</td>\n      <td>[3, 2, 1, 4]</td>\n    </tr>\n    <tr>\n      <th>31</th>\n      <td>YearsAtCompany</td>\n      <td>35</td>\n      <td>[15, 5, 9, 8, 0, 1, 3, 4, 12, 2, 13, 16, 14, 2...</td>\n    </tr>\n    <tr>\n      <th>32</th>\n      <td>YearsInCurrentRole</td>\n      <td>18</td>\n      <td>[7, 3, 8, 0, 2, 9, 11, 10, 12, 4, 6, 1, 14, 15...</td>\n    </tr>\n    <tr>\n      <th>33</th>\n      <td>YearsSinceLastPromotion</td>\n      <td>16</td>\n      <td>[4, 0, 7, 1, 2, 11, 3, 6, 5, 8, 15, 12, 14, 9,...</td>\n    </tr>\n    <tr>\n      <th>34</th>\n      <td>YearsWithCurrManager</td>\n      <td>18</td>\n      <td>[12, 2, 5, 7, 0, 3, 8, 4, 14, 1, 9, 6, 17, 16,...</td>\n    </tr>\n  </tbody>\n</table>\n</div>"
     },
     "metadata": {},
     "execution_count": 9
    }
   ],
   "source": [
    "get_df_uniques(train)"
   ]
  },
  {
   "source": [
    "On peut voir 3 colonnes qui ont seulement 1 valeur\n",
    "EmployeeCount, Over18 et StandardHours\n",
    "On pourra donc drop ces col (tâche efféctué dans le pipe preprocessing)"
   ],
   "cell_type": "markdown",
   "metadata": {}
  },
  {
   "source": [
    "## Choix des features"
   ],
   "cell_type": "markdown",
   "metadata": {}
  },
  {
   "cell_type": "code",
   "execution_count": 10,
   "metadata": {},
   "outputs": [
    {
     "output_type": "stream",
     "name": "stdout",
     "text": [
      "0.95098 ('MonthlyIncome', 'JobLevel')\n0.78240 ('JobLevel', 'TotalWorkingYears')\n0.77648 ('YearsWithCurrManager', 'YearsAtCompany')\n0.77513 ('PercentSalaryHike', 'PerformanceRating')\n0.76826 ('MonthlyIncome', 'TotalWorkingYears')\n0.76797 ('YearsInCurrentRole', 'YearsAtCompany')\n0.72998 ('YearsWithCurrManager', 'YearsInCurrentRole')\n0.67252 ('TotalWorkingYears', 'Age')\n0.64597 ('YearsAtCompany', 'TotalWorkingYears')\n0.58804 ('YearsSinceLastPromotion', 'YearsAtCompany')\n"
     ]
    }
   ],
   "source": [
    "get_corr_pairs(train,10)"
   ]
  },
  {
   "cell_type": "code",
   "execution_count": 11,
   "metadata": {},
   "outputs": [],
   "source": [
    "y = train[\"Attrition\"]\n",
    "X = train.drop([\n",
    "    \"Attrition\", \"EmployeeCount\", \"Over18\", \n",
    "    \"StandardHours\", \"JobLevel\", \"YearsInCurrentRole\", \n",
    "    \"YearsWithCurrManager\"\n",
    "], axis=1)\n",
    "\n",
    "test = test.drop([\n",
    "    \"EmployeeCount\", \"Over18\", \"StandardHours\", \"JobLevel\", \n",
    "    \"YearsInCurrentRole\", \"YearsWithCurrManager\"\n",
    "], axis=1)"
   ]
  },
  {
   "source": [
    "Ces variables étant trop corrélées, elles sont retiré des features"
   ],
   "cell_type": "markdown",
   "metadata": {}
  },
  {
   "source": [
    "## Gestion des différents types de variables"
   ],
   "cell_type": "markdown",
   "metadata": {}
  },
  {
   "cell_type": "code",
   "execution_count": 12,
   "metadata": {},
   "outputs": [],
   "source": [
    "cat_cols = X.select_dtypes(include=\"O\").columns\n",
    "num_cols = X.select_dtypes(exclude=\"O\").columns\n"
   ]
  },
  {
   "source": [
    "## Séparation des sets d'entrainement et de test"
   ],
   "cell_type": "markdown",
   "metadata": {}
  },
  {
   "cell_type": "code",
   "execution_count": 13,
   "metadata": {},
   "outputs": [],
   "source": [
    "X_train, X_test, y_train, y_test = train_test_split(X, y, test_size=.1, random_state=1)"
   ]
  },
  {
   "source": [
    "## Création des pipelines\n",
    "### Preprocessing\n",
    "OneHot encoding des variables catégorielles."
   ],
   "cell_type": "markdown",
   "metadata": {}
  },
  {
   "cell_type": "code",
   "execution_count": 14,
   "metadata": {},
   "outputs": [],
   "source": [
    "cat_trans = OneHotEncoder()\n",
    "num_trans = SimpleImputer()\n",
    "\n",
    "preprocessor = ColumnTransformer(\n",
    "    transformers=[\n",
    "        ('cat', cat_trans, cat_cols),\n",
    "        ('num', num_trans, num_cols)\n",
    "    ])"
   ]
  },
  {
   "source": [
    "# LogisticRegression\n",
    "La métrique utilisé ici pour évalué le modèle est le recall score. On considère que le plus important dans ce cas précis est de minimiser le nombre de faux négatifs.\n"
   ],
   "cell_type": "markdown",
   "metadata": {}
  },
  {
   "cell_type": "code",
   "execution_count": 15,
   "metadata": {},
   "outputs": [],
   "source": [
    "logit = LogisticRegression()\n",
    "\n",
    "logit_pipe = Pipeline(steps=[\n",
    "    ('preprocessor',preprocessor),\n",
    "    ('model', logit)]\n",
    ")\n",
    "\n",
    "_ = logit_pipe.fit(X_train, y_train)"
   ]
  },
  {
   "cell_type": "code",
   "execution_count": 16,
   "metadata": {},
   "outputs": [
    {
     "output_type": "stream",
     "name": "stdout",
     "text": [
      "recall score (Yes) : 0.0\nTrue Negatives  :  95\nFalse Positives :  0\nFalse Negatives :  15\nTrue Positives  :  0\n"
     ]
    }
   ],
   "source": [
    "logit_pred = logit_pipe.predict(X_test)\n",
    "show_results(y_test, logit_pred)"
   ]
  },
  {
   "cell_type": "code",
   "execution_count": 17,
   "metadata": {},
   "outputs": [
    {
     "output_type": "stream",
     "name": "stdout",
     "text": [
      "Aperçu des autres métriques disponibles :\n\n              precision    recall  f1-score   support\n\n          No       0.86      1.00      0.93        95\n         Yes       0.00      0.00      0.00        15\n\n    accuracy                           0.86       110\n   macro avg       0.43      0.50      0.46       110\nweighted avg       0.75      0.86      0.80       110\n\n"
     ]
    }
   ],
   "source": [
    "print(\"Aperçu des autres métriques disponibles :\\n\")\n",
    "print(classification_report(y_test, logit_pred))"
   ]
  },
  {
   "source": [
    "## Amélioration du modèle\n",
    "La répartition des valeurs cibles (\"Yes\", \"No\"), n'étant pas équitable, l'utilisation du paramêtre class_weight=\"balanced\" s'avère nécessaire."
   ],
   "cell_type": "markdown",
   "metadata": {}
  },
  {
   "cell_type": "code",
   "execution_count": 18,
   "metadata": {},
   "outputs": [
    {
     "output_type": "stream",
     "name": "stdout",
     "text": [
      "Avec predict() : \n",
      "\n",
      "recall score (Yes) : 0.9333333333333333\n",
      "True Negatives  :  82\n",
      "False Positives :  13\n",
      "False Negatives :  1\n",
      "True Positives  :  14\n",
      "\n",
      "\n",
      "Avec predict_proba() : \n",
      "(Threshold = 0.55)\n",
      "\n",
      "recall score (Yes) : 0.9333333333333333\n",
      "True Negatives  :  84\n",
      "False Positives :  11\n",
      "False Negatives :  1\n",
      "True Positives  :  14\n"
     ]
    }
   ],
   "source": [
    "logit_2 = LogisticRegression(class_weight=\"balanced\", solver=\"liblinear\", penalty= 'l1', C=.4)\n",
    "\n",
    "logit_2_pipe = Pipeline(steps=[\n",
    "    ('preprocessor',preprocessor),\n",
    "    ('model', logit_2)]\n",
    ")\n",
    "\n",
    "_ = logit_2_pipe.fit(X_train, y_train)\n",
    "\n",
    "logit_2_pred = logit_2_pipe.predict(X_test)\n",
    "print('Avec predict() : \\n')\n",
    "show_results(y_test, logit_2_pred)\n",
    "print(\"\\n\")\n",
    "\n",
    "threshold = 0.55\n",
    "logit_proba = logit_2_pipe.predict_proba(X_test)\n",
    "logit_proba = logit_2_pipe.classes_[np.argmax(logit_proba > threshold, axis=1)]\n",
    "print(f'Avec predict_proba() : \\n(Threshold = {threshold})\\n')\n",
    "show_results(y_test, logit_proba)"
   ]
  },
  {
   "source": [
    "On remarque que l'utilisation de predict_proba avec une modification du seuil n'améliore pas la métrique ciblée, mais cela réduit légérement le nombre de faux positifs."
   ],
   "cell_type": "markdown",
   "metadata": {}
  },
  {
   "source": [
    "### Évaluation des prédictions avec la courbe ROC"
   ],
   "cell_type": "markdown",
   "metadata": {}
  },
  {
   "cell_type": "code",
   "execution_count": 39,
   "metadata": {},
   "outputs": [
    {
     "output_type": "display_data",
     "data": {
      "text/plain": "<Figure size 432x288 with 1 Axes>",
      "image/svg+xml": "<?xml version=\"1.0\" encoding=\"utf-8\" standalone=\"no\"?>\n<!DOCTYPE svg PUBLIC \"-//W3C//DTD SVG 1.1//EN\"\n  \"http://www.w3.org/Graphics/SVG/1.1/DTD/svg11.dtd\">\n<!-- Created with matplotlib (https://matplotlib.org/) -->\n<svg height=\"262.19625pt\" version=\"1.1\" viewBox=\"0 0 385.78125 262.19625\" width=\"385.78125pt\" xmlns=\"http://www.w3.org/2000/svg\" xmlns:xlink=\"http://www.w3.org/1999/xlink\">\n <metadata>\n  <rdf:RDF xmlns:cc=\"http://creativecommons.org/ns#\" xmlns:dc=\"http://purl.org/dc/elements/1.1/\" xmlns:rdf=\"http://www.w3.org/1999/02/22-rdf-syntax-ns#\">\n   <cc:Work>\n    <dc:type rdf:resource=\"http://purl.org/dc/dcmitype/StillImage\"/>\n    <dc:date>2021-04-19T16:57:48.276362</dc:date>\n    <dc:format>image/svg+xml</dc:format>\n    <dc:creator>\n     <cc:Agent>\n      <dc:title>Matplotlib v3.3.4, https://matplotlib.org/</dc:title>\n     </cc:Agent>\n    </dc:creator>\n   </cc:Work>\n  </rdf:RDF>\n </metadata>\n <defs>\n  <style type=\"text/css\">*{stroke-linecap:butt;stroke-linejoin:round;}</style>\n </defs>\n <g id=\"figure_1\">\n  <g id=\"patch_1\">\n   <path d=\"M 0 262.19625 \nL 385.78125 262.19625 \nL 385.78125 0 \nL 0 0 \nz\n\" style=\"fill:none;\"/>\n  </g>\n  <g id=\"axes_1\">\n   <g id=\"patch_2\">\n    <path d=\"M 43.78125 224.64 \nL 378.58125 224.64 \nL 378.58125 7.2 \nL 43.78125 7.2 \nz\n\" style=\"fill:#ffffff;\"/>\n   </g>\n   <g id=\"matplotlib.axis_1\">\n    <g id=\"xtick_1\">\n     <g id=\"line2d_1\">\n      <defs>\n       <path d=\"M 0 0 \nL 0 3.5 \n\" id=\"m764cb86703\" style=\"stroke:#000000;stroke-width:0.8;\"/>\n      </defs>\n      <g>\n       <use style=\"stroke:#000000;stroke-width:0.8;\" x=\"58.999432\" xlink:href=\"#m764cb86703\" y=\"224.64\"/>\n      </g>\n     </g>\n     <g id=\"text_1\">\n      <!-- 0.0 -->\n      <g transform=\"translate(51.047869 239.238437)scale(0.1 -0.1)\">\n       <defs>\n        <path d=\"M 31.78125 66.40625 \nQ 24.171875 66.40625 20.328125 58.90625 \nQ 16.5 51.421875 16.5 36.375 \nQ 16.5 21.390625 20.328125 13.890625 \nQ 24.171875 6.390625 31.78125 6.390625 \nQ 39.453125 6.390625 43.28125 13.890625 \nQ 47.125 21.390625 47.125 36.375 \nQ 47.125 51.421875 43.28125 58.90625 \nQ 39.453125 66.40625 31.78125 66.40625 \nz\nM 31.78125 74.21875 \nQ 44.046875 74.21875 50.515625 64.515625 \nQ 56.984375 54.828125 56.984375 36.375 \nQ 56.984375 17.96875 50.515625 8.265625 \nQ 44.046875 -1.421875 31.78125 -1.421875 \nQ 19.53125 -1.421875 13.0625 8.265625 \nQ 6.59375 17.96875 6.59375 36.375 \nQ 6.59375 54.828125 13.0625 64.515625 \nQ 19.53125 74.21875 31.78125 74.21875 \nz\n\" id=\"DejaVuSans-48\"/>\n        <path d=\"M 10.6875 12.40625 \nL 21 12.40625 \nL 21 0 \nL 10.6875 0 \nz\n\" id=\"DejaVuSans-46\"/>\n       </defs>\n       <use xlink:href=\"#DejaVuSans-48\"/>\n       <use x=\"63.623047\" xlink:href=\"#DejaVuSans-46\"/>\n       <use x=\"95.410156\" xlink:href=\"#DejaVuSans-48\"/>\n      </g>\n     </g>\n    </g>\n    <g id=\"xtick_2\">\n     <g id=\"line2d_2\">\n      <g>\n       <use style=\"stroke:#000000;stroke-width:0.8;\" x=\"119.872159\" xlink:href=\"#m764cb86703\" y=\"224.64\"/>\n      </g>\n     </g>\n     <g id=\"text_2\">\n      <!-- 0.2 -->\n      <g transform=\"translate(111.920597 239.238437)scale(0.1 -0.1)\">\n       <defs>\n        <path d=\"M 19.1875 8.296875 \nL 53.609375 8.296875 \nL 53.609375 0 \nL 7.328125 0 \nL 7.328125 8.296875 \nQ 12.9375 14.109375 22.625 23.890625 \nQ 32.328125 33.6875 34.8125 36.53125 \nQ 39.546875 41.84375 41.421875 45.53125 \nQ 43.3125 49.21875 43.3125 52.78125 \nQ 43.3125 58.59375 39.234375 62.25 \nQ 35.15625 65.921875 28.609375 65.921875 \nQ 23.96875 65.921875 18.8125 64.3125 \nQ 13.671875 62.703125 7.8125 59.421875 \nL 7.8125 69.390625 \nQ 13.765625 71.78125 18.9375 73 \nQ 24.125 74.21875 28.421875 74.21875 \nQ 39.75 74.21875 46.484375 68.546875 \nQ 53.21875 62.890625 53.21875 53.421875 \nQ 53.21875 48.921875 51.53125 44.890625 \nQ 49.859375 40.875 45.40625 35.40625 \nQ 44.1875 33.984375 37.640625 27.21875 \nQ 31.109375 20.453125 19.1875 8.296875 \nz\n\" id=\"DejaVuSans-50\"/>\n       </defs>\n       <use xlink:href=\"#DejaVuSans-48\"/>\n       <use x=\"63.623047\" xlink:href=\"#DejaVuSans-46\"/>\n       <use x=\"95.410156\" xlink:href=\"#DejaVuSans-50\"/>\n      </g>\n     </g>\n    </g>\n    <g id=\"xtick_3\">\n     <g id=\"line2d_3\">\n      <g>\n       <use style=\"stroke:#000000;stroke-width:0.8;\" x=\"180.744886\" xlink:href=\"#m764cb86703\" y=\"224.64\"/>\n      </g>\n     </g>\n     <g id=\"text_3\">\n      <!-- 0.4 -->\n      <g transform=\"translate(172.793324 239.238437)scale(0.1 -0.1)\">\n       <defs>\n        <path d=\"M 37.796875 64.3125 \nL 12.890625 25.390625 \nL 37.796875 25.390625 \nz\nM 35.203125 72.90625 \nL 47.609375 72.90625 \nL 47.609375 25.390625 \nL 58.015625 25.390625 \nL 58.015625 17.1875 \nL 47.609375 17.1875 \nL 47.609375 0 \nL 37.796875 0 \nL 37.796875 17.1875 \nL 4.890625 17.1875 \nL 4.890625 26.703125 \nz\n\" id=\"DejaVuSans-52\"/>\n       </defs>\n       <use xlink:href=\"#DejaVuSans-48\"/>\n       <use x=\"63.623047\" xlink:href=\"#DejaVuSans-46\"/>\n       <use x=\"95.410156\" xlink:href=\"#DejaVuSans-52\"/>\n      </g>\n     </g>\n    </g>\n    <g id=\"xtick_4\">\n     <g id=\"line2d_4\">\n      <g>\n       <use style=\"stroke:#000000;stroke-width:0.8;\" x=\"241.617614\" xlink:href=\"#m764cb86703\" y=\"224.64\"/>\n      </g>\n     </g>\n     <g id=\"text_4\">\n      <!-- 0.6 -->\n      <g transform=\"translate(233.666051 239.238437)scale(0.1 -0.1)\">\n       <defs>\n        <path d=\"M 33.015625 40.375 \nQ 26.375 40.375 22.484375 35.828125 \nQ 18.609375 31.296875 18.609375 23.390625 \nQ 18.609375 15.53125 22.484375 10.953125 \nQ 26.375 6.390625 33.015625 6.390625 \nQ 39.65625 6.390625 43.53125 10.953125 \nQ 47.40625 15.53125 47.40625 23.390625 \nQ 47.40625 31.296875 43.53125 35.828125 \nQ 39.65625 40.375 33.015625 40.375 \nz\nM 52.59375 71.296875 \nL 52.59375 62.3125 \nQ 48.875 64.0625 45.09375 64.984375 \nQ 41.3125 65.921875 37.59375 65.921875 \nQ 27.828125 65.921875 22.671875 59.328125 \nQ 17.53125 52.734375 16.796875 39.40625 \nQ 19.671875 43.65625 24.015625 45.921875 \nQ 28.375 48.1875 33.59375 48.1875 \nQ 44.578125 48.1875 50.953125 41.515625 \nQ 57.328125 34.859375 57.328125 23.390625 \nQ 57.328125 12.15625 50.6875 5.359375 \nQ 44.046875 -1.421875 33.015625 -1.421875 \nQ 20.359375 -1.421875 13.671875 8.265625 \nQ 6.984375 17.96875 6.984375 36.375 \nQ 6.984375 53.65625 15.1875 63.9375 \nQ 23.390625 74.21875 37.203125 74.21875 \nQ 40.921875 74.21875 44.703125 73.484375 \nQ 48.484375 72.75 52.59375 71.296875 \nz\n\" id=\"DejaVuSans-54\"/>\n       </defs>\n       <use xlink:href=\"#DejaVuSans-48\"/>\n       <use x=\"63.623047\" xlink:href=\"#DejaVuSans-46\"/>\n       <use x=\"95.410156\" xlink:href=\"#DejaVuSans-54\"/>\n      </g>\n     </g>\n    </g>\n    <g id=\"xtick_5\">\n     <g id=\"line2d_5\">\n      <g>\n       <use style=\"stroke:#000000;stroke-width:0.8;\" x=\"302.490341\" xlink:href=\"#m764cb86703\" y=\"224.64\"/>\n      </g>\n     </g>\n     <g id=\"text_5\">\n      <!-- 0.8 -->\n      <g transform=\"translate(294.538778 239.238437)scale(0.1 -0.1)\">\n       <defs>\n        <path d=\"M 31.78125 34.625 \nQ 24.75 34.625 20.71875 30.859375 \nQ 16.703125 27.09375 16.703125 20.515625 \nQ 16.703125 13.921875 20.71875 10.15625 \nQ 24.75 6.390625 31.78125 6.390625 \nQ 38.8125 6.390625 42.859375 10.171875 \nQ 46.921875 13.96875 46.921875 20.515625 \nQ 46.921875 27.09375 42.890625 30.859375 \nQ 38.875 34.625 31.78125 34.625 \nz\nM 21.921875 38.8125 \nQ 15.578125 40.375 12.03125 44.71875 \nQ 8.5 49.078125 8.5 55.328125 \nQ 8.5 64.0625 14.71875 69.140625 \nQ 20.953125 74.21875 31.78125 74.21875 \nQ 42.671875 74.21875 48.875 69.140625 \nQ 55.078125 64.0625 55.078125 55.328125 \nQ 55.078125 49.078125 51.53125 44.71875 \nQ 48 40.375 41.703125 38.8125 \nQ 48.828125 37.15625 52.796875 32.3125 \nQ 56.78125 27.484375 56.78125 20.515625 \nQ 56.78125 9.90625 50.3125 4.234375 \nQ 43.84375 -1.421875 31.78125 -1.421875 \nQ 19.734375 -1.421875 13.25 4.234375 \nQ 6.78125 9.90625 6.78125 20.515625 \nQ 6.78125 27.484375 10.78125 32.3125 \nQ 14.796875 37.15625 21.921875 38.8125 \nz\nM 18.3125 54.390625 \nQ 18.3125 48.734375 21.84375 45.5625 \nQ 25.390625 42.390625 31.78125 42.390625 \nQ 38.140625 42.390625 41.71875 45.5625 \nQ 45.3125 48.734375 45.3125 54.390625 \nQ 45.3125 60.0625 41.71875 63.234375 \nQ 38.140625 66.40625 31.78125 66.40625 \nQ 25.390625 66.40625 21.84375 63.234375 \nQ 18.3125 60.0625 18.3125 54.390625 \nz\n\" id=\"DejaVuSans-56\"/>\n       </defs>\n       <use xlink:href=\"#DejaVuSans-48\"/>\n       <use x=\"63.623047\" xlink:href=\"#DejaVuSans-46\"/>\n       <use x=\"95.410156\" xlink:href=\"#DejaVuSans-56\"/>\n      </g>\n     </g>\n    </g>\n    <g id=\"xtick_6\">\n     <g id=\"line2d_6\">\n      <g>\n       <use style=\"stroke:#000000;stroke-width:0.8;\" x=\"363.363068\" xlink:href=\"#m764cb86703\" y=\"224.64\"/>\n      </g>\n     </g>\n     <g id=\"text_6\">\n      <!-- 1.0 -->\n      <g transform=\"translate(355.411506 239.238437)scale(0.1 -0.1)\">\n       <defs>\n        <path d=\"M 12.40625 8.296875 \nL 28.515625 8.296875 \nL 28.515625 63.921875 \nL 10.984375 60.40625 \nL 10.984375 69.390625 \nL 28.421875 72.90625 \nL 38.28125 72.90625 \nL 38.28125 8.296875 \nL 54.390625 8.296875 \nL 54.390625 0 \nL 12.40625 0 \nz\n\" id=\"DejaVuSans-49\"/>\n       </defs>\n       <use xlink:href=\"#DejaVuSans-49\"/>\n       <use x=\"63.623047\" xlink:href=\"#DejaVuSans-46\"/>\n       <use x=\"95.410156\" xlink:href=\"#DejaVuSans-48\"/>\n      </g>\n     </g>\n    </g>\n    <g id=\"text_7\">\n     <!-- False Positive Rate -->\n     <g transform=\"translate(164.714844 252.916562)scale(0.1 -0.1)\">\n      <defs>\n       <path d=\"M 9.8125 72.90625 \nL 51.703125 72.90625 \nL 51.703125 64.59375 \nL 19.671875 64.59375 \nL 19.671875 43.109375 \nL 48.578125 43.109375 \nL 48.578125 34.8125 \nL 19.671875 34.8125 \nL 19.671875 0 \nL 9.8125 0 \nz\n\" id=\"DejaVuSans-70\"/>\n       <path d=\"M 34.28125 27.484375 \nQ 23.390625 27.484375 19.1875 25 \nQ 14.984375 22.515625 14.984375 16.5 \nQ 14.984375 11.71875 18.140625 8.90625 \nQ 21.296875 6.109375 26.703125 6.109375 \nQ 34.1875 6.109375 38.703125 11.40625 \nQ 43.21875 16.703125 43.21875 25.484375 \nL 43.21875 27.484375 \nz\nM 52.203125 31.203125 \nL 52.203125 0 \nL 43.21875 0 \nL 43.21875 8.296875 \nQ 40.140625 3.328125 35.546875 0.953125 \nQ 30.953125 -1.421875 24.3125 -1.421875 \nQ 15.921875 -1.421875 10.953125 3.296875 \nQ 6 8.015625 6 15.921875 \nQ 6 25.140625 12.171875 29.828125 \nQ 18.359375 34.515625 30.609375 34.515625 \nL 43.21875 34.515625 \nL 43.21875 35.40625 \nQ 43.21875 41.609375 39.140625 45 \nQ 35.0625 48.390625 27.6875 48.390625 \nQ 23 48.390625 18.546875 47.265625 \nQ 14.109375 46.140625 10.015625 43.890625 \nL 10.015625 52.203125 \nQ 14.9375 54.109375 19.578125 55.046875 \nQ 24.21875 56 28.609375 56 \nQ 40.484375 56 46.34375 49.84375 \nQ 52.203125 43.703125 52.203125 31.203125 \nz\n\" id=\"DejaVuSans-97\"/>\n       <path d=\"M 9.421875 75.984375 \nL 18.40625 75.984375 \nL 18.40625 0 \nL 9.421875 0 \nz\n\" id=\"DejaVuSans-108\"/>\n       <path d=\"M 44.28125 53.078125 \nL 44.28125 44.578125 \nQ 40.484375 46.53125 36.375 47.5 \nQ 32.28125 48.484375 27.875 48.484375 \nQ 21.1875 48.484375 17.84375 46.4375 \nQ 14.5 44.390625 14.5 40.28125 \nQ 14.5 37.15625 16.890625 35.375 \nQ 19.28125 33.59375 26.515625 31.984375 \nL 29.59375 31.296875 \nQ 39.15625 29.25 43.1875 25.515625 \nQ 47.21875 21.78125 47.21875 15.09375 \nQ 47.21875 7.46875 41.1875 3.015625 \nQ 35.15625 -1.421875 24.609375 -1.421875 \nQ 20.21875 -1.421875 15.453125 -0.5625 \nQ 10.6875 0.296875 5.421875 2 \nL 5.421875 11.28125 \nQ 10.40625 8.6875 15.234375 7.390625 \nQ 20.0625 6.109375 24.8125 6.109375 \nQ 31.15625 6.109375 34.5625 8.28125 \nQ 37.984375 10.453125 37.984375 14.40625 \nQ 37.984375 18.0625 35.515625 20.015625 \nQ 33.0625 21.96875 24.703125 23.78125 \nL 21.578125 24.515625 \nQ 13.234375 26.265625 9.515625 29.90625 \nQ 5.8125 33.546875 5.8125 39.890625 \nQ 5.8125 47.609375 11.28125 51.796875 \nQ 16.75 56 26.8125 56 \nQ 31.78125 56 36.171875 55.265625 \nQ 40.578125 54.546875 44.28125 53.078125 \nz\n\" id=\"DejaVuSans-115\"/>\n       <path d=\"M 56.203125 29.59375 \nL 56.203125 25.203125 \nL 14.890625 25.203125 \nQ 15.484375 15.921875 20.484375 11.0625 \nQ 25.484375 6.203125 34.421875 6.203125 \nQ 39.59375 6.203125 44.453125 7.46875 \nQ 49.3125 8.734375 54.109375 11.28125 \nL 54.109375 2.78125 \nQ 49.265625 0.734375 44.1875 -0.34375 \nQ 39.109375 -1.421875 33.890625 -1.421875 \nQ 20.796875 -1.421875 13.15625 6.1875 \nQ 5.515625 13.8125 5.515625 26.8125 \nQ 5.515625 40.234375 12.765625 48.109375 \nQ 20.015625 56 32.328125 56 \nQ 43.359375 56 49.78125 48.890625 \nQ 56.203125 41.796875 56.203125 29.59375 \nz\nM 47.21875 32.234375 \nQ 47.125 39.59375 43.09375 43.984375 \nQ 39.0625 48.390625 32.421875 48.390625 \nQ 24.90625 48.390625 20.390625 44.140625 \nQ 15.875 39.890625 15.1875 32.171875 \nz\n\" id=\"DejaVuSans-101\"/>\n       <path id=\"DejaVuSans-32\"/>\n       <path d=\"M 19.671875 64.796875 \nL 19.671875 37.40625 \nL 32.078125 37.40625 \nQ 38.96875 37.40625 42.71875 40.96875 \nQ 46.484375 44.53125 46.484375 51.125 \nQ 46.484375 57.671875 42.71875 61.234375 \nQ 38.96875 64.796875 32.078125 64.796875 \nz\nM 9.8125 72.90625 \nL 32.078125 72.90625 \nQ 44.34375 72.90625 50.609375 67.359375 \nQ 56.890625 61.8125 56.890625 51.125 \nQ 56.890625 40.328125 50.609375 34.8125 \nQ 44.34375 29.296875 32.078125 29.296875 \nL 19.671875 29.296875 \nL 19.671875 0 \nL 9.8125 0 \nz\n\" id=\"DejaVuSans-80\"/>\n       <path d=\"M 30.609375 48.390625 \nQ 23.390625 48.390625 19.1875 42.75 \nQ 14.984375 37.109375 14.984375 27.296875 \nQ 14.984375 17.484375 19.15625 11.84375 \nQ 23.34375 6.203125 30.609375 6.203125 \nQ 37.796875 6.203125 41.984375 11.859375 \nQ 46.1875 17.53125 46.1875 27.296875 \nQ 46.1875 37.015625 41.984375 42.703125 \nQ 37.796875 48.390625 30.609375 48.390625 \nz\nM 30.609375 56 \nQ 42.328125 56 49.015625 48.375 \nQ 55.71875 40.765625 55.71875 27.296875 \nQ 55.71875 13.875 49.015625 6.21875 \nQ 42.328125 -1.421875 30.609375 -1.421875 \nQ 18.84375 -1.421875 12.171875 6.21875 \nQ 5.515625 13.875 5.515625 27.296875 \nQ 5.515625 40.765625 12.171875 48.375 \nQ 18.84375 56 30.609375 56 \nz\n\" id=\"DejaVuSans-111\"/>\n       <path d=\"M 9.421875 54.6875 \nL 18.40625 54.6875 \nL 18.40625 0 \nL 9.421875 0 \nz\nM 9.421875 75.984375 \nL 18.40625 75.984375 \nL 18.40625 64.59375 \nL 9.421875 64.59375 \nz\n\" id=\"DejaVuSans-105\"/>\n       <path d=\"M 18.3125 70.21875 \nL 18.3125 54.6875 \nL 36.8125 54.6875 \nL 36.8125 47.703125 \nL 18.3125 47.703125 \nL 18.3125 18.015625 \nQ 18.3125 11.328125 20.140625 9.421875 \nQ 21.96875 7.515625 27.59375 7.515625 \nL 36.8125 7.515625 \nL 36.8125 0 \nL 27.59375 0 \nQ 17.1875 0 13.234375 3.875 \nQ 9.28125 7.765625 9.28125 18.015625 \nL 9.28125 47.703125 \nL 2.6875 47.703125 \nL 2.6875 54.6875 \nL 9.28125 54.6875 \nL 9.28125 70.21875 \nz\n\" id=\"DejaVuSans-116\"/>\n       <path d=\"M 2.984375 54.6875 \nL 12.5 54.6875 \nL 29.59375 8.796875 \nL 46.6875 54.6875 \nL 56.203125 54.6875 \nL 35.6875 0 \nL 23.484375 0 \nz\n\" id=\"DejaVuSans-118\"/>\n       <path d=\"M 44.390625 34.1875 \nQ 47.5625 33.109375 50.5625 29.59375 \nQ 53.5625 26.078125 56.59375 19.921875 \nL 66.609375 0 \nL 56 0 \nL 46.6875 18.703125 \nQ 43.0625 26.03125 39.671875 28.421875 \nQ 36.28125 30.8125 30.421875 30.8125 \nL 19.671875 30.8125 \nL 19.671875 0 \nL 9.8125 0 \nL 9.8125 72.90625 \nL 32.078125 72.90625 \nQ 44.578125 72.90625 50.734375 67.671875 \nQ 56.890625 62.453125 56.890625 51.90625 \nQ 56.890625 45.015625 53.6875 40.46875 \nQ 50.484375 35.9375 44.390625 34.1875 \nz\nM 19.671875 64.796875 \nL 19.671875 38.921875 \nL 32.078125 38.921875 \nQ 39.203125 38.921875 42.84375 42.21875 \nQ 46.484375 45.515625 46.484375 51.90625 \nQ 46.484375 58.296875 42.84375 61.546875 \nQ 39.203125 64.796875 32.078125 64.796875 \nz\n\" id=\"DejaVuSans-82\"/>\n      </defs>\n      <use xlink:href=\"#DejaVuSans-70\"/>\n      <use x=\"48.394531\" xlink:href=\"#DejaVuSans-97\"/>\n      <use x=\"109.673828\" xlink:href=\"#DejaVuSans-108\"/>\n      <use x=\"137.457031\" xlink:href=\"#DejaVuSans-115\"/>\n      <use x=\"189.556641\" xlink:href=\"#DejaVuSans-101\"/>\n      <use x=\"251.080078\" xlink:href=\"#DejaVuSans-32\"/>\n      <use x=\"282.867188\" xlink:href=\"#DejaVuSans-80\"/>\n      <use x=\"339.544922\" xlink:href=\"#DejaVuSans-111\"/>\n      <use x=\"400.726562\" xlink:href=\"#DejaVuSans-115\"/>\n      <use x=\"452.826172\" xlink:href=\"#DejaVuSans-105\"/>\n      <use x=\"480.609375\" xlink:href=\"#DejaVuSans-116\"/>\n      <use x=\"519.818359\" xlink:href=\"#DejaVuSans-105\"/>\n      <use x=\"547.601562\" xlink:href=\"#DejaVuSans-118\"/>\n      <use x=\"606.78125\" xlink:href=\"#DejaVuSans-101\"/>\n      <use x=\"668.304688\" xlink:href=\"#DejaVuSans-32\"/>\n      <use x=\"700.091797\" xlink:href=\"#DejaVuSans-82\"/>\n      <use x=\"767.324219\" xlink:href=\"#DejaVuSans-97\"/>\n      <use x=\"828.603516\" xlink:href=\"#DejaVuSans-116\"/>\n      <use x=\"867.8125\" xlink:href=\"#DejaVuSans-101\"/>\n     </g>\n    </g>\n   </g>\n   <g id=\"matplotlib.axis_2\">\n    <g id=\"ytick_1\">\n     <g id=\"line2d_7\">\n      <defs>\n       <path d=\"M 0 0 \nL -3.5 0 \n\" id=\"md303f84e73\" style=\"stroke:#000000;stroke-width:0.8;\"/>\n      </defs>\n      <g>\n       <use style=\"stroke:#000000;stroke-width:0.8;\" x=\"43.78125\" xlink:href=\"#md303f84e73\" y=\"214.756364\"/>\n      </g>\n     </g>\n     <g id=\"text_8\">\n      <!-- 0.0 -->\n      <g transform=\"translate(20.878125 218.555582)scale(0.1 -0.1)\">\n       <use xlink:href=\"#DejaVuSans-48\"/>\n       <use x=\"63.623047\" xlink:href=\"#DejaVuSans-46\"/>\n       <use x=\"95.410156\" xlink:href=\"#DejaVuSans-48\"/>\n      </g>\n     </g>\n    </g>\n    <g id=\"ytick_2\">\n     <g id=\"line2d_8\">\n      <g>\n       <use style=\"stroke:#000000;stroke-width:0.8;\" x=\"43.78125\" xlink:href=\"#md303f84e73\" y=\"175.221818\"/>\n      </g>\n     </g>\n     <g id=\"text_9\">\n      <!-- 0.2 -->\n      <g transform=\"translate(20.878125 179.021037)scale(0.1 -0.1)\">\n       <use xlink:href=\"#DejaVuSans-48\"/>\n       <use x=\"63.623047\" xlink:href=\"#DejaVuSans-46\"/>\n       <use x=\"95.410156\" xlink:href=\"#DejaVuSans-50\"/>\n      </g>\n     </g>\n    </g>\n    <g id=\"ytick_3\">\n     <g id=\"line2d_9\">\n      <g>\n       <use style=\"stroke:#000000;stroke-width:0.8;\" x=\"43.78125\" xlink:href=\"#md303f84e73\" y=\"135.687273\"/>\n      </g>\n     </g>\n     <g id=\"text_10\">\n      <!-- 0.4 -->\n      <g transform=\"translate(20.878125 139.486491)scale(0.1 -0.1)\">\n       <use xlink:href=\"#DejaVuSans-48\"/>\n       <use x=\"63.623047\" xlink:href=\"#DejaVuSans-46\"/>\n       <use x=\"95.410156\" xlink:href=\"#DejaVuSans-52\"/>\n      </g>\n     </g>\n    </g>\n    <g id=\"ytick_4\">\n     <g id=\"line2d_10\">\n      <g>\n       <use style=\"stroke:#000000;stroke-width:0.8;\" x=\"43.78125\" xlink:href=\"#md303f84e73\" y=\"96.152727\"/>\n      </g>\n     </g>\n     <g id=\"text_11\">\n      <!-- 0.6 -->\n      <g transform=\"translate(20.878125 99.951946)scale(0.1 -0.1)\">\n       <use xlink:href=\"#DejaVuSans-48\"/>\n       <use x=\"63.623047\" xlink:href=\"#DejaVuSans-46\"/>\n       <use x=\"95.410156\" xlink:href=\"#DejaVuSans-54\"/>\n      </g>\n     </g>\n    </g>\n    <g id=\"ytick_5\">\n     <g id=\"line2d_11\">\n      <g>\n       <use style=\"stroke:#000000;stroke-width:0.8;\" x=\"43.78125\" xlink:href=\"#md303f84e73\" y=\"56.618182\"/>\n      </g>\n     </g>\n     <g id=\"text_12\">\n      <!-- 0.8 -->\n      <g transform=\"translate(20.878125 60.417401)scale(0.1 -0.1)\">\n       <use xlink:href=\"#DejaVuSans-48\"/>\n       <use x=\"63.623047\" xlink:href=\"#DejaVuSans-46\"/>\n       <use x=\"95.410156\" xlink:href=\"#DejaVuSans-56\"/>\n      </g>\n     </g>\n    </g>\n    <g id=\"ytick_6\">\n     <g id=\"line2d_12\">\n      <g>\n       <use style=\"stroke:#000000;stroke-width:0.8;\" x=\"43.78125\" xlink:href=\"#md303f84e73\" y=\"17.083636\"/>\n      </g>\n     </g>\n     <g id=\"text_13\">\n      <!-- 1.0 -->\n      <g transform=\"translate(20.878125 20.882855)scale(0.1 -0.1)\">\n       <use xlink:href=\"#DejaVuSans-49\"/>\n       <use x=\"63.623047\" xlink:href=\"#DejaVuSans-46\"/>\n       <use x=\"95.410156\" xlink:href=\"#DejaVuSans-48\"/>\n      </g>\n     </g>\n    </g>\n    <g id=\"text_14\">\n     <!-- True Positive Rate -->\n     <g transform=\"translate(14.798438 160.449687)rotate(-90)scale(0.1 -0.1)\">\n      <defs>\n       <path d=\"M -0.296875 72.90625 \nL 61.375 72.90625 \nL 61.375 64.59375 \nL 35.5 64.59375 \nL 35.5 0 \nL 25.59375 0 \nL 25.59375 64.59375 \nL -0.296875 64.59375 \nz\n\" id=\"DejaVuSans-84\"/>\n       <path d=\"M 41.109375 46.296875 \nQ 39.59375 47.171875 37.8125 47.578125 \nQ 36.03125 48 33.890625 48 \nQ 26.265625 48 22.1875 43.046875 \nQ 18.109375 38.09375 18.109375 28.8125 \nL 18.109375 0 \nL 9.078125 0 \nL 9.078125 54.6875 \nL 18.109375 54.6875 \nL 18.109375 46.1875 \nQ 20.953125 51.171875 25.484375 53.578125 \nQ 30.03125 56 36.53125 56 \nQ 37.453125 56 38.578125 55.875 \nQ 39.703125 55.765625 41.0625 55.515625 \nz\n\" id=\"DejaVuSans-114\"/>\n       <path d=\"M 8.5 21.578125 \nL 8.5 54.6875 \nL 17.484375 54.6875 \nL 17.484375 21.921875 \nQ 17.484375 14.15625 20.5 10.265625 \nQ 23.53125 6.390625 29.59375 6.390625 \nQ 36.859375 6.390625 41.078125 11.03125 \nQ 45.3125 15.671875 45.3125 23.6875 \nL 45.3125 54.6875 \nL 54.296875 54.6875 \nL 54.296875 0 \nL 45.3125 0 \nL 45.3125 8.40625 \nQ 42.046875 3.421875 37.71875 1 \nQ 33.40625 -1.421875 27.6875 -1.421875 \nQ 18.265625 -1.421875 13.375 4.4375 \nQ 8.5 10.296875 8.5 21.578125 \nz\nM 31.109375 56 \nz\n\" id=\"DejaVuSans-117\"/>\n      </defs>\n      <use xlink:href=\"#DejaVuSans-84\"/>\n      <use x=\"46.333984\" xlink:href=\"#DejaVuSans-114\"/>\n      <use x=\"87.447266\" xlink:href=\"#DejaVuSans-117\"/>\n      <use x=\"150.826172\" xlink:href=\"#DejaVuSans-101\"/>\n      <use x=\"212.349609\" xlink:href=\"#DejaVuSans-32\"/>\n      <use x=\"244.136719\" xlink:href=\"#DejaVuSans-80\"/>\n      <use x=\"300.814453\" xlink:href=\"#DejaVuSans-111\"/>\n      <use x=\"361.996094\" xlink:href=\"#DejaVuSans-115\"/>\n      <use x=\"414.095703\" xlink:href=\"#DejaVuSans-105\"/>\n      <use x=\"441.878906\" xlink:href=\"#DejaVuSans-116\"/>\n      <use x=\"481.087891\" xlink:href=\"#DejaVuSans-105\"/>\n      <use x=\"508.871094\" xlink:href=\"#DejaVuSans-118\"/>\n      <use x=\"568.050781\" xlink:href=\"#DejaVuSans-101\"/>\n      <use x=\"629.574219\" xlink:href=\"#DejaVuSans-32\"/>\n      <use x=\"661.361328\" xlink:href=\"#DejaVuSans-82\"/>\n      <use x=\"728.59375\" xlink:href=\"#DejaVuSans-97\"/>\n      <use x=\"789.873047\" xlink:href=\"#DejaVuSans-116\"/>\n      <use x=\"829.082031\" xlink:href=\"#DejaVuSans-101\"/>\n     </g>\n    </g>\n   </g>\n   <g id=\"line2d_13\">\n    <path clip-path=\"url(#p9e244e3c9d)\" d=\"M 58.999432 214.756364 \nL 58.999432 201.578182 \nL 58.999432 122.509091 \nL 62.20326 122.509091 \nL 62.20326 96.152727 \nL 65.407087 96.152727 \nL 65.407087 69.796364 \nL 68.610915 69.796364 \nL 68.610915 56.618182 \nL 71.814743 56.618182 \nL 71.814743 43.44 \nL 91.037709 43.44 \nL 91.037709 30.261818 \nL 132.68747 30.261818 \nL 132.68747 17.083636 \nL 363.363068 17.083636 \n\" style=\"fill:none;stroke:#1f77b4;stroke-linecap:square;stroke-width:1.5;\"/>\n   </g>\n   <g id=\"patch_3\">\n    <path d=\"M 43.78125 224.64 \nL 43.78125 7.2 \n\" style=\"fill:none;stroke:#000000;stroke-linecap:square;stroke-linejoin:miter;stroke-width:0.8;\"/>\n   </g>\n   <g id=\"patch_4\">\n    <path d=\"M 378.58125 224.64 \nL 378.58125 7.2 \n\" style=\"fill:none;stroke:#000000;stroke-linecap:square;stroke-linejoin:miter;stroke-width:0.8;\"/>\n   </g>\n   <g id=\"patch_5\">\n    <path d=\"M 43.78125 224.64 \nL 378.58125 224.64 \n\" style=\"fill:none;stroke:#000000;stroke-linecap:square;stroke-linejoin:miter;stroke-width:0.8;\"/>\n   </g>\n   <g id=\"patch_6\">\n    <path d=\"M 43.78125 7.2 \nL 378.58125 7.2 \n\" style=\"fill:none;stroke:#000000;stroke-linecap:square;stroke-linejoin:miter;stroke-width:0.8;\"/>\n   </g>\n   <g id=\"legend_1\">\n    <g id=\"patch_7\">\n     <path d=\"M 281.4375 219.64 \nL 371.58125 219.64 \nQ 373.58125 219.64 373.58125 217.64 \nL 373.58125 203.961875 \nQ 373.58125 201.961875 371.58125 201.961875 \nL 281.4375 201.961875 \nQ 279.4375 201.961875 279.4375 203.961875 \nL 279.4375 217.64 \nQ 279.4375 219.64 281.4375 219.64 \nz\n\" style=\"fill:#ffffff;opacity:0.8;stroke:#cccccc;stroke-linejoin:miter;\"/>\n    </g>\n    <g id=\"line2d_14\">\n     <path d=\"M 283.4375 210.060312 \nL 303.4375 210.060312 \n\" style=\"fill:none;stroke:#1f77b4;stroke-linecap:square;stroke-width:1.5;\"/>\n    </g>\n    <g id=\"line2d_15\"/>\n    <g id=\"text_15\">\n     <!-- AUC = 0.97 -->\n     <g transform=\"translate(311.4375 213.560312)scale(0.1 -0.1)\">\n      <defs>\n       <path d=\"M 34.1875 63.1875 \nL 20.796875 26.90625 \nL 47.609375 26.90625 \nz\nM 28.609375 72.90625 \nL 39.796875 72.90625 \nL 67.578125 0 \nL 57.328125 0 \nL 50.6875 18.703125 \nL 17.828125 18.703125 \nL 11.1875 0 \nL 0.78125 0 \nz\n\" id=\"DejaVuSans-65\"/>\n       <path d=\"M 8.6875 72.90625 \nL 18.609375 72.90625 \nL 18.609375 28.609375 \nQ 18.609375 16.890625 22.84375 11.734375 \nQ 27.09375 6.59375 36.625 6.59375 \nQ 46.09375 6.59375 50.34375 11.734375 \nQ 54.59375 16.890625 54.59375 28.609375 \nL 54.59375 72.90625 \nL 64.5 72.90625 \nL 64.5 27.390625 \nQ 64.5 13.140625 57.4375 5.859375 \nQ 50.390625 -1.421875 36.625 -1.421875 \nQ 22.796875 -1.421875 15.734375 5.859375 \nQ 8.6875 13.140625 8.6875 27.390625 \nz\n\" id=\"DejaVuSans-85\"/>\n       <path d=\"M 64.40625 67.28125 \nL 64.40625 56.890625 \nQ 59.421875 61.53125 53.78125 63.8125 \nQ 48.140625 66.109375 41.796875 66.109375 \nQ 29.296875 66.109375 22.65625 58.46875 \nQ 16.015625 50.828125 16.015625 36.375 \nQ 16.015625 21.96875 22.65625 14.328125 \nQ 29.296875 6.6875 41.796875 6.6875 \nQ 48.140625 6.6875 53.78125 8.984375 \nQ 59.421875 11.28125 64.40625 15.921875 \nL 64.40625 5.609375 \nQ 59.234375 2.09375 53.4375 0.328125 \nQ 47.65625 -1.421875 41.21875 -1.421875 \nQ 24.65625 -1.421875 15.125 8.703125 \nQ 5.609375 18.84375 5.609375 36.375 \nQ 5.609375 53.953125 15.125 64.078125 \nQ 24.65625 74.21875 41.21875 74.21875 \nQ 47.75 74.21875 53.53125 72.484375 \nQ 59.328125 70.75 64.40625 67.28125 \nz\n\" id=\"DejaVuSans-67\"/>\n       <path d=\"M 10.59375 45.40625 \nL 73.1875 45.40625 \nL 73.1875 37.203125 \nL 10.59375 37.203125 \nz\nM 10.59375 25.484375 \nL 73.1875 25.484375 \nL 73.1875 17.1875 \nL 10.59375 17.1875 \nz\n\" id=\"DejaVuSans-61\"/>\n       <path d=\"M 10.984375 1.515625 \nL 10.984375 10.5 \nQ 14.703125 8.734375 18.5 7.8125 \nQ 22.3125 6.890625 25.984375 6.890625 \nQ 35.75 6.890625 40.890625 13.453125 \nQ 46.046875 20.015625 46.78125 33.40625 \nQ 43.953125 29.203125 39.59375 26.953125 \nQ 35.25 24.703125 29.984375 24.703125 \nQ 19.046875 24.703125 12.671875 31.3125 \nQ 6.296875 37.9375 6.296875 49.421875 \nQ 6.296875 60.640625 12.9375 67.421875 \nQ 19.578125 74.21875 30.609375 74.21875 \nQ 43.265625 74.21875 49.921875 64.515625 \nQ 56.59375 54.828125 56.59375 36.375 \nQ 56.59375 19.140625 48.40625 8.859375 \nQ 40.234375 -1.421875 26.421875 -1.421875 \nQ 22.703125 -1.421875 18.890625 -0.6875 \nQ 15.09375 0.046875 10.984375 1.515625 \nz\nM 30.609375 32.421875 \nQ 37.25 32.421875 41.125 36.953125 \nQ 45.015625 41.5 45.015625 49.421875 \nQ 45.015625 57.28125 41.125 61.84375 \nQ 37.25 66.40625 30.609375 66.40625 \nQ 23.96875 66.40625 20.09375 61.84375 \nQ 16.21875 57.28125 16.21875 49.421875 \nQ 16.21875 41.5 20.09375 36.953125 \nQ 23.96875 32.421875 30.609375 32.421875 \nz\n\" id=\"DejaVuSans-57\"/>\n       <path d=\"M 8.203125 72.90625 \nL 55.078125 72.90625 \nL 55.078125 68.703125 \nL 28.609375 0 \nL 18.3125 0 \nL 43.21875 64.59375 \nL 8.203125 64.59375 \nz\n\" id=\"DejaVuSans-55\"/>\n      </defs>\n      <use xlink:href=\"#DejaVuSans-65\"/>\n      <use x=\"68.408203\" xlink:href=\"#DejaVuSans-85\"/>\n      <use x=\"141.601562\" xlink:href=\"#DejaVuSans-67\"/>\n      <use x=\"211.425781\" xlink:href=\"#DejaVuSans-32\"/>\n      <use x=\"243.212891\" xlink:href=\"#DejaVuSans-61\"/>\n      <use x=\"327.001953\" xlink:href=\"#DejaVuSans-32\"/>\n      <use x=\"358.789062\" xlink:href=\"#DejaVuSans-48\"/>\n      <use x=\"422.412109\" xlink:href=\"#DejaVuSans-46\"/>\n      <use x=\"454.199219\" xlink:href=\"#DejaVuSans-57\"/>\n      <use x=\"517.822266\" xlink:href=\"#DejaVuSans-55\"/>\n     </g>\n    </g>\n   </g>\n  </g>\n </g>\n <defs>\n  <clipPath id=\"p9e244e3c9d\">\n   <rect height=\"217.44\" width=\"334.8\" x=\"43.78125\" y=\"7.2\"/>\n  </clipPath>\n </defs>\n</svg>\n",
      "image/png": "[encoded data removed]"
     },
     "metadata": {
      "needs_background": "light"
     }
    }
   ],
   "source": [
    "y_proba = logit_2_pipe.predict_proba(X_test)\n",
    "y_proba_df = pd.DataFrame(y_proba)\n",
    "y_proba_yes = y_proba_df[1]\n",
    "\n",
    "fpr, tpr, thresholds = roc_curve(y_test, y_proba_yes, pos_label='Yes')\n",
    "roc_auc = auc(fpr, tpr)\n",
    "display = RocCurveDisplay(fpr=fpr, tpr=tpr, roc_auc=roc_auc)\n",
    "display.plot()\n",
    "plt.show()"
   ]
  },
  {
   "source": [
    "## prédictions sur test.csv"
   ],
   "cell_type": "markdown",
   "metadata": {}
  },
  {
   "cell_type": "code",
   "execution_count": 20,
   "metadata": {},
   "outputs": [
    {
     "output_type": "execute_result",
     "data": {
      "text/plain": [
       "No     283\n",
       "Yes     87\n",
       "Name: AttritionPredict, dtype: int64"
      ]
     },
     "metadata": {},
     "execution_count": 20
    }
   ],
   "source": [
    "# Récupération des probabilités de départ\n",
    "test_proba = logit_2_pipe.predict_proba(test)\n",
    "# Modification du seuil\n",
    "test_proba_pred = logit_2_pipe.classes_[np.argmax(test_proba > threshold, axis=1)]\n",
    "\n",
    "test[\"AttritionPredict\"] = pd.Series(test_proba_pred)\n",
    "\n",
    "prob = pd.DataFrame(test_proba)\n",
    "test[\"AttritionScore\"] = prob[1]\n",
    "\n",
    "final = test[['EmployeeNumber', 'AttritionScore', 'AttritionPredict']]\n",
    "\n",
    "final.to_csv(\"test_predict.csv\")\n",
    "\n",
    "final[\"AttritionPredict\"].value_counts()"
   ]
  },
  {
   "cell_type": "code",
   "execution_count": 21,
   "metadata": {},
   "outputs": [
    {
     "output_type": "execute_result",
     "data": {
      "text/plain": [
       "   EmployeeNumber  AttritionScore AttritionPredict\n",
       "0               1        0.920216              Yes\n",
       "1               2        0.302807               No\n",
       "2               7        0.584931              Yes\n",
       "3               8        0.335488               No\n",
       "4              20        0.135680               No"
      ],
      "text/html": "<div>\n<style scoped>\n    .dataframe tbody tr th:only-of-type {\n        vertical-align: middle;\n    }\n\n    .dataframe tbody tr th {\n        vertical-align: top;\n    }\n\n    .dataframe thead th {\n        text-align: right;\n    }\n</style>\n<table border=\"1\" class=\"dataframe\">\n  <thead>\n    <tr style=\"text-align: right;\">\n      <th></th>\n      <th>EmployeeNumber</th>\n      <th>AttritionScore</th>\n      <th>AttritionPredict</th>\n    </tr>\n  </thead>\n  <tbody>\n    <tr>\n      <th>0</th>\n      <td>1</td>\n      <td>0.920216</td>\n      <td>Yes</td>\n    </tr>\n    <tr>\n      <th>1</th>\n      <td>2</td>\n      <td>0.302807</td>\n      <td>No</td>\n    </tr>\n    <tr>\n      <th>2</th>\n      <td>7</td>\n      <td>0.584931</td>\n      <td>Yes</td>\n    </tr>\n    <tr>\n      <th>3</th>\n      <td>8</td>\n      <td>0.335488</td>\n      <td>No</td>\n    </tr>\n    <tr>\n      <th>4</th>\n      <td>20</td>\n      <td>0.135680</td>\n      <td>No</td>\n    </tr>\n  </tbody>\n</table>\n</div>"
     },
     "metadata": {},
     "execution_count": 21
    }
   ],
   "source": [
    "final.head()"
   ]
  },
  {
   "source": [
    "Nous essayons de réduire au maximum le nombre de personnes qui ne seront pas détectés avant de quitter l'entreprise.\n",
    "\n",
    "On considère le taux de faux négatif plus important que le taux de faux positif.\n",
    "\n",
    "La taille optimale d'une session serait 87 personnes (groupe divisé en deux sessions)"
   ],
   "cell_type": "markdown",
   "metadata": {}
  },
  {
   "source": [
    "# RidgeClassifierCV"
   ],
   "cell_type": "markdown",
   "metadata": {}
  },
  {
   "cell_type": "code",
   "execution_count": 22,
   "metadata": {},
   "outputs": [
    {
     "output_type": "stream",
     "name": "stdout",
     "text": [
      "recall score (Yes) : 0.9333333333333333\nTrue Negatives  :  81\nFalse Positives :  14\nFalse Negatives :  1\nTrue Positives  :  14\n"
     ]
    }
   ],
   "source": [
    "\n",
    "ridge = RidgeClassifierCV(alphas=[0.1,10,100,450], class_weight=\"balanced\", normalize=True) \n",
    "\n",
    "ridge_pipe = Pipeline(steps=[\n",
    "    ('preprocessor',preprocessor),\n",
    "    ('model', ridge)]\n",
    ")\n",
    "\n",
    "_ = ridge_pipe.fit(X_train, y_train)\n",
    "\n",
    "ridge_pred = ridge_pipe.predict(X_test)\n",
    "show_results(y_test, ridge_pred)"
   ]
  },
  {
   "source": [
    "# LightGBM"
   ],
   "cell_type": "markdown",
   "metadata": {}
  },
  {
   "cell_type": "code",
   "execution_count": 23,
   "metadata": {},
   "outputs": [],
   "source": [
    "lgbm = LGBMClassifier(class_weight=\"balanced\")\n",
    "\n",
    "lgbm_pipe = Pipeline(steps=[\n",
    "    ('preprocessor',preprocessor),\n",
    "#    ('feature_select', feature_select),\n",
    "    ('model', lgbm)]\n",
    ")\n",
    "\n",
    "_ = lgbm_pipe.fit(X_train, y_train)"
   ]
  },
  {
   "cell_type": "code",
   "execution_count": 24,
   "metadata": {},
   "outputs": [
    {
     "output_type": "stream",
     "name": "stdout",
     "text": [
      "recall score (Yes) : 0.6666666666666666\nTrue Negatives  :  90\nFalse Positives :  5\nFalse Negatives :  5\nTrue Positives  :  10\n"
     ]
    }
   ],
   "source": [
    "lgbm_pred = lgbm_pipe.predict(X_test)\n",
    "\n",
    "show_results(y_test, lgbm_pred)"
   ]
  },
  {
   "cell_type": "code",
   "execution_count": 25,
   "metadata": {},
   "outputs": [],
   "source": [
    "lgbm_params = {\n",
    "    'boosting_type': ['gbdt', \"dart\", \"goss\"],\n",
    "    'learning_rate': [.1*i for i in range(1,5)],\n",
    "    'min_child_samples': [10*i for i in range(1,5)],\n",
    "    'num_leaves': [5*i for i in range(1,5)],\n",
    "    'objective': ['binary'],\n",
    "    'class_weight': [\"balanced\"]\n",
    "    }\n",
    "\n",
    "grid_lgbm = GridSearchCV(lgbm, param_grid=lgbm_params, scoring=make_scorer(recall_score))\n",
    "\n",
    "grid_lgbm_pipe = Pipeline(steps=[\n",
    "    ('preprocessor',preprocessor),\n",
    "    ('model', grid_lgbm)]\n",
    ")\n",
    "_ = grid_lgbm_pipe.fit(X_train, y_train)"
   ]
  },
  {
   "cell_type": "code",
   "execution_count": 26,
   "metadata": {},
   "outputs": [
    {
     "output_type": "stream",
     "name": "stdout",
     "text": [
      "recall score (Yes) : 0.8666666666666667\nTrue Negatives  :  85\nFalse Positives :  10\nFalse Negatives :  2\nTrue Positives  :  13\n"
     ]
    }
   ],
   "source": [
    "grid_lgbm_pred = grid_lgbm_pipe.predict(X_test)\n",
    "\n",
    "# best_params_ : {\n",
    "#  'boosting_type': 'gbdt',\n",
    "#  'class_weight': 'balanced',\n",
    "#  'learning_rate': 0.1,\n",
    "#  'min_child_samples': 10,\n",
    "#  'num_leaves': 5,\n",
    "#  'objective': 'binary'}\n",
    "show_results(y_test, grid_lgbm_pred)"
   ]
  },
  {
   "source": [
    "# DecisionTreeClassifier"
   ],
   "cell_type": "markdown",
   "metadata": {}
  },
  {
   "cell_type": "code",
   "execution_count": 27,
   "metadata": {},
   "outputs": [],
   "source": [
    "model = DecisionTreeClassifier(class_weight='balanced', random_state=0)\n",
    "\n",
    "tree_pipeline = Pipeline(steps=[\n",
    "    ('preprocessor',preprocessor),\n",
    "    ('model', model)]\n",
    ")\n",
    "\n",
    "_ = tree_pipeline.fit(X_train, y_train)\n"
   ]
  },
  {
   "cell_type": "code",
   "execution_count": 28,
   "metadata": {},
   "outputs": [
    {
     "output_type": "stream",
     "name": "stdout",
     "text": [
      "recall score (Yes) : 0.6\nTrue Negatives  :  86\nFalse Positives :  9\nFalse Negatives :  6\nTrue Positives  :  9\n"
     ]
    }
   ],
   "source": [
    "tree_pred = tree_pipeline.predict(X_test)\n",
    "show_results(y_test, tree_pred)"
   ]
  },
  {
   "source": [
    "# GridSearchCV(RandomForest)"
   ],
   "cell_type": "markdown",
   "metadata": {}
  },
  {
   "cell_type": "code",
   "execution_count": 29,
   "metadata": {},
   "outputs": [],
   "source": [
    "model = RandomForestClassifier(class_weight='balanced',random_state=0)\n",
    "\n",
    "param_grid = { \n",
    "    'n_estimators': [100, 150, 200],\n",
    "    'min_samples_leaf' :[5, 10, 20]\n",
    "}\n",
    "cv_search = GridSearchCV(estimator=model, param_grid=param_grid, cv= 5, scoring=make_scorer(recall_score))\n",
    "\n",
    "rf_cv_pipeline = Pipeline(steps=[\n",
    "    ('preprocessor',preprocessor),\n",
    "    ('model', cv_search)],\n",
    ")\n",
    "\n",
    "_ = rf_cv_pipeline.fit(X_train, y_train)"
   ]
  },
  {
   "cell_type": "code",
   "execution_count": 30,
   "metadata": {},
   "outputs": [
    {
     "output_type": "stream",
     "name": "stdout",
     "text": [
      "recall score (Yes) : 0.5333333333333333\nTrue Negatives  :  89\nFalse Positives :  6\nFalse Negatives :  7\nTrue Positives  :  8\n"
     ]
    }
   ],
   "source": [
    "rf_pred = rf_cv_pipeline.predict(X_test)\n",
    "show_results(y_test, rf_pred)"
   ]
  },
  {
   "source": [
    "# BaggingClassifier"
   ],
   "cell_type": "markdown",
   "metadata": {}
  },
  {
   "cell_type": "code",
   "execution_count": 31,
   "metadata": {},
   "outputs": [
    {
     "output_type": "stream",
     "name": "stdout",
     "text": [
      "\n",
      "estimator : LogisticRegression(C=0.4, class_weight='balanced', penalty='l1',\n",
      "                   solver='liblinear')\n",
      "\n",
      "recall score (Yes) : 0.9333333333333333\n",
      "True Negatives  :  81\n",
      "False Positives :  14\n",
      "False Negatives :  1\n",
      "True Positives  :  14\n",
      "\n",
      "estimator : LGBMClassifier(class_weight='balanced')\n",
      "\n",
      "recall score (Yes) : 0.6\n",
      "True Negatives  :  93\n",
      "False Positives :  2\n",
      "False Negatives :  6\n",
      "True Positives  :  9\n",
      "\n",
      "estimator : GridSearchCV(estimator=LGBMClassifier(class_weight='balanced'),\n",
      "             param_grid={'boosting_type': ['gbdt', 'dart', 'goss'],\n",
      "                         'class_weight': ['balanced'],\n",
      "                         'learning_rate': [0.1, 0.2, 0.30000000000000004, 0.4],\n",
      "                         'min_child_samples': [10, 20, 30, 40],\n",
      "                         'num_leaves': [5, 10, 15, 20],\n",
      "                         'objective': ['binary']},\n",
      "             scoring=make_scorer(recall_score))\n",
      "\n",
      "recall score (Yes) : 0.8666666666666667\n",
      "True Negatives  :  86\n",
      "False Positives :  9\n",
      "False Negatives :  2\n",
      "True Positives  :  13\n",
      "\n",
      "estimator : RidgeClassifierCV(alphas=array([1.0e-01, 1.0e+01, 1.0e+02, 4.5e+02]),\n",
      "                  class_weight='balanced', normalize=True)\n",
      "\n",
      "recall score (Yes) : 0.9333333333333333\n",
      "True Negatives  :  84\n",
      "False Positives :  11\n",
      "False Negatives :  1\n",
      "True Positives  :  14\n"
     ]
    }
   ],
   "source": [
    "estimators = [\n",
    "    logit_2,\n",
    "    lgbm,\n",
    "    grid_lgbm,\n",
    "    ridge,\n",
    "]\n",
    "\n",
    "for estimator in estimators:\n",
    "\n",
    "    bag = BaggingClassifier(\n",
    "        base_estimator=estimator, random_state=1, n_jobs=-1\n",
    "    )\n",
    "\n",
    "    bag_pipe = Pipeline(steps=[\n",
    "        ('preprocessor',preprocessor),\n",
    "        ('model', bag)]\n",
    "    )\n",
    "\n",
    "    _ = bag_pipe.fit(X_train, y_train)\n",
    "\n",
    "    bag_pred = bag_pipe.predict(X_test)\n",
    "    print(f\"\\nestimator : {estimator}\\n\")\n",
    "    show_results(y_test, bag_pred)"
   ]
  },
  {
   "source": [
    "On remarque que le BaggingClassifier obtient des résultats au mieux égaux aux résultat des modèles vu précédemment. \n",
    "Il est possible que l'on soit passé à côté d'un paramètre clé."
   ],
   "cell_type": "markdown",
   "metadata": {}
  },
  {
   "source": [
    "# XGBClassifier"
   ],
   "cell_type": "markdown",
   "metadata": {}
  },
  {
   "cell_type": "code",
   "execution_count": 32,
   "metadata": {},
   "outputs": [],
   "source": [
    "model = XGBClassifier(random_state=0, learning_rate=0.02, objective='binary:hinge', booster='dart')\n",
    "\n",
    "xgb_pipeline = Pipeline(steps=[\n",
    "    ('preprocessor',preprocessor),\n",
    "    ('model', model)]\n",
    ")\n",
    "\n",
    "_ = xgb_pipeline.fit(X_train, y_train)"
   ]
  },
  {
   "cell_type": "code",
   "execution_count": 33,
   "metadata": {},
   "outputs": [
    {
     "output_type": "stream",
     "name": "stdout",
     "text": [
      "recall score (Yes) : 0.4\nTrue Negatives  :  94\nFalse Positives :  1\nFalse Negatives :  9\nTrue Positives  :  6\n"
     ]
    }
   ],
   "source": [
    "xgb_pred = xgb_pipeline.predict(X_test)\n",
    "show_results(y_test, xgb_pred)"
   ]
  },
  {
   "source": [
    "### Récapitulatif\n",
    "\n",
    "Plusieurs tailles ont été testé pour le split des données de test et d'entrainement. La taille de l'échantillon de test a été fixé à 10%, avec amélioration des prédictions tout en gardant un échantillon de test de taille suffisante.\n",
    "Cela est surement dut au fait que l'échantillon soit assez restreint.\n",
    "\n",
    "# Conclusion \n",
    "\n",
    "Après test de multiple modèles, il s'avère que le LogisticRegression est le modèle qui semble convenir le mieux à nos données."
   ],
   "cell_type": "markdown",
   "metadata": {}
  }
 ]
}