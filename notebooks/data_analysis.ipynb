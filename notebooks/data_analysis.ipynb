{
 "metadata": {
  "language_info": {
   "codemirror_mode": {
    "name": "ipython",
    "version": 3
   },
   "file_extension": ".py",
   "mimetype": "text/x-python",
   "name": "python",
   "nbconvert_exporter": "python",
   "pygments_lexer": "ipython3",
   "version": "3.8.0"
  },
  "orig_nbformat": 2,
  "kernelspec": {
   "name": "python38064bitenvconda7c0abff687ad460abebf8da8fd0e288c",
   "display_name": "Python 3.8.0 64-bit ('env': conda)"
  },
  "metadata": {
   "interpreter": {
    "hash": "23bdb88078bef7378c2a196fac28118cd008524d1d1a9a68293a79d57a878d32"
   }
  }
 },
 "nbformat": 4,
 "nbformat_minor": 2,
 "cells": [
  {
   "cell_type": "code",
   "execution_count": 48,
   "metadata": {},
   "outputs": [],
   "source": [
    "import sys\n",
    "sys.path.append(\"../src\")\n",
    "import warnings\n",
    "warnings.filterwarnings('ignore')  # \"error\", \"ignore\", \"always\", \"default\", \"module\" or \"once\"\n",
    "\n",
    "import pandas as pd\n",
    "import numpy as np\n",
    "\n",
    "from functions import show_results, get_df_uniques\n",
    "from sklearn.metrics import precision_score\n",
    "from sklearn.linear_model import LogisticRegression, RidgeClassifierCV, RidgeClassifier\n",
    "from sklearn.tree import DecisionTreeClassifier\n",
    "from sklearn.model_selection import train_test_split, GridSearchCV\n",
    "from sklearn.ensemble import AdaBoostClassifier, BaggingClassifier, RandomForestClassifier\n",
    "from sklearn.pipeline import Pipeline\n",
    "from sklearn.compose import ColumnTransformer\n",
    "from sklearn.preprocessing import OneHotEncoder\n",
    "from sklearn.metrics import recall_score, classification_report, make_scorer\n",
    "from sklearn.feature_selection import VarianceThreshold, SelectKBest, chi2\n",
    "from lightgbm import LGBMClassifier\n",
    "from xgboost import XGBClassifier\n",
    "\n",
    "\n",
    "train = pd.read_csv(\"../data/01_raw/attrition_train.csv\")\n",
    "test = pd.read_csv(\"../data/01_raw/attrition_test.csv\")\n",
    "test.drop([\"index1\"], axis=1, inplace=True)"
   ]
  },
  {
   "source": [
    "## Aperçu de la data"
   ],
   "cell_type": "markdown",
   "metadata": {}
  },
  {
   "cell_type": "code",
   "execution_count": 49,
   "metadata": {},
   "outputs": [
    {
     "output_type": "execute_result",
     "data": {
      "text/plain": [
       "   Age Attrition     BusinessTravel  DailyRate              Department  \\\n",
       "0   38        No  Travel_Frequently        240  Research & Development   \n",
       "1   52        No  Travel_Frequently        322  Research & Development   \n",
       "2   28        No         Non-Travel       1476  Research & Development   \n",
       "3   43        No      Travel_Rarely        920  Research & Development   \n",
       "4   27        No         Non-Travel        443  Research & Development   \n",
       "\n",
       "   DistanceFromHome  Education EducationField  EmployeeCount  EmployeeNumber  \\\n",
       "0                 2          4  Life Sciences              1             803   \n",
       "1                28          2        Medical              1            1401   \n",
       "2                 1          3  Life Sciences              1            1315   \n",
       "3                 3          3  Life Sciences              1            1255   \n",
       "4                 3          3        Medical              1             850   \n",
       "\n",
       "   ...  RelationshipSatisfaction StandardHours  StockOptionLevel  \\\n",
       "0  ...                         4            80                 0   \n",
       "1  ...                         2            80                 1   \n",
       "2  ...                         1            80                 3   \n",
       "3  ...                         2            80                 1   \n",
       "4  ...                         3            80                 3   \n",
       "\n",
       "   TotalWorkingYears  TrainingTimesLastYear WorkLifeBalance  YearsAtCompany  \\\n",
       "0                 17                      2               3              15   \n",
       "1                 24                      3               2               5   \n",
       "2                 10                      6               3               9   \n",
       "3                 25                      2               3               8   \n",
       "4                  0                      6               2               0   \n",
       "\n",
       "  YearsInCurrentRole  YearsSinceLastPromotion  YearsWithCurrManager  \n",
       "0                  7                        4                    12  \n",
       "1                  3                        0                     2  \n",
       "2                  8                        7                     5  \n",
       "3                  7                        0                     7  \n",
       "4                  0                        0                     0  \n",
       "\n",
       "[5 rows x 35 columns]"
      ],
      "text/html": "<div>\n<style scoped>\n    .dataframe tbody tr th:only-of-type {\n        vertical-align: middle;\n    }\n\n    .dataframe tbody tr th {\n        vertical-align: top;\n    }\n\n    .dataframe thead th {\n        text-align: right;\n    }\n</style>\n<table border=\"1\" class=\"dataframe\">\n  <thead>\n    <tr style=\"text-align: right;\">\n      <th></th>\n      <th>Age</th>\n      <th>Attrition</th>\n      <th>BusinessTravel</th>\n      <th>DailyRate</th>\n      <th>Department</th>\n      <th>DistanceFromHome</th>\n      <th>Education</th>\n      <th>EducationField</th>\n      <th>EmployeeCount</th>\n      <th>EmployeeNumber</th>\n      <th>...</th>\n      <th>RelationshipSatisfaction</th>\n      <th>StandardHours</th>\n      <th>StockOptionLevel</th>\n      <th>TotalWorkingYears</th>\n      <th>TrainingTimesLastYear</th>\n      <th>WorkLifeBalance</th>\n      <th>YearsAtCompany</th>\n      <th>YearsInCurrentRole</th>\n      <th>YearsSinceLastPromotion</th>\n      <th>YearsWithCurrManager</th>\n    </tr>\n  </thead>\n  <tbody>\n    <tr>\n      <th>0</th>\n      <td>38</td>\n      <td>No</td>\n      <td>Travel_Frequently</td>\n      <td>240</td>\n      <td>Research &amp; Development</td>\n      <td>2</td>\n      <td>4</td>\n      <td>Life Sciences</td>\n      <td>1</td>\n      <td>803</td>\n      <td>...</td>\n      <td>4</td>\n      <td>80</td>\n      <td>0</td>\n      <td>17</td>\n      <td>2</td>\n      <td>3</td>\n      <td>15</td>\n      <td>7</td>\n      <td>4</td>\n      <td>12</td>\n    </tr>\n    <tr>\n      <th>1</th>\n      <td>52</td>\n      <td>No</td>\n      <td>Travel_Frequently</td>\n      <td>322</td>\n      <td>Research &amp; Development</td>\n      <td>28</td>\n      <td>2</td>\n      <td>Medical</td>\n      <td>1</td>\n      <td>1401</td>\n      <td>...</td>\n      <td>2</td>\n      <td>80</td>\n      <td>1</td>\n      <td>24</td>\n      <td>3</td>\n      <td>2</td>\n      <td>5</td>\n      <td>3</td>\n      <td>0</td>\n      <td>2</td>\n    </tr>\n    <tr>\n      <th>2</th>\n      <td>28</td>\n      <td>No</td>\n      <td>Non-Travel</td>\n      <td>1476</td>\n      <td>Research &amp; Development</td>\n      <td>1</td>\n      <td>3</td>\n      <td>Life Sciences</td>\n      <td>1</td>\n      <td>1315</td>\n      <td>...</td>\n      <td>1</td>\n      <td>80</td>\n      <td>3</td>\n      <td>10</td>\n      <td>6</td>\n      <td>3</td>\n      <td>9</td>\n      <td>8</td>\n      <td>7</td>\n      <td>5</td>\n    </tr>\n    <tr>\n      <th>3</th>\n      <td>43</td>\n      <td>No</td>\n      <td>Travel_Rarely</td>\n      <td>920</td>\n      <td>Research &amp; Development</td>\n      <td>3</td>\n      <td>3</td>\n      <td>Life Sciences</td>\n      <td>1</td>\n      <td>1255</td>\n      <td>...</td>\n      <td>2</td>\n      <td>80</td>\n      <td>1</td>\n      <td>25</td>\n      <td>2</td>\n      <td>3</td>\n      <td>8</td>\n      <td>7</td>\n      <td>0</td>\n      <td>7</td>\n    </tr>\n    <tr>\n      <th>4</th>\n      <td>27</td>\n      <td>No</td>\n      <td>Non-Travel</td>\n      <td>443</td>\n      <td>Research &amp; Development</td>\n      <td>3</td>\n      <td>3</td>\n      <td>Medical</td>\n      <td>1</td>\n      <td>850</td>\n      <td>...</td>\n      <td>3</td>\n      <td>80</td>\n      <td>3</td>\n      <td>0</td>\n      <td>6</td>\n      <td>2</td>\n      <td>0</td>\n      <td>0</td>\n      <td>0</td>\n      <td>0</td>\n    </tr>\n  </tbody>\n</table>\n<p>5 rows × 35 columns</p>\n</div>"
     },
     "metadata": {},
     "execution_count": 49
    }
   ],
   "source": [
    "train.head()"
   ]
  },
  {
   "cell_type": "code",
   "execution_count": 50,
   "metadata": {},
   "outputs": [
    {
     "output_type": "execute_result",
     "data": {
      "text/plain": [
       "               Age    DailyRate  DistanceFromHome    Education  EmployeeCount  \\\n",
       "count  1100.000000  1100.000000       1100.000000  1100.000000         1100.0   \n",
       "mean     36.854545   804.234545          9.301818     2.907273            1.0   \n",
       "std       9.039229   405.583238          8.093392     1.012453            0.0   \n",
       "min      18.000000   102.000000          1.000000     1.000000            1.0   \n",
       "25%      30.000000   460.500000          2.000000     2.000000            1.0   \n",
       "50%      36.000000   805.000000          7.000000     3.000000            1.0   \n",
       "75%      42.250000  1162.000000         14.000000     4.000000            1.0   \n",
       "max      60.000000  1498.000000         29.000000     5.000000            1.0   \n",
       "\n",
       "       EmployeeNumber  EnvironmentSatisfaction   HourlyRate  JobInvolvement  \\\n",
       "count     1100.000000              1100.000000  1100.000000     1100.000000   \n",
       "mean      1026.404545                 2.730909    66.011818        2.707273   \n",
       "std        598.712521                 1.083564    20.374359        0.731298   \n",
       "min          4.000000                 1.000000    30.000000        1.000000   \n",
       "25%        494.750000                 2.000000    48.000000        2.000000   \n",
       "50%       1031.000000                 3.000000    66.000000        3.000000   \n",
       "75%       1543.250000                 4.000000    84.000000        3.000000   \n",
       "max       2065.000000                 4.000000   100.000000        4.000000   \n",
       "\n",
       "          JobLevel  ...  RelationshipSatisfaction  StandardHours  \\\n",
       "count  1100.000000  ...               1100.000000         1100.0   \n",
       "mean      2.064545  ...                  2.697273           80.0   \n",
       "std       1.115862  ...                  1.084338            0.0   \n",
       "min       1.000000  ...                  1.000000           80.0   \n",
       "25%       1.000000  ...                  2.000000           80.0   \n",
       "50%       2.000000  ...                  3.000000           80.0   \n",
       "75%       3.000000  ...                  4.000000           80.0   \n",
       "max       5.000000  ...                  4.000000           80.0   \n",
       "\n",
       "       StockOptionLevel  TotalWorkingYears  TrainingTimesLastYear  \\\n",
       "count       1100.000000        1100.000000            1100.000000   \n",
       "mean           0.785455          11.206364               2.780909   \n",
       "std            0.848575           7.784761               1.309377   \n",
       "min            0.000000           0.000000               0.000000   \n",
       "25%            0.000000           6.000000               2.000000   \n",
       "50%            1.000000           9.000000               3.000000   \n",
       "75%            1.000000          15.000000               3.000000   \n",
       "max            3.000000          38.000000               6.000000   \n",
       "\n",
       "       WorkLifeBalance  YearsAtCompany  YearsInCurrentRole  \\\n",
       "count      1100.000000     1100.000000         1100.000000   \n",
       "mean          2.780909        7.070000            4.250000   \n",
       "std           0.706269        6.147387            3.595094   \n",
       "min           1.000000        0.000000            0.000000   \n",
       "25%           2.000000        3.000000            2.000000   \n",
       "50%           3.000000        5.000000            3.000000   \n",
       "75%           3.000000        9.000000            7.000000   \n",
       "max           4.000000       37.000000           18.000000   \n",
       "\n",
       "       YearsSinceLastPromotion  YearsWithCurrManager  \n",
       "count              1100.000000           1100.000000  \n",
       "mean                  2.186364              4.199091  \n",
       "std                   3.234650              3.584848  \n",
       "min                   0.000000              0.000000  \n",
       "25%                   0.000000              2.000000  \n",
       "50%                   1.000000              3.000000  \n",
       "75%                   3.000000              7.000000  \n",
       "max                  15.000000             17.000000  \n",
       "\n",
       "[8 rows x 26 columns]"
      ],
      "text/html": "<div>\n<style scoped>\n    .dataframe tbody tr th:only-of-type {\n        vertical-align: middle;\n    }\n\n    .dataframe tbody tr th {\n        vertical-align: top;\n    }\n\n    .dataframe thead th {\n        text-align: right;\n    }\n</style>\n<table border=\"1\" class=\"dataframe\">\n  <thead>\n    <tr style=\"text-align: right;\">\n      <th></th>\n      <th>Age</th>\n      <th>DailyRate</th>\n      <th>DistanceFromHome</th>\n      <th>Education</th>\n      <th>EmployeeCount</th>\n      <th>EmployeeNumber</th>\n      <th>EnvironmentSatisfaction</th>\n      <th>HourlyRate</th>\n      <th>JobInvolvement</th>\n      <th>JobLevel</th>\n      <th>...</th>\n      <th>RelationshipSatisfaction</th>\n      <th>StandardHours</th>\n      <th>StockOptionLevel</th>\n      <th>TotalWorkingYears</th>\n      <th>TrainingTimesLastYear</th>\n      <th>WorkLifeBalance</th>\n      <th>YearsAtCompany</th>\n      <th>YearsInCurrentRole</th>\n      <th>YearsSinceLastPromotion</th>\n      <th>YearsWithCurrManager</th>\n    </tr>\n  </thead>\n  <tbody>\n    <tr>\n      <th>count</th>\n      <td>1100.000000</td>\n      <td>1100.000000</td>\n      <td>1100.000000</td>\n      <td>1100.000000</td>\n      <td>1100.0</td>\n      <td>1100.000000</td>\n      <td>1100.000000</td>\n      <td>1100.000000</td>\n      <td>1100.000000</td>\n      <td>1100.000000</td>\n      <td>...</td>\n      <td>1100.000000</td>\n      <td>1100.0</td>\n      <td>1100.000000</td>\n      <td>1100.000000</td>\n      <td>1100.000000</td>\n      <td>1100.000000</td>\n      <td>1100.000000</td>\n      <td>1100.000000</td>\n      <td>1100.000000</td>\n      <td>1100.000000</td>\n    </tr>\n    <tr>\n      <th>mean</th>\n      <td>36.854545</td>\n      <td>804.234545</td>\n      <td>9.301818</td>\n      <td>2.907273</td>\n      <td>1.0</td>\n      <td>1026.404545</td>\n      <td>2.730909</td>\n      <td>66.011818</td>\n      <td>2.707273</td>\n      <td>2.064545</td>\n      <td>...</td>\n      <td>2.697273</td>\n      <td>80.0</td>\n      <td>0.785455</td>\n      <td>11.206364</td>\n      <td>2.780909</td>\n      <td>2.780909</td>\n      <td>7.070000</td>\n      <td>4.250000</td>\n      <td>2.186364</td>\n      <td>4.199091</td>\n    </tr>\n    <tr>\n      <th>std</th>\n      <td>9.039229</td>\n      <td>405.583238</td>\n      <td>8.093392</td>\n      <td>1.012453</td>\n      <td>0.0</td>\n      <td>598.712521</td>\n      <td>1.083564</td>\n      <td>20.374359</td>\n      <td>0.731298</td>\n      <td>1.115862</td>\n      <td>...</td>\n      <td>1.084338</td>\n      <td>0.0</td>\n      <td>0.848575</td>\n      <td>7.784761</td>\n      <td>1.309377</td>\n      <td>0.706269</td>\n      <td>6.147387</td>\n      <td>3.595094</td>\n      <td>3.234650</td>\n      <td>3.584848</td>\n    </tr>\n    <tr>\n      <th>min</th>\n      <td>18.000000</td>\n      <td>102.000000</td>\n      <td>1.000000</td>\n      <td>1.000000</td>\n      <td>1.0</td>\n      <td>4.000000</td>\n      <td>1.000000</td>\n      <td>30.000000</td>\n      <td>1.000000</td>\n      <td>1.000000</td>\n      <td>...</td>\n      <td>1.000000</td>\n      <td>80.0</td>\n      <td>0.000000</td>\n      <td>0.000000</td>\n      <td>0.000000</td>\n      <td>1.000000</td>\n      <td>0.000000</td>\n      <td>0.000000</td>\n      <td>0.000000</td>\n      <td>0.000000</td>\n    </tr>\n    <tr>\n      <th>25%</th>\n      <td>30.000000</td>\n      <td>460.500000</td>\n      <td>2.000000</td>\n      <td>2.000000</td>\n      <td>1.0</td>\n      <td>494.750000</td>\n      <td>2.000000</td>\n      <td>48.000000</td>\n      <td>2.000000</td>\n      <td>1.000000</td>\n      <td>...</td>\n      <td>2.000000</td>\n      <td>80.0</td>\n      <td>0.000000</td>\n      <td>6.000000</td>\n      <td>2.000000</td>\n      <td>2.000000</td>\n      <td>3.000000</td>\n      <td>2.000000</td>\n      <td>0.000000</td>\n      <td>2.000000</td>\n    </tr>\n    <tr>\n      <th>50%</th>\n      <td>36.000000</td>\n      <td>805.000000</td>\n      <td>7.000000</td>\n      <td>3.000000</td>\n      <td>1.0</td>\n      <td>1031.000000</td>\n      <td>3.000000</td>\n      <td>66.000000</td>\n      <td>3.000000</td>\n      <td>2.000000</td>\n      <td>...</td>\n      <td>3.000000</td>\n      <td>80.0</td>\n      <td>1.000000</td>\n      <td>9.000000</td>\n      <td>3.000000</td>\n      <td>3.000000</td>\n      <td>5.000000</td>\n      <td>3.000000</td>\n      <td>1.000000</td>\n      <td>3.000000</td>\n    </tr>\n    <tr>\n      <th>75%</th>\n      <td>42.250000</td>\n      <td>1162.000000</td>\n      <td>14.000000</td>\n      <td>4.000000</td>\n      <td>1.0</td>\n      <td>1543.250000</td>\n      <td>4.000000</td>\n      <td>84.000000</td>\n      <td>3.000000</td>\n      <td>3.000000</td>\n      <td>...</td>\n      <td>4.000000</td>\n      <td>80.0</td>\n      <td>1.000000</td>\n      <td>15.000000</td>\n      <td>3.000000</td>\n      <td>3.000000</td>\n      <td>9.000000</td>\n      <td>7.000000</td>\n      <td>3.000000</td>\n      <td>7.000000</td>\n    </tr>\n    <tr>\n      <th>max</th>\n      <td>60.000000</td>\n      <td>1498.000000</td>\n      <td>29.000000</td>\n      <td>5.000000</td>\n      <td>1.0</td>\n      <td>2065.000000</td>\n      <td>4.000000</td>\n      <td>100.000000</td>\n      <td>4.000000</td>\n      <td>5.000000</td>\n      <td>...</td>\n      <td>4.000000</td>\n      <td>80.0</td>\n      <td>3.000000</td>\n      <td>38.000000</td>\n      <td>6.000000</td>\n      <td>4.000000</td>\n      <td>37.000000</td>\n      <td>18.000000</td>\n      <td>15.000000</td>\n      <td>17.000000</td>\n    </tr>\n  </tbody>\n</table>\n<p>8 rows × 26 columns</p>\n</div>"
     },
     "metadata": {},
     "execution_count": 50
    }
   ],
   "source": [
    "train.describe()"
   ]
  },
  {
   "source": [
    "## Traitement des données manquantes"
   ],
   "cell_type": "markdown",
   "metadata": {}
  },
  {
   "cell_type": "code",
   "execution_count": 51,
   "metadata": {},
   "outputs": [
    {
     "output_type": "stream",
     "name": "stdout",
     "text": [
      "train shape : (1100, 35)\nmissing values : 0\ntest shape : (370, 34)\nmissing values : 0\n"
     ]
    }
   ],
   "source": [
    "print(f\"train shape : {train.shape}\")\n",
    "print(f\"missing values : {train.isna().sum().sum()}\")\n",
    "#list(train.columns)\n",
    "\n",
    "print(f\"test shape : {test.shape}\")\n",
    "print(f\"missing values : {test.isna().sum().sum()}\")\n",
    "#list(test.columns)"
   ]
  },
  {
   "cell_type": "code",
   "execution_count": 52,
   "metadata": {},
   "outputs": [
    {
     "output_type": "execute_result",
     "data": {
      "text/plain": [
       "No     922\n",
       "Yes    178\n",
       "Name: Attrition, dtype: int64"
      ]
     },
     "metadata": {},
     "execution_count": 52
    }
   ],
   "source": [
    "train['Attrition'].value_counts()"
   ]
  },
  {
   "source": [
    "## Choix des colonnes (recherche de données pertinentes)"
   ],
   "cell_type": "markdown",
   "metadata": {}
  },
  {
   "cell_type": "code",
   "execution_count": 53,
   "metadata": {},
   "outputs": [],
   "source": [
    "#train.dtypes"
   ]
  },
  {
   "cell_type": "code",
   "execution_count": 54,
   "metadata": {},
   "outputs": [
    {
     "output_type": "execute_result",
     "data": {
      "text/plain": [
       "                    Features  Unique Number  \\\n",
       "0                        Age             43   \n",
       "1                  Attrition              2   \n",
       "2             BusinessTravel              3   \n",
       "3                  DailyRate            762   \n",
       "4                 Department              3   \n",
       "5           DistanceFromHome             29   \n",
       "6                  Education              5   \n",
       "7             EducationField              6   \n",
       "8              EmployeeCount              1   \n",
       "9             EmployeeNumber           1100   \n",
       "10   EnvironmentSatisfaction              4   \n",
       "11                    Gender              2   \n",
       "12                HourlyRate             71   \n",
       "13            JobInvolvement              4   \n",
       "14                  JobLevel              5   \n",
       "15                   JobRole              9   \n",
       "16           JobSatisfaction              4   \n",
       "17             MaritalStatus              3   \n",
       "18             MonthlyIncome           1028   \n",
       "19               MonthlyRate           1076   \n",
       "20        NumCompaniesWorked             10   \n",
       "21                    Over18              1   \n",
       "22                  OverTime              2   \n",
       "23         PercentSalaryHike             15   \n",
       "24         PerformanceRating              2   \n",
       "25  RelationshipSatisfaction              4   \n",
       "26             StandardHours              1   \n",
       "27          StockOptionLevel              4   \n",
       "28         TotalWorkingYears             39   \n",
       "29     TrainingTimesLastYear              7   \n",
       "30           WorkLifeBalance              4   \n",
       "31            YearsAtCompany             35   \n",
       "32        YearsInCurrentRole             18   \n",
       "33   YearsSinceLastPromotion             16   \n",
       "34      YearsWithCurrManager             18   \n",
       "\n",
       "                                               Values  \n",
       "0   [38, 52, 28, 43, 27, 37, 29, 36, 55, 40, 57, 3...  \n",
       "1                                           [No, Yes]  \n",
       "2      [Travel_Frequently, Non-Travel, Travel_Rarely]  \n",
       "3   [240, 322, 1476, 920, 443, 309, 459, 566, 1229...  \n",
       "4    [Research & Development, Sales, Human Resources]  \n",
       "5   [2, 28, 1, 3, 10, 24, 18, 4, 20, 6, 26, 12, 23...  \n",
       "6                                     [4, 2, 3, 1, 5]  \n",
       "7   [Life Sciences, Medical, Human Resources, Othe...  \n",
       "8                                                 [1]  \n",
       "9   [803, 1401, 1315, 1255, 850, 1105, 1868, 407, ...  \n",
       "10                                       [1, 4, 3, 2]  \n",
       "11                                     [Female, Male]  \n",
       "12  [75, 59, 55, 96, 50, 88, 73, 81, 30, 86, 93, 7...  \n",
       "13                                       [4, 1, 3, 2]  \n",
       "14                                    [2, 4, 5, 1, 3]  \n",
       "15  [Manufacturing Director, Laboratory Technician...  \n",
       "16                                       [1, 3, 4, 2]  \n",
       "17                        [Single, Married, Divorced]  \n",
       "18  [5980, 13247, 6674, 19740, 1706, 6694, 2439, 3...  \n",
       "19  [26085, 9731, 16392, 18625, 16571, 24223, 1475...  \n",
       "20                     [6, 2, 0, 3, 1, 4, 5, 7, 9, 8]  \n",
       "21                                                [Y]  \n",
       "22                                          [Yes, No]  \n",
       "23  [12, 11, 14, 24, 18, 16, 20, 23, 19, 13, 21, 2...  \n",
       "24                                             [3, 4]  \n",
       "25                                       [4, 2, 1, 3]  \n",
       "26                                               [80]  \n",
       "27                                       [0, 1, 3, 2]  \n",
       "28  [17, 24, 10, 25, 0, 8, 1, 4, 5, 13, 15, 18, 16...  \n",
       "29                              [2, 3, 6, 5, 0, 4, 1]  \n",
       "30                                       [3, 2, 1, 4]  \n",
       "31  [15, 5, 9, 8, 0, 1, 3, 4, 12, 2, 13, 16, 14, 2...  \n",
       "32  [7, 3, 8, 0, 2, 9, 11, 10, 12, 4, 6, 1, 14, 15...  \n",
       "33  [4, 0, 7, 1, 2, 11, 3, 6, 5, 8, 15, 12, 14, 9,...  \n",
       "34  [12, 2, 5, 7, 0, 3, 8, 4, 14, 1, 9, 6, 17, 16,...  "
      ],
      "text/html": "<div>\n<style scoped>\n    .dataframe tbody tr th:only-of-type {\n        vertical-align: middle;\n    }\n\n    .dataframe tbody tr th {\n        vertical-align: top;\n    }\n\n    .dataframe thead th {\n        text-align: right;\n    }\n</style>\n<table border=\"1\" class=\"dataframe\">\n  <thead>\n    <tr style=\"text-align: right;\">\n      <th></th>\n      <th>Features</th>\n      <th>Unique Number</th>\n      <th>Values</th>\n    </tr>\n  </thead>\n  <tbody>\n    <tr>\n      <th>0</th>\n      <td>Age</td>\n      <td>43</td>\n      <td>[38, 52, 28, 43, 27, 37, 29, 36, 55, 40, 57, 3...</td>\n    </tr>\n    <tr>\n      <th>1</th>\n      <td>Attrition</td>\n      <td>2</td>\n      <td>[No, Yes]</td>\n    </tr>\n    <tr>\n      <th>2</th>\n      <td>BusinessTravel</td>\n      <td>3</td>\n      <td>[Travel_Frequently, Non-Travel, Travel_Rarely]</td>\n    </tr>\n    <tr>\n      <th>3</th>\n      <td>DailyRate</td>\n      <td>762</td>\n      <td>[240, 322, 1476, 920, 443, 309, 459, 566, 1229...</td>\n    </tr>\n    <tr>\n      <th>4</th>\n      <td>Department</td>\n      <td>3</td>\n      <td>[Research &amp; Development, Sales, Human Resources]</td>\n    </tr>\n    <tr>\n      <th>5</th>\n      <td>DistanceFromHome</td>\n      <td>29</td>\n      <td>[2, 28, 1, 3, 10, 24, 18, 4, 20, 6, 26, 12, 23...</td>\n    </tr>\n    <tr>\n      <th>6</th>\n      <td>Education</td>\n      <td>5</td>\n      <td>[4, 2, 3, 1, 5]</td>\n    </tr>\n    <tr>\n      <th>7</th>\n      <td>EducationField</td>\n      <td>6</td>\n      <td>[Life Sciences, Medical, Human Resources, Othe...</td>\n    </tr>\n    <tr>\n      <th>8</th>\n      <td>EmployeeCount</td>\n      <td>1</td>\n      <td>[1]</td>\n    </tr>\n    <tr>\n      <th>9</th>\n      <td>EmployeeNumber</td>\n      <td>1100</td>\n      <td>[803, 1401, 1315, 1255, 850, 1105, 1868, 407, ...</td>\n    </tr>\n    <tr>\n      <th>10</th>\n      <td>EnvironmentSatisfaction</td>\n      <td>4</td>\n      <td>[1, 4, 3, 2]</td>\n    </tr>\n    <tr>\n      <th>11</th>\n      <td>Gender</td>\n      <td>2</td>\n      <td>[Female, Male]</td>\n    </tr>\n    <tr>\n      <th>12</th>\n      <td>HourlyRate</td>\n      <td>71</td>\n      <td>[75, 59, 55, 96, 50, 88, 73, 81, 30, 86, 93, 7...</td>\n    </tr>\n    <tr>\n      <th>13</th>\n      <td>JobInvolvement</td>\n      <td>4</td>\n      <td>[4, 1, 3, 2]</td>\n    </tr>\n    <tr>\n      <th>14</th>\n      <td>JobLevel</td>\n      <td>5</td>\n      <td>[2, 4, 5, 1, 3]</td>\n    </tr>\n    <tr>\n      <th>15</th>\n      <td>JobRole</td>\n      <td>9</td>\n      <td>[Manufacturing Director, Laboratory Technician...</td>\n    </tr>\n    <tr>\n      <th>16</th>\n      <td>JobSatisfaction</td>\n      <td>4</td>\n      <td>[1, 3, 4, 2]</td>\n    </tr>\n    <tr>\n      <th>17</th>\n      <td>MaritalStatus</td>\n      <td>3</td>\n      <td>[Single, Married, Divorced]</td>\n    </tr>\n    <tr>\n      <th>18</th>\n      <td>MonthlyIncome</td>\n      <td>1028</td>\n      <td>[5980, 13247, 6674, 19740, 1706, 6694, 2439, 3...</td>\n    </tr>\n    <tr>\n      <th>19</th>\n      <td>MonthlyRate</td>\n      <td>1076</td>\n      <td>[26085, 9731, 16392, 18625, 16571, 24223, 1475...</td>\n    </tr>\n    <tr>\n      <th>20</th>\n      <td>NumCompaniesWorked</td>\n      <td>10</td>\n      <td>[6, 2, 0, 3, 1, 4, 5, 7, 9, 8]</td>\n    </tr>\n    <tr>\n      <th>21</th>\n      <td>Over18</td>\n      <td>1</td>\n      <td>[Y]</td>\n    </tr>\n    <tr>\n      <th>22</th>\n      <td>OverTime</td>\n      <td>2</td>\n      <td>[Yes, No]</td>\n    </tr>\n    <tr>\n      <th>23</th>\n      <td>PercentSalaryHike</td>\n      <td>15</td>\n      <td>[12, 11, 14, 24, 18, 16, 20, 23, 19, 13, 21, 2...</td>\n    </tr>\n    <tr>\n      <th>24</th>\n      <td>PerformanceRating</td>\n      <td>2</td>\n      <td>[3, 4]</td>\n    </tr>\n    <tr>\n      <th>25</th>\n      <td>RelationshipSatisfaction</td>\n      <td>4</td>\n      <td>[4, 2, 1, 3]</td>\n    </tr>\n    <tr>\n      <th>26</th>\n      <td>StandardHours</td>\n      <td>1</td>\n      <td>[80]</td>\n    </tr>\n    <tr>\n      <th>27</th>\n      <td>StockOptionLevel</td>\n      <td>4</td>\n      <td>[0, 1, 3, 2]</td>\n    </tr>\n    <tr>\n      <th>28</th>\n      <td>TotalWorkingYears</td>\n      <td>39</td>\n      <td>[17, 24, 10, 25, 0, 8, 1, 4, 5, 13, 15, 18, 16...</td>\n    </tr>\n    <tr>\n      <th>29</th>\n      <td>TrainingTimesLastYear</td>\n      <td>7</td>\n      <td>[2, 3, 6, 5, 0, 4, 1]</td>\n    </tr>\n    <tr>\n      <th>30</th>\n      <td>WorkLifeBalance</td>\n      <td>4</td>\n      <td>[3, 2, 1, 4]</td>\n    </tr>\n    <tr>\n      <th>31</th>\n      <td>YearsAtCompany</td>\n      <td>35</td>\n      <td>[15, 5, 9, 8, 0, 1, 3, 4, 12, 2, 13, 16, 14, 2...</td>\n    </tr>\n    <tr>\n      <th>32</th>\n      <td>YearsInCurrentRole</td>\n      <td>18</td>\n      <td>[7, 3, 8, 0, 2, 9, 11, 10, 12, 4, 6, 1, 14, 15...</td>\n    </tr>\n    <tr>\n      <th>33</th>\n      <td>YearsSinceLastPromotion</td>\n      <td>16</td>\n      <td>[4, 0, 7, 1, 2, 11, 3, 6, 5, 8, 15, 12, 14, 9,...</td>\n    </tr>\n    <tr>\n      <th>34</th>\n      <td>YearsWithCurrManager</td>\n      <td>18</td>\n      <td>[12, 2, 5, 7, 0, 3, 8, 4, 14, 1, 9, 6, 17, 16,...</td>\n    </tr>\n  </tbody>\n</table>\n</div>"
     },
     "metadata": {},
     "execution_count": 54
    }
   ],
   "source": [
    "get_df_uniques(train)"
   ]
  },
  {
   "source": [
    "On peut voir 3 colonnes qui ont seulement 1 valeur\n",
    "EmployeeCount, Over18 et StandardHours\n",
    "On pourra donc drop ces col (tâche efféctué dans le pipe preprocessing)"
   ],
   "cell_type": "markdown",
   "metadata": {}
  },
  {
   "source": [
    "## Choix des features"
   ],
   "cell_type": "markdown",
   "metadata": {}
  },
  {
   "cell_type": "code",
   "execution_count": 55,
   "metadata": {},
   "outputs": [],
   "source": [
    "y = train[\"Attrition\"]\n",
    "X = train.drop([\"Attrition\"], axis=1)"
   ]
  },
  {
   "source": [
    "## Gestion des différents types de variables"
   ],
   "cell_type": "markdown",
   "metadata": {}
  },
  {
   "cell_type": "code",
   "execution_count": 56,
   "metadata": {},
   "outputs": [],
   "source": [
    "cat_cols = X.select_dtypes(include=\"O\").columns\n",
    "num_cols = X.select_dtypes(exclude=\"O\").columns\n"
   ]
  },
  {
   "source": [
    "## Séparation des sets d'entrainement et de test"
   ],
   "cell_type": "markdown",
   "metadata": {}
  },
  {
   "cell_type": "code",
   "execution_count": 57,
   "metadata": {},
   "outputs": [],
   "source": [
    "X_train, X_test, y_train, y_test = train_test_split(X, y, test_size=.1, random_state=1)"
   ]
  },
  {
   "source": [
    "## Création des pipelines\n",
    "### Preprocessing\n",
    "OneHot encoding des variables catégorielles.\n",
    "\n",
    "Pas d'utilisation de SimpleImputer ici, car il n'y a pas de valeurs manquantes."
   ],
   "cell_type": "markdown",
   "metadata": {}
  },
  {
   "cell_type": "code",
   "execution_count": 58,
   "metadata": {},
   "outputs": [],
   "source": [
    "cat_trans = OneHotEncoder()\n",
    "\n",
    "preprocessor = ColumnTransformer(\n",
    "    transformers=[\n",
    "        ('cat', cat_trans, cat_cols)\n",
    "    ])"
   ]
  },
  {
   "source": [
    "### Feature selection\n",
    "\n",
    "SelectKBest garde les colonnes les plus pertinentes selon l'algorithme donné (ici chi2)\n"
   ],
   "cell_type": "markdown",
   "metadata": {}
  },
  {
   "cell_type": "code",
   "execution_count": 59,
   "metadata": {},
   "outputs": [],
   "source": [
    "kbest = SelectKBest(chi2, k=28)\n",
    "\n",
    "feature_select = Pipeline(steps=[\n",
    "    ('kbest', kbest)\n",
    "])"
   ]
  },
  {
   "source": [
    "# LogisticRegression\n",
    "La métrique utilisé ici pour évalué le modèle est le recall score. On considère que le plus important dans ce cas précis est de minimiser le nombre de faux négatifs.\n"
   ],
   "cell_type": "markdown",
   "metadata": {}
  },
  {
   "cell_type": "code",
   "execution_count": 25,
   "metadata": {},
   "outputs": [],
   "source": [
    "logit = LogisticRegression()\n",
    "\n",
    "logit_pipe = Pipeline(steps=[\n",
    "    ('preprocessor',preprocessor),\n",
    "    ('model', logit),\n",
    "    ('curve_pipe', curve_pipe)]\n",
    ")\n",
    "\n",
    "_ = logit_pipe.fit(X_train, y_train)"
   ]
  },
  {
   "cell_type": "code",
   "execution_count": 26,
   "metadata": {},
   "outputs": [
    {
     "output_type": "stream",
     "name": "stdout",
     "text": [
      "recall score (Yes) : 0.2\nTrue Negatives  :  92\nFalse Positives :  3\nFalse Negatives :  12\nTrue Positives  :  3\n"
     ]
    }
   ],
   "source": [
    "logit_pred = logit_pipe.predict(X_test)\n",
    "show_results(y_test, logit_pred)"
   ]
  },
  {
   "cell_type": "code",
   "execution_count": 27,
   "metadata": {},
   "outputs": [
    {
     "output_type": "stream",
     "name": "stdout",
     "text": [
      "Aperçu des autres métriques disponibles :\n\n              precision    recall  f1-score   support\n\n          No       0.88      0.97      0.92        95\n         Yes       0.50      0.20      0.29        15\n\n    accuracy                           0.86       110\n   macro avg       0.69      0.58      0.61       110\nweighted avg       0.83      0.86      0.84       110\n\n"
     ]
    }
   ],
   "source": [
    "print(\"Aperçu des autres métriques disponibles :\\n\")\n",
    "print(classification_report(y_test, logit_pred))"
   ]
  },
  {
   "source": [
    "## Amélioration du modèle\n",
    "La répartition des valeurs cibles (\"Yes\", \"No\"), n'étant pas équitable, l'utilisation du paramêtre class_weight=\"balanced\" s'avère nécessaire."
   ],
   "cell_type": "markdown",
   "metadata": {}
  },
  {
   "cell_type": "code",
   "execution_count": 28,
   "metadata": {},
   "outputs": [
    {
     "output_type": "stream",
     "name": "stdout",
     "text": [
      "Avec predict() : \n\nrecall score (Yes) : 0.9333333333333333\nTrue Negatives  :  77\nFalse Positives :  18\nFalse Negatives :  1\nTrue Positives  :  14\n\n\nAvec predict_proba() : \n(Threshold = 0.47)\n\nrecall score (Yes) : 0.9333333333333333\nTrue Negatives  :  79\nFalse Positives :  16\nFalse Negatives :  1\nTrue Positives  :  14\n"
     ]
    }
   ],
   "source": [
    "logit_2 = LogisticRegression(class_weight=\"balanced\")\n",
    "\n",
    "logit_2_pipe = Pipeline(steps=[\n",
    "    ('preprocessor',preprocessor),\n",
    "    ('feature_select', feature_select),\n",
    "    ('model', logit_2)]\n",
    ")\n",
    "\n",
    "_ = logit_2_pipe.fit(X_train, y_train)\n",
    "\n",
    "logit_2_pred = logit_2_pipe.predict(X_test)\n",
    "print('Avec predict() : \\n')\n",
    "show_results(y_test, logit_2_pred)\n",
    "print(\"\\n\")\n",
    "\n",
    "threshold = 0.47\n",
    "logit_proba = logit_2_pipe.predict_proba(X_test)\n",
    "logit_proba = logit_2_pipe.classes_[np.argmax(logit_proba > threshold, axis=1)]\n",
    "print(f'Avec predict_proba() : \\n(Threshold = {threshold})\\n')\n",
    "show_results(y_test, logit_proba)\n"
   ]
  },
  {
   "source": [
    "On remarque que l'utilisation de predict_proba avec une modification du seuil (ici 47% de probabilité nécessaire pour être classé \"Yes\" au lieu de 50%), n'améliore pas la métrique ciblée, mais cela réduit légérement le nombre de faux positifs."
   ],
   "cell_type": "markdown",
   "metadata": {}
  },
  {
   "source": [
    "## prédictions sur test.csv"
   ],
   "cell_type": "markdown",
   "metadata": {}
  },
  {
   "cell_type": "code",
   "execution_count": 29,
   "metadata": {},
   "outputs": [],
   "source": [
    "# Récupération des probabilités de départ\n",
    "test_proba = logit_2_pipe.predict_proba(test)\n",
    "# Modification du seuil pour la valeur \"Yes\" (47%)\n",
    "test_proba_pred = logit_2_pipe.classes_[np.argmax(test_proba > threshold, axis=1)]\n",
    "\n",
    "test[\"AttritionPredict\"] = pd.Series(test_proba_pred)\n",
    "\n",
    "prob = pd.DataFrame(test_proba)\n",
    "test[\"AttritionScore\"] = prob[1]\n",
    "\n",
    "final = test[['EmployeeNumber', 'AttritionScore', 'AttritionPredict']]\n",
    "\n",
    "final.to_csv(\"test_predict.csv\")"
   ]
  },
  {
   "cell_type": "code",
   "execution_count": 30,
   "metadata": {},
   "outputs": [
    {
     "output_type": "execute_result",
     "data": {
      "text/plain": [
       "   EmployeeNumber  AttritionScore AttritionPredict\n",
       "0               1        0.767207              Yes\n",
       "1               2        0.327577               No\n",
       "2               7        0.430666               No\n",
       "3               8        0.695021              Yes\n",
       "4              20        0.079354               No"
      ],
      "text/html": "<div>\n<style scoped>\n    .dataframe tbody tr th:only-of-type {\n        vertical-align: middle;\n    }\n\n    .dataframe tbody tr th {\n        vertical-align: top;\n    }\n\n    .dataframe thead th {\n        text-align: right;\n    }\n</style>\n<table border=\"1\" class=\"dataframe\">\n  <thead>\n    <tr style=\"text-align: right;\">\n      <th></th>\n      <th>EmployeeNumber</th>\n      <th>AttritionScore</th>\n      <th>AttritionPredict</th>\n    </tr>\n  </thead>\n  <tbody>\n    <tr>\n      <th>0</th>\n      <td>1</td>\n      <td>0.767207</td>\n      <td>Yes</td>\n    </tr>\n    <tr>\n      <th>1</th>\n      <td>2</td>\n      <td>0.327577</td>\n      <td>No</td>\n    </tr>\n    <tr>\n      <th>2</th>\n      <td>7</td>\n      <td>0.430666</td>\n      <td>No</td>\n    </tr>\n    <tr>\n      <th>3</th>\n      <td>8</td>\n      <td>0.695021</td>\n      <td>Yes</td>\n    </tr>\n    <tr>\n      <th>4</th>\n      <td>20</td>\n      <td>0.079354</td>\n      <td>No</td>\n    </tr>\n  </tbody>\n</table>\n</div>"
     },
     "metadata": {},
     "execution_count": 30
    }
   ],
   "source": [
    "final.head()"
   ]
  },
  {
   "cell_type": "code",
   "execution_count": 31,
   "metadata": {},
   "outputs": [
    {
     "output_type": "execute_result",
     "data": {
      "text/plain": [
       "No     258\n",
       "Yes    112\n",
       "Name: AttritionPredict, dtype: int64"
      ]
     },
     "metadata": {},
     "execution_count": 31
    }
   ],
   "source": [
    "final[\"AttritionPredict\"].value_counts()"
   ]
  },
  {
   "source": [
    "Nous essayons de réduire au maximum le nombre de personnes qui ne seront pas détectés avant de quitter l'entreprise.\n",
    "\n",
    "On considère le taux de faux négatif plus important que le taux de faux positif\n",
    "\n",
    "l'effectif sélectionné dépasse les 100 personnes, nous avons donc décidé que la taille optimale d'une session serait 56 personnes (groupe divisé en deux sessions)"
   ],
   "cell_type": "markdown",
   "metadata": {}
  },
  {
   "source": [
    "# LightGBM"
   ],
   "cell_type": "markdown",
   "metadata": {}
  },
  {
   "cell_type": "code",
   "execution_count": 32,
   "metadata": {},
   "outputs": [],
   "source": [
    "lgbm = LGBMClassifier(class_weight=\"balanced\")\n",
    "\n",
    "lgbm_pipe = Pipeline(steps=[\n",
    "    ('preprocessor',preprocessor),\n",
    "#    ('feature_select', feature_select),\n",
    "    ('model', lgbm)]\n",
    ")\n",
    "\n",
    "_ = lgbm_pipe.fit(X_train, y_train)"
   ]
  },
  {
   "cell_type": "code",
   "execution_count": 33,
   "metadata": {},
   "outputs": [
    {
     "output_type": "stream",
     "name": "stdout",
     "text": [
      "recall score (Yes) : 0.6\nTrue Negatives  :  72\nFalse Positives :  23\nFalse Negatives :  6\nTrue Positives  :  9\n"
     ]
    }
   ],
   "source": [
    "lgbm_pred = lgbm_pipe.predict(X_test)\n",
    "\n",
    "show_results(y_test, lgbm_pred)"
   ]
  },
  {
   "cell_type": "code",
   "execution_count": 34,
   "metadata": {},
   "outputs": [],
   "source": [
    "lgbm_params = {\n",
    "    'boosting_type': ['gbdt', \"dart\", \"goss\"],\n",
    "    'learning_rate': [.1*i for i in range(1,5)],\n",
    "    'min_child_samples': [10*i for i in range(1,5)],\n",
    "    'num_leaves': [5*i for i in range(1,5)],\n",
    "    'objective': ['binary'],\n",
    "    'class_weight': [\"balanced\"]\n",
    "    }\n",
    "\n",
    "grid_lgbm = GridSearchCV(lgbm, param_grid=lgbm_params, scoring=make_scorer(recall_score))\n",
    "\n",
    "grid_lgbm_pipe = Pipeline(steps=[\n",
    "    ('preprocessor',preprocessor),\n",
    "    ('feature_select', feature_select),\n",
    "    ('model', grid_lgbm)]\n",
    ")\n",
    "_ = grid_lgbm_pipe.fit(X_train, y_train)"
   ]
  },
  {
   "cell_type": "code",
   "execution_count": 35,
   "metadata": {},
   "outputs": [
    {
     "output_type": "stream",
     "name": "stdout",
     "text": [
      "recall score (Yes) : 0.6666666666666666\nTrue Negatives  :  82\nFalse Positives :  13\nFalse Negatives :  5\nTrue Positives  :  10\n"
     ]
    }
   ],
   "source": [
    "grid_lgbm_pred = grid_lgbm_pipe.predict(X_test)\n",
    "\n",
    "# best_params_ : {\n",
    "#     'boosting_type': 'gbdt',\n",
    "#     'class_weight': 'balanced',\n",
    "#     'learning_rate': 0.4,\n",
    "#     'min_child_samples': 20,\n",
    "#     'num_leaves': 15,\n",
    "#     'objective': 'binary'\n",
    "# }\n",
    "\n",
    "show_results(y_test, grid_lgbm_pred)"
   ]
  },
  {
   "source": [
    "# RidgeClassifierCV"
   ],
   "cell_type": "markdown",
   "metadata": {}
  },
  {
   "cell_type": "code",
   "execution_count": 36,
   "metadata": {},
   "outputs": [
    {
     "output_type": "stream",
     "name": "stdout",
     "text": [
      "recall score (Yes) : 0.9333333333333333\nTrue Negatives  :  77\nFalse Positives :  18\nFalse Negatives :  1\nTrue Positives  :  14\n"
     ]
    }
   ],
   "source": [
    "ridge = RidgeClassifierCV(class_weight=\"balanced\", scoring=make_scorer(recall_score)) \n",
    "\n",
    "ridge_pipe = Pipeline(steps=[\n",
    "    ('preprocessor',preprocessor),\n",
    "    ('feature_select', feature_select),\n",
    "    ('model', ridge)]\n",
    ")\n",
    "\n",
    "_ = ridge_pipe.fit(X_train, y_train)\n",
    "\n",
    "ridge_pred = ridge_pipe.predict(X_test)\n",
    "show_results(y_test, ridge_pred)"
   ]
  },
  {
   "source": [
    "# DecisionTreeClassifier"
   ],
   "cell_type": "markdown",
   "metadata": {}
  },
  {
   "cell_type": "code",
   "execution_count": 37,
   "metadata": {},
   "outputs": [],
   "source": [
    "model = DecisionTreeClassifier(class_weight='balanced', random_state=0)\n",
    "\n",
    "tree_pipeline = Pipeline(steps=[\n",
    "    ('preprocessor',preprocessor),\n",
    "    ('feature_select',feature_select),\n",
    "    ('model', model)]\n",
    ")\n",
    "\n",
    "_ = tree_pipeline.fit(X_train, y_train)\n"
   ]
  },
  {
   "cell_type": "code",
   "execution_count": 38,
   "metadata": {},
   "outputs": [
    {
     "output_type": "stream",
     "name": "stdout",
     "text": [
      "recall score (Yes) : 0.4666666666666667\nTrue Negatives  :  69\nFalse Positives :  26\nFalse Negatives :  8\nTrue Positives  :  7\n"
     ]
    }
   ],
   "source": [
    "tree_pred = tree_pipeline.predict(X_test)\n",
    "show_results(y_test, tree_pred)"
   ]
  },
  {
   "source": [
    "# GridSearchCV(RandomForest)"
   ],
   "cell_type": "markdown",
   "metadata": {}
  },
  {
   "cell_type": "code",
   "execution_count": 39,
   "metadata": {},
   "outputs": [],
   "source": [
    "model = RandomForestClassifier(class_weight='balanced',random_state=0)\n",
    "\n",
    "param_grid = { \n",
    "    'n_estimators': [100, 150, 200],\n",
    "    'min_samples_leaf' :[5, 10, 20]\n",
    "}\n",
    "cv_search = GridSearchCV(estimator=model, param_grid=param_grid, cv= 5, scoring=make_scorer(recall_score))\n",
    "\n",
    "rf_cv_pipeline = Pipeline(steps=[\n",
    "    ('preprocessor',preprocessor),\n",
    "    ('feature_select',feature_select),\n",
    "    ('model', cv_search)],\n",
    ")\n",
    "\n",
    "_ = rf_cv_pipeline.fit(X_train, y_train)"
   ]
  },
  {
   "cell_type": "code",
   "execution_count": 40,
   "metadata": {},
   "outputs": [
    {
     "output_type": "stream",
     "name": "stdout",
     "text": [
      "recall score (Yes) : 0.5333333333333333\nTrue Negatives  :  81\nFalse Positives :  14\nFalse Negatives :  7\nTrue Positives  :  8\n"
     ]
    }
   ],
   "source": [
    "rf_pred = rf_cv_pipeline.predict(X_test)\n",
    "show_results(y_test, rf_pred)"
   ]
  },
  {
   "source": [
    "# BaggingClassifier"
   ],
   "cell_type": "markdown",
   "metadata": {}
  },
  {
   "cell_type": "code",
   "execution_count": 41,
   "metadata": {},
   "outputs": [
    {
     "output_type": "stream",
     "name": "stdout",
     "text": [
      "\n",
      "estimator : LogisticRegression(class_weight='balanced')\n",
      "\n",
      "recall score (Yes) : 0.9333333333333333\n",
      "True Negatives  :  77\n",
      "False Positives :  18\n",
      "False Negatives :  1\n",
      "True Positives  :  14\n",
      "\n",
      "estimator : LGBMClassifier(class_weight='balanced')\n",
      "\n",
      "recall score (Yes) : 0.5333333333333333\n",
      "True Negatives  :  79\n",
      "False Positives :  16\n",
      "False Negatives :  7\n",
      "True Positives  :  8\n",
      "\n",
      "estimator : GridSearchCV(estimator=LGBMClassifier(class_weight='balanced'),\n",
      "             param_grid={'boosting_type': ['gbdt', 'dart', 'goss'],\n",
      "                         'class_weight': ['balanced'],\n",
      "                         'learning_rate': [0.1, 0.2, 0.30000000000000004, 0.4],\n",
      "                         'min_child_samples': [10, 20, 30, 40],\n",
      "                         'num_leaves': [5, 10, 15, 20],\n",
      "                         'objective': ['binary']},\n",
      "             scoring=make_scorer(recall_score))\n",
      "\n",
      "recall score (Yes) : 0.5333333333333333\n",
      "True Negatives  :  78\n",
      "False Positives :  17\n",
      "False Negatives :  7\n",
      "True Positives  :  8\n",
      "\n",
      "estimator : RidgeClassifierCV(alphas=array([ 0.1,  1. , 10. ]), class_weight='balanced',\n",
      "                  scoring=make_scorer(recall_score))\n",
      "\n",
      "recall score (Yes) : 0.9333333333333333\n",
      "True Negatives  :  77\n",
      "False Positives :  18\n",
      "False Negatives :  1\n",
      "True Positives  :  14\n"
     ]
    }
   ],
   "source": [
    "estimators = [\n",
    "    logit_2,\n",
    "    lgbm,\n",
    "    grid_lgbm,\n",
    "    ridge,\n",
    "]\n",
    "\n",
    "for estimator in estimators:\n",
    "\n",
    "    bag = BaggingClassifier(\n",
    "        base_estimator=estimator, random_state=1, n_jobs=-1\n",
    "    )\n",
    "\n",
    "    bag_pipe = Pipeline(steps=[\n",
    "        ('preprocessor',preprocessor),\n",
    "        ('feature_select', feature_select),\n",
    "        ('model', bag)]\n",
    "    )\n",
    "\n",
    "    _ = bag_pipe.fit(X_train, y_train)\n",
    "\n",
    "    bag_pred = bag_pipe.predict(X_test)\n",
    "    print(f\"\\nestimator : {estimator}\\n\")\n",
    "    show_results(y_test, bag_pred)"
   ]
  },
  {
   "source": [
    "On remarque que le BaggingClassifier obtient des résultats au mieux égaux aux résultat des modèles vu précédemment. \n",
    "Il est possible que l'on soit passé à côté d'un paramètre clé."
   ],
   "cell_type": "markdown",
   "metadata": {}
  },
  {
   "source": [
    "# XGBClassifier"
   ],
   "cell_type": "markdown",
   "metadata": {}
  },
  {
   "cell_type": "code",
   "execution_count": 42,
   "metadata": {},
   "outputs": [],
   "source": [
    "model = XGBClassifier(random_state=0, learning_rate=0.02, objective='binary:hinge', booster='dart')\n",
    "\n",
    "xgb_pipeline = Pipeline(steps=[\n",
    "    ('preprocessor',preprocessor),\n",
    "    ('feature_select',feature_select),\n",
    "    ('model', model)]\n",
    ")\n",
    "\n",
    "_ = xgb_pipeline.fit(X_train, y_train)"
   ]
  },
  {
   "cell_type": "code",
   "execution_count": 43,
   "metadata": {},
   "outputs": [
    {
     "output_type": "stream",
     "name": "stdout",
     "text": [
      "recall score (Yes) : 0.2\nTrue Negatives  :  88\nFalse Positives :  7\nFalse Negatives :  12\nTrue Positives  :  3\n"
     ]
    }
   ],
   "source": [
    "xgb_pred = xgb_pipeline.predict(X_test)\n",
    "show_results(y_test, xgb_pred)"
   ]
  },
  {
   "source": [
    "### Récapitulatif\n",
    "\n",
    "Plusieurs tailles ont été testé pour le split des données de test et d'entrainement. La taille de l'échantillon de test a été fixé à 10%, avec amélioration des prédictions tout en gardant un échantillon de test de taille suffisante.\n",
    "Cela est surement dut au fait que l'échantillon\n",
    "\n",
    "#### test_size = .25\n",
    "- LogisticRegression : 0.6904761904761905\n",
    "- LGBMClassifier     : 0.4523809523809524\n",
    "- GridsearchCV(lgbm) : 0.5952380952380952\n",
    "- RidgeClassifierCV  : 0.6190476190476191\n",
    "\n",
    "#### test_split = .2\n",
    "- LogisticRegression : 0.7941176470588235\n",
    "- LGBMClassifier     : 0.47058823529411764\n",
    "- GridsearchCV(lgbm) : 0.6470588235294118\n",
    "- RidgeClassifierCV  : 0.7352941176470589\n",
    "\n",
    "#### test_split = .1\n",
    "- LogisticRegression : 0.9333333333333333\n",
    "- LGBMClassifier     : 0.6\n",
    "- GridsearchCV(lgbm) : 0.53\n",
    "- RidgeClassifierCV  : 0.9333333333333333\n",
    "\n",
    "# Conclusion \n",
    "\n",
    "Après test de multiple modèles, il s'avère que la LogisticRegression est le modèle qui semble convenir le mieux à nos données. L'utilisation du predict_proba fait la différence avec le RidgeClassifierCV"
   ],
   "cell_type": "markdown",
   "metadata": {}
  }
 ]
}